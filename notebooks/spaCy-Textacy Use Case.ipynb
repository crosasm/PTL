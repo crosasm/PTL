{
 "cells": [
  {
   "cell_type": "markdown",
   "metadata": {},
   "source": [
    "# First approximation to a text classification pipeline with Python based modules"
   ]
  },
  {
   "cell_type": "markdown",
   "metadata": {},
   "source": [
    "The goal of this notebook is to present a common ensemble and execution of NLP text classification modules based in Python.\n",
    "\n",
    "This evaluation is inspired in a recognized Kaggle challenge of tumor classification.\n",
    "\n",
    "**Note:** From the current directory, create a 'datasets' folder at the same level of the notebook and decompresse training and test datasets available at 'compressed_datasets'.\n"
   ]
  },
  {
   "cell_type": "code",
   "execution_count": 1,
   "metadata": {},
   "outputs": [
    {
     "name": "stdout",
     "output_type": "stream",
     "text": [
      "/home/crosas/0.BSC2019/Projects/NLP/Encomienda/PTL/notebooks/datasets_test\n"
     ]
    }
   ],
   "source": [
    "import os\n",
    "import subprocess\n",
    "\n",
    "uncompressed_datasets = os.getcwd() + \"/datasets_test\"\n",
    "\n",
    "print(uncompressed_datasets)\n",
    "\n",
    "#Create folder for uncompressed datasets\n",
    "if not os.path.exists(uncompressed_datasets):\n",
    "    os.makedirs(uncompressed_datasets)\n"
   ]
  },
  {
   "cell_type": "code",
   "execution_count": 2,
   "metadata": {},
   "outputs": [],
   "source": [
    "loc_7z = \"/usr/bin/7zr\"\n",
    "compressed_datasets = os.getcwd() + \"/compressed_datasets\"\n"
   ]
  },
  {
   "cell_type": "markdown",
   "metadata": {},
   "source": [
    "- Extract Training Data into local folder"
   ]
  },
  {
   "cell_type": "code",
   "execution_count": 3,
   "metadata": {},
   "outputs": [
    {
     "data": {
      "text/plain": [
       "2"
      ]
     },
     "execution_count": 3,
     "metadata": {},
     "output_type": "execute_result"
    }
   ],
   "source": [
    "\n",
    "training_data_compressed = \"training_data.json.7z\"\n",
    "training_data = uncompressed_datasets + \"/\" + training_data_compressed[:-3]\n",
    "\n",
    "path_compressed = compressed_datasets + \"/\" + training_data_compressed\n",
    "\n",
    "\n",
    "extract_command = r'\"{}\" e \"{}\" -o\"{}\"'.format(loc_7z, path_compressed, uncompressed_datasets)\n",
    "\n",
    "subprocess.call(extract_command, shell=True)\n"
   ]
  },
  {
   "cell_type": "markdown",
   "metadata": {},
   "source": [
    "- Extract Test Data into local folder (it is also labelled, therefore will be included into the training set)"
   ]
  },
  {
   "cell_type": "code",
   "execution_count": 4,
   "metadata": {},
   "outputs": [
    {
     "data": {
      "text/plain": [
       "2"
      ]
     },
     "execution_count": 4,
     "metadata": {},
     "output_type": "execute_result"
    }
   ],
   "source": [
    "\n",
    "test_data_compressed = \"test_data.json.7z\"\n",
    "test_data = uncompressed_datasets + \"/\" + test_data_compressed[:-3]\n",
    "\n",
    "path_compressed = compressed_datasets + \"/\" + test_data_compressed\n",
    "\n",
    "extract_command = r'\"{}\" e \"{}\" -o\"{}\"'.format(loc_7z, path_compressed, uncompressed_datasets)\n",
    "subprocess.call(extract_command, shell=True)\n"
   ]
  },
  {
   "cell_type": "markdown",
   "metadata": {},
   "source": [
    "- Extract Data to be predicted into local folder"
   ]
  },
  {
   "cell_type": "code",
   "execution_count": 5,
   "metadata": {},
   "outputs": [
    {
     "data": {
      "text/plain": [
       "2"
      ]
     },
     "execution_count": 5,
     "metadata": {},
     "output_type": "execute_result"
    }
   ],
   "source": [
    "prediction_data_compressed = \"prediction_data.json.7z\"\n",
    "prediction_data = uncompressed_datasets + \"/\" + prediction_data_compressed[:-3]\n",
    "\n",
    "path_compressed = compressed_datasets + \"/\" + prediction_data_compressed\n",
    "\n",
    "extract_command = r'\"{}\" e \"{}\" -o\"{}\"'.format(loc_7z, path_compressed, uncompressed_datasets)\n",
    "subprocess.call(extract_command, shell=True)"
   ]
  },
  {
   "cell_type": "markdown",
   "metadata": {},
   "source": [
    "### 1.Read Input"
   ]
  },
  {
   "cell_type": "markdown",
   "metadata": {},
   "source": [
    "To read data we use Textacy (https://spacy.io/universe/project/textacy  or https://chartbeat-labs.github.io/textacy/ ). \n",
    "\n",
    "It is designed to be useful for pre and postprocessing."
   ]
  },
  {
   "cell_type": "code",
   "execution_count": 6,
   "metadata": {},
   "outputs": [
    {
     "name": "stdout",
     "output_type": "stream",
     "text": [
      "/home/crosas/0.BSC2019/Projects/NLP/Encomienda/PTL/notebooks/datasets_test/training_data.json\n",
      "/home/crosas/0.BSC2019/Projects/NLP/Encomienda/PTL/notebooks/datasets_test/test_data.json\n"
     ]
    }
   ],
   "source": [
    "import textacy\n",
    "\n",
    "print(training_data)\n",
    "training_records = textacy.io.read_json(training_data, lines=True)\n",
    "\n",
    "print(test_data)\n",
    "test_records = textacy.io.read_json(test_data, lines= True)"
   ]
  },
  {
   "cell_type": "markdown",
   "metadata": {},
   "source": [
    "### 2. List of Text and Labels"
   ]
  },
  {
   "cell_type": "markdown",
   "metadata": {},
   "source": [
    "Textacy provide a data structure to provide easy access to the data read.\n",
    "In this case, the training database is in json format. For each entry in the database there is a full-text [in english] and the corresponding label to the class identified."
   ]
  },
  {
   "cell_type": "code",
   "execution_count": 7,
   "metadata": {},
   "outputs": [
    {
     "name": "stdout",
     "output_type": "stream",
     "text": [
      "3682\n",
      "3682\n"
     ]
    }
   ],
   "source": [
    "X = []\n",
    "ylabels = []\n",
    "\n",
    "for training_record in training_records:\n",
    "    \n",
    "    X.append(training_record[\"text\"]) # the features we want to analyze\n",
    "    ylabels.append(training_record[\"class\"]) # the labels, or answers, we want to test against\n",
    "\n",
    "for test_record in test_records:\n",
    "    X.append(test_record[\"text\"])\n",
    "    ylabels.append(test_record[\"class\"])\n",
    "\n",
    "print(len(X))\n",
    "print(len(ylabels))\n"
   ]
  },
  {
   "cell_type": "markdown",
   "metadata": {},
   "source": [
    "#### 2.1 Create training and test sets from labelled data "
   ]
  },
  {
   "cell_type": "code",
   "execution_count": 8,
   "metadata": {},
   "outputs": [],
   "source": [
    "from sklearn.model_selection import train_test_split\n",
    "\n",
    "X_train, X_test, y_train, y_test = train_test_split(X, ylabels, test_size=0.3)"
   ]
  },
  {
   "cell_type": "markdown",
   "metadata": {},
   "source": [
    "#### 2.1 Tokenizing data with spaCy"
   ]
  },
  {
   "cell_type": "code",
   "execution_count": 9,
   "metadata": {},
   "outputs": [],
   "source": [
    "import string\n",
    "import spacy\n",
    "from spacy.lang.en.stop_words import STOP_WORDS\n",
    "from spacy.lang.en import English\n",
    "\n",
    "punctuations = string.punctuation\n",
    "\n",
    "nlp = spacy.load('en')\n",
    "stop_words = spacy.lang.en.stop_words.STOP_WORDS\n",
    "\n",
    "parser = English()\n",
    "\n",
    "def spacy_tokenizer(sentence):\n",
    "    mytokens = parser(sentence)\n",
    "    mytokens = [ word.lemma_.lower().strip() if word.lemma_ != \"-PRON-\" else word.lower_ for word in mytokens ]\n",
    "    mytokens = [ word for word in mytokens if word not in stop_words and word not in punctuations ]\n",
    "    # print(mytokens)\n",
    "    \n",
    "    return mytokens"
   ]
  },
  {
   "cell_type": "markdown",
   "metadata": {},
   "source": [
    "### 3. transforms(): Extract Noun Phrases from Text"
   ]
  },
  {
   "cell_type": "markdown",
   "metadata": {},
   "source": [
    "Custom transformer function"
   ]
  },
  {
   "cell_type": "code",
   "execution_count": 10,
   "metadata": {},
   "outputs": [],
   "source": [
    "from sklearn.base import TransformerMixin\n",
    "\n",
    "class predictors(TransformerMixin):\n",
    "    def transform(self, X, **transform_params):\n",
    "        # Cleaning Text\n",
    "        #for text in X:\n",
    "            # print(\"TEXT________________________________________\")\n",
    "            # print(text)\n",
    "        return [transform_text(text) for text in X]\n",
    "    \n",
    "    def fit(self, X, y=None, **fit_params):\n",
    "        return self\n",
    "    \n",
    "    def get_params(self, deep=True):\n",
    "        return {}\n",
    "\n",
    "def transform_text(text):\n",
    "    if (len(text)>1):\n",
    "        doc = textacy.make_spacy_doc((str(text), {\"class\": \"\"}))\n",
    "        nps = textacy.extract.noun_chunks(doc,\n",
    "                                          drop_determiners = True,\n",
    "                                          min_freq = 1)\n",
    "        doc_nps = [str(np).replace(' ','_') for np in nps]\n",
    "        nps = ' '.join(doc_nps) # because countvectorizer needs a string\n",
    "    else:\n",
    "        nps = ''\n",
    "    return (nps)"
   ]
  },
  {
   "cell_type": "markdown",
   "metadata": {},
   "source": [
    "### 4.Vectorizer (Bag of Words / TfIdf)"
   ]
  },
  {
   "cell_type": "code",
   "execution_count": 11,
   "metadata": {},
   "outputs": [],
   "source": [
    "from sklearn.feature_extraction.text import CountVectorizer, TfidfVectorizer\n",
    "\n",
    "bow_vector = CountVectorizer(tokenizer = spacy_tokenizer, ngram_range=(1,1))\n",
    "tfidf_vector = TfidfVectorizer(tokenizer = spacy_tokenizer)"
   ]
  },
  {
   "cell_type": "markdown",
   "metadata": {},
   "source": [
    "### 5. Classifier for Training (Logistic Regression)"
   ]
  },
  {
   "cell_type": "code",
   "execution_count": 12,
   "metadata": {},
   "outputs": [],
   "source": [
    "from sklearn.linear_model import LogisticRegression\n",
    "classifier = LogisticRegression(solver='newton-cg',multi_class='multinomial')"
   ]
  },
  {
   "cell_type": "markdown",
   "metadata": {},
   "source": [
    "### 6. Training Pipeline"
   ]
  },
  {
   "cell_type": "code",
   "execution_count": 14,
   "metadata": {},
   "outputs": [
    {
     "name": "stderr",
     "output_type": "stream",
     "text": [
      "/home/crosas/local/anaconda3/lib/python3.7/site-packages/sklearn/utils/optimize.py:203: ConvergenceWarning: newton-cg failed to converge. Increase the number of iterations.\n",
      "  \"number of iterations.\", ConvergenceWarning)\n"
     ]
    },
    {
     "data": {
      "text/plain": [
       "Pipeline(memory=None,\n",
       "     steps=[('cleaner', <__main__.predictors object at 0x7f9d28e3d6d8>), ('vectorizer', CountVectorizer(analyzer='word', binary=False, decode_error='strict',\n",
       "        dtype=<class 'numpy.int64'>, encoding='utf-8', input='content',\n",
       "        lowercase=True, max_df=1.0, max_features=None, min_df=1,\n",
       "        ng...ty='l2', random_state=None, solver='newton-cg',\n",
       "          tol=0.0001, verbose=0, warm_start=False))])"
      ]
     },
     "execution_count": 14,
     "metadata": {},
     "output_type": "execute_result"
    }
   ],
   "source": [
    "from sklearn.pipeline import Pipeline\n",
    "\n",
    "pipe = Pipeline([(\"cleaner\", predictors()),\n",
    "                ('vectorizer', bow_vector),\n",
    "                ('classifier', classifier)])\n",
    "\n",
    "pipe.fit(X_train,y_train)"
   ]
  },
  {
   "cell_type": "code",
   "execution_count": 15,
   "metadata": {},
   "outputs": [
    {
     "data": {
      "text/plain": [
       "['pipeUSECASE.joblib']"
      ]
     },
     "execution_count": 15,
     "metadata": {},
     "output_type": "execute_result"
    }
   ],
   "source": [
    "from joblib import dump\n",
    "\n",
    "dump(pipe, 'pipeUSECASE.joblib')"
   ]
  },
  {
   "cell_type": "markdown",
   "metadata": {},
   "source": [
    "## 7. Classification"
   ]
  },
  {
   "cell_type": "markdown",
   "metadata": {},
   "source": [
    "Read Test data"
   ]
  },
  {
   "cell_type": "code",
   "execution_count": 16,
   "metadata": {},
   "outputs": [],
   "source": [
    "from joblib import load\n",
    "pipes = load('pipeUSECASE.joblib')\n",
    "\n",
    "preds = pipe.predict(X_test)\n",
    "\n",
    "#print(\"results:\")\n",
    "#for (sample, pred) in zip(X_test, preds):\n",
    "#    print (sample, \":\", pred)\n",
    "\n"
   ]
  },
  {
   "cell_type": "markdown",
   "metadata": {},
   "source": [
    "### 8. Test fitting "
   ]
  },
  {
   "cell_type": "code",
   "execution_count": 24,
   "metadata": {},
   "outputs": [
    {
     "name": "stdout",
     "output_type": "stream",
     "text": [
      "Logistic Regression Accuracy (weighted):  0.604524886877828\n",
      "Logistic Regression Precision (weighted):  0.6090253559799256\n",
      "Logistic Regression Recall (weighted):  0.604524886877828\n",
      "Logistic Regression F1 score (weighted):  0.6045672925785044\n"
     ]
    }
   ],
   "source": [
    "from sklearn import metrics\n",
    "print(\"Logistic Regression Accuracy (weighted): \", metrics.accuracy_score(y_test, preds))\n",
    "print(\"Logistic Regression Precision (weighted): \", metrics.precision_score(y_test, preds,\n",
    "                                                                average='weighted'))\n",
    "print(\"Logistic Regression Recall (weighted): \", metrics.recall_score(y_test, preds,\n",
    "                                                          average='weighted'))\n",
    "print(\"Logistic Regression F1 score (weighted): \", metrics.f1_score(y_test, preds, \n",
    "                                                                    average='weighted'))\n"
   ]
  },
  {
   "cell_type": "markdown",
   "metadata": {},
   "source": [
    "***Questions***:\n",
    "\n",
    "1. How this can be executed in HPC, e.g. training a new model for the corpus?\n",
    "2. Is there a maximum lenght for the spacy object nlp?\n",
    "3. Can we use the Noun Phrase to clean the text?"
   ]
  }
 ],
 "metadata": {
  "kernelspec": {
   "display_name": "Python 3",
   "language": "python",
   "name": "python3"
  },
  "language_info": {
   "codemirror_mode": {
    "name": "ipython",
    "version": 3
   },
   "file_extension": ".py",
   "mimetype": "text/x-python",
   "name": "python",
   "nbconvert_exporter": "python",
   "pygments_lexer": "ipython3",
   "version": "3.7.3"
  }
 },
 "nbformat": 4,
 "nbformat_minor": 2
}
