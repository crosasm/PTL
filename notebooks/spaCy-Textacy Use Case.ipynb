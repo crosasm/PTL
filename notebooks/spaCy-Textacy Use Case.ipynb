{
 "cells": [
  {
   "cell_type": "markdown",
   "metadata": {},
   "source": [
    "***Read Input***        "
   ]
  },
  {
   "cell_type": "code",
   "execution_count": 3,
   "metadata": {},
   "outputs": [
    {
     "name": "stdout",
     "output_type": "stream",
     "text": [
      "===========================================================\n",
      "['Cyclin-dependent_kinases', 'CDKs', 'variety', 'fundamental_cellular_processes', 'CDK10', 'activating_cyclin', 'kinase_activity', 'Previous_work', 'CDK10', 'increases', 'ETS2', '(v-ets_erythroblastosis_virus', 'E26_oncogene_homolog_2)-driven_activation', 'MAPK_pathway', 'tamoxifen_resistance', 'cancer_cells', 'precise_mechanisms', 'ETS2_activity', 'more_generally_the_functions', 'CDK10', 'we', 'CDK10', 'cyclin-dependent_kinase', 'cyclin_M', 'activating_cyclin', 'Cyclin_M', 'orphan_cyclin', 'product', 'FAM58A', 'mutations', 'STAR_syndrome', 'human_developmental_anomaly', 'features', 'toe_syndactyly', 'anogenital_and_renal_malformations', 'We', 'STAR_syndrome-associated_cyclin_M_mutants', 'CDK10', 'Cyclin_M', 'phenocopies', 'c-Raf', 'tamoxifen_resistance', 'cancer_cells', 'CDK10/cyclin_M', 'ETS2', 'vitro', 'cells', 'it', 'ETS2_degradation', 'proteasome', 'ETS2_protein_levels', 'cells', 'STAR_patient', 'increase', 'cyclin_M_levels', 'results', 'additional_regulatory_mechanism', 'ETS2', 'key_roles', 'cancer', 'development', 'They', 'light', 'molecular_mechanisms_underlying_STAR_syndrome', 'Cyclin-dependent_kinases', 'CDKs', 'pivotal_role', 'control', 'number', 'fundamental_cellular_processes', 'human_genome', '21_genes', 'proteins', 'members', 'CDK_family', 'sequence_similarity', 'bona_fide_CDKs', 'cyclins', 'CDK10', 'two_CDKs', 'identified_cyclin_partner', 'knowledge_gap', 'exploration', 'biological_functions', 'CDK10', 'positive_cell_cycle_regulator', 'cells', 'tumor_suppressor', 'others', 'CDK10_interacts', 'ets', 'E26_oncogene_homolog', 'transcriptional_activity', 'unknown_mechanism', 'knockdown_derepresses', 'ETS2', 'expression', 'c-Raf_protein_kinase', 'MAPK_pathway', 'resistance', 'MCF7_cells', 'we', 'cyclin_M', 'product', 'FAM58A', 'binding_partner', 'Mutations', 'gene', 'absence', 'truncation', 'cyclin_M', 'STAR_syndrome', 'features', 'toe_syndactyly', 'anogenital_and_renal_malformations', 'heterozygous_females', 'both_the_functions', 'cyclin_M', 'pathogenesis', 'STAR_syndrome', 'We', 'recombinant_CDK10/cyclin_M_heterodimer', 'active_protein_kinase', 'ETS2', 'vitro', 'Cyclin_M', 'phenocopies', 'c-Raf_and_phospho-ERK_expression_levels', 'tamoxifen_resistance', 'estrogen_receptor', '(ER)+_breast_cancer_cells', 'We', 'CDK10/cyclin_M', 'ETS2_degradation', 'proteasome', 'phosphorylation', 'two_neighboring_serines', 'we', 'increased_ETS2_expression_level', 'cells', 'STAR_patient', 'we', 'it', 'decreased_cyclin_M_expression_level', 'cells', 'two-hybrid_(Y2H)_screen', 'interaction_signal', 'CDK10', 'mouse_protein', 'C-terminal_half', 'strong_sequence_homology', 'human_FAM58A_gene_product', 'proposed_name', 'cyclin_M', 'We', 'Y2H_mating_assays', 'human_CDK10', 'human_cyclin_M', '(Fig._1_A–C', 'longest_CDK10_isoform', 'P1', 'bait_protein', 'strong_interaction_phenotype', 'full-length_cyclin_M', 'prey_protein', 'detectable_phenotype', 'cyclin_D1', '(CIP1', 'Cdi1', '(KAP', 'binding_partners', 'other_CDKs', 'Fig', 'CDK1', 'CDK3', 'Y2H_signals', 'cyclin_M', 'CDK10', '(Fig', 'interaction_phenotype', 'full-length_cyclin_M_and_CDK10_proteins', 'bait', 'prey', 'We', 'different_isoforms', 'CDK10', 'cyclin_M', 'alternative_gene_splicing', 'two_truncated_cyclin_M_proteins', 'hypothetical_products', 'two_mutated_FAM58A_genes', 'STAR_syndrome_patients', 'None', 'shorter_isoforms', 'interaction_phenotypes', 'Fig', '1_A', 'C', 'Fig', 'S1A).Fig', '1.In', 'new_window_Download_PPTFig', 'cyclin_M', 'interaction_complex', '(A)_Schematic_representation', 'different_protein_isoforms', 'Y2H_assays', 'Amino_acid_numbers', 'Black_boxes', 'internal_deletions', 'red_box', 'differing_amino_acid_sequence', 'CDK10_P1', '(B', 'set', 'CDK_proteins', 'baits', 'fusion', 'LexA_DNA_binding_domain', 'CDK_interacting_proteins', 'preys', 'fusion', 'B42_transcriptional_activator', 'empty_bait', 'prey', 'LexA', 'B42', 'lacZ', 'reporter_gene', 'blue_yeast', 'Y2H_interaction_phenotype', '(C', 'Y2H_assay', 'different_CDK10', 'cyclin_M_isoforms', 'amino-terminal_region', 'ETS2', 'CDK10', 'Western_blot_analysis', 'Myc-CDK10_(wt', 'kd', 'CycM-V5-6His_expression_levels', 'transfected_HEK293_cells', '(E', 'Western_blot_analysis', 'Myc-CDK10_(wt_or_kd)_immunoprecipitates', 'anti-Myc_antibody', 'Inputs', '10_μg_total_lysates', 'HEK293_cells', 'Myc-CDK10_(wt', 'kd', 'CycM-V5-6His', '(F)_Western_blot_analysis', 'immunoprecipitates', 'anti-CDK10_antibody', 'control_goat_antibody', 'human_breast_cancer_MCF7_cells', '“', 'MCF7', 'lower_band', 'doublet', 'upper_panel', 'untagged_CDK10', 'upper_band', 'doublet', 'nonspecific_signal', 'it', 'overexpression', 'CDK10', 'left_lane', 'silencing', 'CDK10', '(Fig', 'S2B', 'experiment', 'longer_gel_migration', 'Fig', 'S1D.Next', 'we', 'ability', 'CDK10', 'cyclin_M', 'human_cells', 'We', 'wild-type', 'CDK10_(wt', 'kinase', 'D181A_amino_acid_substitution', 'ATP', 'We', 'cyclin', 'M-V5', '-6His', 'Myc-CDK10_(wt', 'kd', 'human_embryonic_kidney_cell_line', 'expression_level', 'cyclin_M-V5-6His', 'coexpression', 'Myc-CDK10_(wt', 'kd', 'lesser_extent', 'Myc-CDK10_(wt', 'kd', 'coexpression', 'cyclin_M-V5', '-6His', '(Fig', '._1D', 'We', 'Myc-CDK10_proteins', 'presence', 'cyclin_M', 'CDK10', 'proteins', '(Fig', 'We', 'observations', 'presence', 'Myc-CDK10', 'cyclin_M-V5-6His_immunoprecipitates', '(Fig._S1B', 'experiments', 'lack', 'robust_interaction', 'CDK10.P2_isoform', 'cyclin_M', '(Fig._S1C', 'interaction', 'endogenous_proteins', 'we', 'immunoprecipitations', 'nontransfected_MCF7_cells', 'human_breast_cancer', 'cyclin_M_antibodies', 'cognate_endogenous_proteins', 'Western_blotting', 'We', 'cyclin_M', 'immunoprecipitates', 'CDK10_antibody', 'control_antibody', 'Fig._1F', 'results', 'physical_interaction', 'CDK10', 'cyclin_M', 'human_cells', 'hypothesized_CDK10/cyclin_M_protein_kinase_activity', 'we', 'GST-CDK10', 'StrepII-cyclin_M_fusion_proteins', 'insect_cells', 'combination', 'We', 'GST-CDK10_and_StrepII-cyclin_M', 'interaction', 'yet_another_cellular_model', 'We', 'vitro_kinase_assays', 'purified_proteins', 'histone_H1', 'generic_substrate', 'Histone_H1_phosphorylation', 'lysates', 'cells', 'GST-CDK10', 'StrepII-cyclin', 'M.', 'phosphorylation', 'GST-CDK10', 'StrepII-cyclin_M', 'StrepII-cyclin_M', '(Fig', 'we', 'ETS2', 'CDK10', '(Fig', 'phosphorylation_substrate', 'CDK10/cyclin_M.', 'We', 'strong_phosphorylation', 'ETS2', 'GST-CDK10/StrepII-cyclin_M', 'heterodimer', 'phosphorylation', 'GST-CDK10', 'GST', 'CDK10(kd)/StrepII', '-cyclin_M_heterodimer', '2.In', 'new_window_Download_PPTFig', 'cyclin_M-dependent_protein_kinase', '(A', 'vitro_protein_kinase', 'histone_H1', 'Lysates', 'insect_cells', 'different_proteins', 'glutathione_Sepharose_matrix', 'GST-CDK10(wt_or_kd)_fusion_proteins', 'complex', 'STR-CycM_fusion_protein', 'Purified_protein_expression_levels', 'Western_blots', 'Top', 'Upper_Middle', 'kinase_activity', 'autoradiography', 'histone_H1', 'added_amounts', 'Coomassie_staining', 'Lower_Middle', 'Bottom', '(B', 'A', 'purified_recombinant_6His-ETS2', 'substrate', 'CDK10_silencing', 'ETS2-driven_c-RAF_transcription', 'MAPK_pathway', 'We', 'cyclin_M', 'regulatory_pathway', 'highly_specific_silencing', 'we', 'siRNA_pools', 'mix', 'four_different_siRNAs', 'low_final_concentration', '10_nM', 'Both_CDK10', 'cyclin_M_siRNA_pools', 'expression', 'cognate_targets', 'Fig', '3_A', 'C', 'Fig._S2', 'cyclin_M_siRNA_pool', 'marked_decrease', 'CDK10_protein_level', 'Fig', '3A', 'Fig', 'S2B', 'results', 'Fig', '1D', 'cyclin_M', 'Cyclin_M', 'increase', 'c-Raf_protein', 'mRNA_levels', '(Fig._3_B', 'C', 'phosphorylated_ERK1_and_ERK2_protein_levels', 'Fig._S3B', 'CDK10', 'effects', 'cyclin_M', 'sensitivity', 'ER+_MCF7_cells', 'similar_extent', 'combined_silencing', 'genes', 'higher_resistance', 'drug', 'Fig._S3C', 'observations', 'functional_interaction', 'cyclin_M', 'CDK10', '3.In_a_new_window_Download_PPTFig', '3.Cyclin_M', '-regulates_c-Raf_expression', '(A)_Western_blot_analysis', 'endogenous_CDK10', 'and_cyclin_M_expression_levels', 'MCF7_cells', 'response', 'siRNA-mediated_gene', '(B', 'Western_blot_analysis', 'endogenous_c-Raf_expression_levels', 'MCF7_cells', 'response', 'CDK10', 'quantification', 'Fig', 'S3A.', '(C', 'Quantitative_RT-PCR_analysis', 'CDK10', 'cyclin_M', 'c-Raf_mRNA_levels', 'response', 'CDK10', '(Upper', 'P_≤', 'mechanism', 'CDK10/cyclin_M', 'ETS2', 'ETS2', 'short-lived_protein', 'proteasome', 'straightforward_hypothesis', 'CDK10/cyclin_M', 'ETS2_degradation', 'We', 'impact', 'CDK10', 'cyclin_M', 'ETS2_expression_levels', 'silencing', 'CDK10', 'cyclin_M', 'increase', 'expression_levels', 'exogenously_expressed_Flag-ETS2_protein', 'Fig._S4A', 'endogenous_ETS2_protein', '(Fig._4A', 'increase', 'ETS2_mRNA_levels', 'response', 'CDK10', 'cyclin_M', 'Fig._S4B', 'We', 'expression_levels', 'Flag-tagged_ETS2_protein', 'combination', 'Myc-CDK10', 'cyclin_M-V5-6His', 'Flag-ETS2', 'lesser_extent', 'CDK10(kd', 'expression_level', 'CDK10', 'CDK10', 'cyclin_M', '(Fig._4B', 'observations', 'endogenous_cyclin_M_levels', 'excess', 'CDK10', 'MCF7_cells', 'they', 'major_decrease', 'ETS2_levels', 'CDK10_coexpression', 'CDK10_kinase_activity', 'Treatment', 'cells', 'Flag-ETS2', 'cyclin_M', 'proteasome_inhibitor', 'MG132', 'Flag-ETS2_expression_levels', 'new_window_Download_PPTFig', 'M', 'ETS2_stability', 'human_cancer_derived_cells', 'endogenous_ETS2_expression_levels', 'MCF7_cells', 'response', 'quantification', 'Fig', 'S4B.', 'Western_blot_analysis', 'exogenously_expressed_Flag-ETS2_protein_levels', 'MCF7_cells', 'empty_vectors', 'Myc-CDK10_(wt', 'kd', 'Myc', 'CDK10/CycM-V5-6His', 'latter_cells', '16_h', 'MG132_proteasome_inhibitor', 'Proper_expression', 'CDK10', 'cyclin_M_tagged_proteins', 'Western_blot_analysis', '(C', 'D', 'Western_blot_analysis', 'expression_levels', 'Flag-ETS2_wild-type_or_mutant_proteins', 'MCF7_cells', 'absence', '(C', 'response', '(D', 'Myc-CDK10/CycM-V5-6His_expression', 'Quantifications', 'Fig', 'S4_C', 'D.A_mass_spectrometry_analysis', 'recombinant_ETS2', 'CDK10/cyclin_M', 'vitro', 'existence', 'multiple_phosphorylated_residues', 'two_neighboring_phospho-serines', 'positions', 'phosphodegron', '(Figs', 'finding', 'we', 'phosphorylation_level', 'recombinant_ETS2wt', 'ETS2SASA_protein', 'mutant_bearing_alanine_substitutions', 'two_serines', 'existence', 'multiple_phosphorylation_sites', 'we', 'small_but_reproducible,_significant_decrease', 'phosphorylation_level', 'ETS2SASA', 'ETS2wt_(Fig._S9', 'Ser220/Ser225', 'CDK10/cyclin_M.', 'direct_link', 'ETS2_phosphorylation', 'CDK10/cyclin_M', 'degradation', 'we', 'expression_levels', 'Flag-ETS2SASA', 'absence', 'CDK10/cyclin_M_coexpression', 'it', 'Flag-ETS2', 'Flag-ETS2DBM', 'deletion', 'N-terminal_destruction', 'D-)_box', 'APC-Cdh1–mediated_degradation', 'ETS2', '(Fig._4C', 'Flag-ETS2_wild_type', 'expression_level', 'Flag-ETS2SASA', 'CDK10/cyclin_M_coexpression', '(Fig._4D', 'results', 'CDK10/cyclin_M', 'ETS2_degradation', 'phosphorylation', 'two_serines', 'we', 'lymphoblastoid_cell_line', 'patient', 'STAR_syndrome', 'FAM58A_mutation', '1G>A', 'aberrant_splicing', 'accordance', 'incomplete_skewing', 'X_chromosome_inactivation', 'patient', 'we', 'decreased_expression_level', 'cyclin_M_protein', 'STAR_cell_line', 'control_lymphoblastoid_cell_line', 'line', 'preceding_observations', 'we', 'increased_expression_level', 'ETS2_protein', 'STAR_cell_line', 'control', 'Fig', '5A', 'Fig', 'S10A', 'We', 'quantitative_RT-PCR_the_mRNA_expression_levels', 'corresponding_genes', 'STAR_cell_line', 'decreased_expression_level', 'cyclin_M_mRNA', 'expression_level', 'ETS2_mRNA', 'control_cell_line', 'Fig', '5B', 'increase', 'ETS2_protein_expression', 'result', 'decreased_cyclin_M_expression', 'STAR_patient-derived_cell_line', 'we', 'cyclin_M-V5-6His', 'cell_line', 'expression', 'decrease', 'ETS2_protein_levels', 'Fig', '._5C).Fig', 'new_window_Download_PPTFig', '5.Decreased_cyclin_M_expression', 'STAR_patient-derived_cells', 'increased_ETS2_protein_level', '(A)_Western_blot_analysis', 'cyclin_M_and_ETS2_protein_levels', 'STAR_patient-derived_lymphoblastoid_cell_line', 'control_lymphoblastoid_cell_line', 'healthy_individual', 'quantification', 'Fig', 'S10A._(B', 'Quantitative_RT-PCR_analysis', 'cyclin_M_and_ETS2_mRNA_levels', 'same_cells', '*P', '≤', '(C', 'Western_blot_analysis', 'ETS2_protein_levels', 'STAR_patient-derived_lymphoblastoid_cell_line', 'empty_vector', 'vector', 'expression', 'cyclin_M-V5-6His', 'Western_blot', 'cyclin_M_levels', 'Fig', 'S10B.', 'quantification', 'ETS2_protein_levels', 'Fig', 'S10C.Previous_SectionNext', 'SectionDiscussionIn', 'work', 'we', 'interaction', 'CDK10', 'last_orphan_CDK', 'pregenomic_era', 'cyclin_M', 'only_cyclin', 'human_genetic_disease', 'functions', 'closest_paralogs', 'CDK10', 'CDK_family', 'CDK11_proteins', 'L-type_cyclins', 'closest_paralog', 'cyclins', 'cyclin_family', 'cyclin', 'M_(Fig', '._S11', 'fact', 'none', 'shorter_CDK10_isoforms', 'cyclin_M', 'alternative_splicing', 'CDK10_gene', 'important_role', 'CDK10_functions', 'functional_relevance', 'interaction', 'CDK10', 'cyclin_M', 'different_observations', 'proteins', 'other’s_stability', 'increased_expression_levels', 'partner', '(Fig._1D', 'much_reduced_endogenous_CDK10_expression_level', 'response', 'cyclin_M', 'Fig', '3A', 'Fig', 'S2B', 'ubiquitin-mediated_degradation', 'observations', 'cyclin_M', 'CDK10', 'such_degradation', 'it', 'only_cyclin_partner', 'CDK10', 'MCF7_cells', 'They', 'cyclin_M_stability', 'CDK10', 'kinase_activity', 'cyclin_C', 'CDK8', 'We', 'cyclin_M-dependent_CDK10_protein_kinase_activity', 'vitro', 'protein', 'sole_basis', 'amino_acid_sequence', 'genuine_cyclin-dependent_kinase', 'Y2H_assays', 'truncated_cyclin_M_proteins', 'hypothetical_products', 'two_STAR_syndrome-associated_FAM58A_mutations', 'interaction_phenotype', 'CDK10', 'mutated_mRNAs', 'nonsense-mediated_decay', 'decreased_cyclin_M_mRNA_levels', 'STAR_cells', 'Fig', '5B', 'rise', 'truncated_cyclin_M_proteins', 'females', 'STAR_syndrome', 'compromised_CDK10/cyclin_M_kinase_activity', 'tissues', 'specific_developmental_stages', 'We', 'ETS2', 'known_interactor', 'CDK10', 'phosphorylation_substrate', 'CDK10/cyclin_M', 'vitro', 'CDK10/cyclin_M_kinase_activity', 'ETS2_degradation', 'proteasome', 'control', 'very_fine_mechanism', 'sensitivity', 'ETS2_levels', 'CDK10_and_cyclin_M_levels', 'MCF7_cells', 'STAR_cells', 'findings', 'straightforward_explanation', 'already_reported_up-regulation', 'ETS2-driven_transcription', 'c-RAF', 'response', 'CDK10', 'We', 'evidence', 'CDK10/cyclin_M', 'ETS2_degradation', 'phosphorylation', 'two_neighboring_serines', 'noncanonical_β-TRCP_phosphodegron', 'DSMCPAS', 'none', 'two_serines', 'proline', 'they', 'usual_CDK_phosphorylation_sites', 'multiple_so-called_transcriptional_CDKs', 'CDK7', 'CDK10', 'Fig', 'S11', 'variety', 'motifs', 'non–proline-directed_fashion', 'context', 'molecular_docking', 'substrate', 'it', 'high-affinity_interaction', 'CDK10', 'Pointed_domain', 'ETS2', '(Fig._1C', 'docking-mediated_phosphorylation', 'atypical_sites', 'control', 'ETS2_degradation', 'number', 'players', 'APC-Cdh1', 'cullin-RING_ligase', 'CRL4', 'formal_identification', 'ubiquitin_ligase', 'CDK10/cyclin_M_pathway', 'elucidation', 'concerted_action', 'ETS2_degradation', 'further_studies', 'results', 'number', 'significant_biological_and_medical_implications', 'they', 'light', 'regulation', 'ETS2', 'important_role', 'development', 'many_cancers', 'results', 'understanding', 'molecular_mechanisms', 'tamoxifen_resistance', 'reduced_CDK10_expression_levels', 'they', 'CDK10', 'cyclin_M', 'predictive_clinical_marker', 'hormone_therapy_response', 'ERα-positive_breast_cancer_patients', 'findings', 'interesting_hypothesis', 'molecular_mechanisms_underlying_STAR_syndrome', 'Ets2_transgenic_mice', 'twofold_overexpression', 'Ets2_present_severe_cranial_abnormalities', 'STAR_patients', 'part', 'increased_ETS2_protein_levels', 'expected_consequence', 'enhanced_ETS2_expression_levels', 'decreased_risk', 'certain_types', 'cancers', 'increased_risk', 'others', 'Studies', 'various_mouse_models', 'models', 'Down_syndrome', 'three_copies', 'ETS2', 'ETS2_dosage', 'tumor_growth', 'autonomous_functions', 'cancer', 'very_few_STAR_patients', 'nephroblastoma', 'findings', 'general_exploration', 'biological_functions', 'CDK10', 'and,_in_particular,_its_role', 'control', 'cell_division', 'Previous_studies', 'either_a_positive_role', 'cell_cycle_control', 'tumor-suppressive_activity', 'cancers', 'severe_growth_retardation', 'STAR_patients', 'CDK10/cyclin_M', 'important_role', 'control', 'cell_proliferation', 'Previous_SectionNext_SectionMaterials', 'MethodsCloning', 'CDK10', 'cyclin_M_cDNAs', 'plasmid_constructions', 'tamoxifen_response_analysis', 'quantitative_RT-PCR', 'mass_spectrometry_experiments', 'antibody_production', 'SI_Materials', 'Methods', 'Yeast_Two-Hybrid_Interaction_Assays', 'We', 'yeast_interaction', 'assays', '27).Mammalian_Cell_Cultures', 'Transfections', 'We', 'human_HEK293_and_MCF7_cells', 'DMEM', '10%', 'vol/vol', 'FBS', 'Invitrogen', 'we', 'lymphoblastoid_cells', 'RPMI', 'GlutaMAX', '15%', 'vol/vol', 'FBS', 'We', 'HEK293_and_MCF7_cells', 'Lipofectamine', '(Invitrogen', 'plasmids', '(Invitrogen', 'siRNAs', 'Jetprime', '(Polyplus', 'plasmids/siRNAs_combinations', 'manufacturers', '’_instructions', 'We', 'lymphoblastoid_cells', 'electroporation', 'Neon', 'ETS2_stability_studies', 'we', 'MCF7_cells', 'transfection', '10_μM_MG132', '(Fisher_Scientific', '16_h', 'Coimmunoprecipitation', 'Western_Blot_Experiments', 'We', 'cells', 'PBS', 'centrifugation', 'lymphoblastoid_cells', 'them', 'sonication', 'lysis_buffer', '60_mM_β-glycerophosphate', '15_mM', '25_mM_3-(N-morpholino)propanesulfonic_acid', '(Mops', 'pH', '15_mM_EGTA', '15_mM_MgCl2', '1_mM', 'Na_vanadate', '1_mM', '1mM_phenylphosphate', '0.1%', 'Nonidet', 'protease_inhibitor_mixture', 'Roche', 'We', 'lysates', '15_min', '×_g', '4_°C', 'supernatants', 'protein_content', 'Bradford_assay', 'We', 'immunoprecipitation_experiments', '500_μg', 'total_proteins', 'lysis_buffer', 'We', 'lysates', '20_μL', 'protein_A', 'G-agarose_beads', '1_h_4_°C', 'rotating_wheel', 'We', '5_μg', 'antibody', 'supernatants', '1_h_4_°C', 'rotating_wheel', '20_μL', 'protein_A', 'G-agarose_beads', '1_h_4_°C', 'rotating_wheel', 'We', 'beads', 'centrifugation', '30_s', 'g', '4_°C', 'bead_buffer', '50_mM', 'Tris', 'pH', '5_mM_NaF', '250_mM_NaCl', '5_mM_EDTA', '5_mM_EGTA', '0.1%', 'Nonidet', 'protease_inhibitor_coktail', 'Roche', 'We', 'sample_buffer', 'washed_pellets', 'proteins', 'samples', '10%_Bis-Tris_SDS/PAGE', 'We', 'proteins', 'Hybond_nitrocellulose_membranes', 'blots', 'standard_procedures', 'Western_blot_experiments', 'we', 'following_primary_antibodies', 'anti-Myc', '(Abcam', 'ab9106', ',_anti-V5_(Invitrogen_R960', 'anti-tubulin_(Santa_Cruz_Biotechnology', 'anti-CDK10_(Covalab_pab0847p', 'Santa_Cruz_Biotechnology', 'dilution', '1:500_or_Covalab_pab0882-P,_dilution', 'anti-Raf1_(Santa_Cruz_Biotechnology', 'anti-ETS2', 'Santa_Cruz_Biotechnology', 'anti-Flag_(Sigma_F7425', 'We', '(Santa_Cruz_Biotechnology_SC-2033', '(Bio-Rad', 'secondary_antibodies', 'We', 'blots', 'enhanced_chemiluminescence', '(SuperSignal_West_Femto', 'Thermo_Scientific).Production', 'Purification', 'Recombinant_Proteins', 'GST-CDK10(kd)/StrepII-CycM.', 'We', 'recombinant_bacmids', 'DH10Bac_Escherichia_coli', 'baculoviruses', 'Sf9_cells', 'Bac', 'provider', 'Invitrogen', 'We', 'Sf9_cells', 'GST-CDK10-_(or_GST-CDK10kd)-producing_viruses', 'cells', 'StrepII-CycM–producing_viruses', 'we', 'cells', 'infection', 'GST-fusion_proteins', 'we', '250_mL_cells', 'pellet', '40_mL_lysis_buffer', 'PBS', '250_mM_NaCl', '0.5%_Nonidet', '50_mM', 'NaF', '10_mM_β-glycerophosphate', '0.3_mM', 'Na-vanadate', 'protease_inhibitor_mixture', 'Roche', 'We', 'cells', 'sonication', 'lysate_30_min', 'soluble_fraction', 'it', '1-mL_glutathione-Sepharose_matrix', 'We', '1_h', '4_°C', 'lysis_buffer', 'one_time', 'kinase_buffer_A', 'beads', '10%', 'vol/vol', 'storage.6His-ETS2', 'We', 'Origami2_DE3', '(Novagen', '6His-ETS2_expression_vector', 'We', 'expression', '0.2_mM_isopropyl-β-d-1-thiogalactopyranoside', '3_h', '22_°C', '6His-ETS2', 'we', '50_mL_cells', 'pellet', '2_mL_lysis_buffer', 'PBS', '300_mM_NaCl', '10_mM', 'Imidazole', '1_mM_DTT', '0.1%', 'Nonidet', 'protease_inhibitor_mixture', 'EDTA', '(Roche', 'We', 'cells', '1.6_bar', 'cell_disruptor', 'lysate_10_min', 'g.', 'We', 'soluble_fraction', 'it', '200_μL_Cobalt_beads', 'incubation', '4_°C', 'rotating_wheel', 'we', 'four_times', 'lysis_buffer', 'we', 'beads', '30_min', 'elution_buffer', 'PBS', '250_mM_imidazole', 'protease_inhibitor_mixture', '30_s', '10,000_×_g', 'eluted_protein', 'Protein_Kinase_Assays', 'We', 'glutathione-Sepharose_beads', 'GST-CDK10_wt', 'StrepII', '15_mM_DTT', '100_μM_ATP', '5_μCi', '7.75_μM', 'H1', '1_μM', '6His-ETS2', 'kinase_buffer_A', '25_mM_Tris·HCl', '10_mM_MgCl2', '1_mM_EGTA', '1_mM_DTT', '3.7_μM', 'total_volume', 'We', 'reactions', '30_°C', 'Laemli_sample_buffer', 'samples', '10%_Bis-Tris_SDS/PAGE', 'We', 'gel_slices', 'GST-CDK10', 'StrepII', '-CycM', 'Western_blotting', 'We', 'gel_slices', 'substrate', 'Coomassie', 'R-250,_Bio-Rad', 'them', 'incorporated_radioactivity', 'autoradiography', 'We', 'four_unrelated_girls', 'anogenital_and_renal_malformations', 'dysmorphic_facial_features', 'normal_intellect', 'toes', 'similar_combination', 'features', 'mother–daughter_pair1', '(Table', 'Supplementary_Note', 'authors', 'clinical_overlap', 'Townes-Brocks_syndrome', 'phenotype', 'separate_autosomal_dominant_entity', 'we', 'cardinal_features', 'syndrome', 'characteristic_facial_appearance', 'apparent_telecanthus', 'broad_tripartite_nasal_tip', 'toes', '(Fig', 'We', 'variety', 'other_features', 'Table', 'Figure', 'Clinical_and_molecular_characterization', 'STAR_syndrome', 'Figure', 'Clinical_and_molecular_characterization', 'STAR_syndrome', '–f)_Facial_appearances', 'cases', '1–3_(apparent_telecanthus,_dysplastic_ears', 'thin_upper_lips', 'toe_syndactyly', 'cases', 'recognizable_features', 'STAR_syndrome', 'specific_parental_consent', 'publication', 'photographs', 'Anal_atresia', 'hypoplastic_labia', ',h)_X-ray_films', 'feet', 'case', 'only_four_rays', 'left_and_delta-shaped_4th_and_5th_metatarsals', 'right', '(h', 'clinical_picture', 'd', 'Array-CGH_data', 'Log2_ratio', 'copy_number_loss', 'six_probes', '37.9_and_50.7_kb', 'one_probe', 'FAM58A.', 'deletion', 'parts', 'other_functional_genes', '(j)_Schematic_structure', 'FAM58A', 'position', 'mutations', 'FAM58A', 'five_coding_exons', 'boxes', 'cyclin_domain', 'green', 'exons', 'horizontal_arrow', 'deletion', 'case', 'exons', 'horizontal_line', 'exon', 'deletion', 'case', \"'_sequence\", 'pink_horizontal_bars', 'boxes', 'amplicons', 'qPCR', 'one_alternative', 'space_constraints', 'mutation', '(case', 'immediate_stop_codon', '1G>A', 'splice_mutations', 'cases', 'they', 'conserved_splice_donor', 'acceptor_site', 'intron', 'Full_size_image', '97_KB', 'Table', 'Clinical_features', 'STAR_syndrome_cases', 'Table_1_-_Clinical_features', 'STAR_syndrome_cases', 'Full_table', 'basis', 'phenotypic_overlap', 'Townes-Brocks', 'Okihiro', 'Feingold', 'syndromes', 'we', '(ref', 'SALL4', '(ref', 'mutations', 'genes', '(Supplementary_Methods', 'we', 'genome-wide_high-resolution_oligonucleotide', 'comparative_genomic_hybridization', '(CGH)5_analysis', 'Supplementary_Methods', 'genomic_DNA', 'most_severely_affected_individual', 'lower_lid_coloboma', 'epilepsy', 'syringomyelia', 'heterozygous_deletion', '37.9–50.7_kb', 'Xq28', 'exons', 'FAM58A', '(Fig', 'real-time_PCR', 'we', 'deletion', 'child', 'it', 'unaffected_parents', 'Supplementary_Fig', '1a_online,_Supplementary_Methods', 'Supplementary_Table', 'CGH', 'customized_oligonucleotide_array', 'probes', 'Xq28', 'breakpoint_cloning', 'we', 'exact_deletion_size', '40,068_bp', 'g.152,514,164_152,554,231del(chromosome_X', 'NCBI_Build', 'Fig', 'Supplementary_Figs', 'deletion', 'coding_regions', 'exons', 'intron', '(2,774_bp', ',_492_bp', 'intron', '36,608_bp', \"5'_sequence\", \"5'_UTR\", 'entire_KRT18P48_pseudogene', 'Paternity', 'routine_methods', 'We', 'deletions', 'FAM58A', 'available_copy_number_variation', '(CNV)_databases', 'we', 'qPCR_analysis', 'three_other_affected_individuals', 'cases', 'mother-daughter_pair', 'literature', 'cases', 'case', 'we', 'de_novo_heterozygous_deletion', '1.1–10.3_kb', 'exon', 'CGH', 'cloning', 'we', 'deletion', '4,249_bp', 'g.152,504,123_152,508,371del(chromosome_X', 'NCBI_Build', 'Fig', 'Supplementary_Figs', '1,265_bp', 'intron', 'exon', \"3'_UTR\", '2,454_bp', \"3'_sequence\", 'We', 'heterozygous_FAM58A_point_mutations', 'remaining_cases', '(Fig', 'Supplementary_Methods', 'Supplementary_Table', 'case', 'we', 'mutation', '1G>A', 'splice_donor_site', 'intron', 'case', 'we', 'frameshift_mutation', 'premature_stop', 'N68XfsX1', 'cases', 'we', 'mutation', '556-1G>A', 'splice_acceptor_site', 'intron', 'We', 'point_mutations', 'deletions', 'independent_rounds', 'PCR', 'sequencing', 'qPCR', 'We', 'paternity_and_de_novo_status', 'point_mutations', 'deletions', 'sporadic_cases', 'None', 'mutations', 'DNA', '60_unaffected_female_controls', 'larger_deletions', 'FAM58A', '93_unrelated_array-CGH_investigations', 'X-chromosome_inactivation', 'Supplementary_Methods', 'we', 'complete_skewing', 'X_inactivation', 'cases', 'case', 'cells', 'mutation', 'active_X_chromosome', 'growth_disadvantage', 'fetal_development', 'RT-PCR', 'RNA', 'lymphoblastoid_cells', 'case', 'we', 'aberrant_splice_products', 'additional_evidence', 'mutated_allele', 'FAM58A', 'X_inactivation6', 'cases', 'parental_origin', 'deletions', 'result', 'lack', 'informative_SNPs', 'Case', 'mother', 'case', 'birth', 'two_boys', 'samples', 'We', 'condition', 'males', 'fetal_losses', 'families', 'function', 'FAM58A', 'gene', 'five_coding_exons', '642-bp_coding_region', 'protein', '214_amino_acids', 'GenBank', 'mRNA_length', '1,257_bp', 'reference_sequence', 'NM_152274.2', 'Expression', 'gene', 'EST_data', '48_adult_tissues', 'kidney', 'colon', 'cervix', 'uterus', 'not_heart', 'NCBI_expression_viewer', 'UniGene_Hs.496943', 'Expression', '24_of_26_listed_tumor_tissues', 'embryo', 'fetus', 'Genes', 'FAM58A', 'NCBI_HomoloGene', 'X_chromosome', 'chimpanzee', 'dog', 'zebrafish', 'similar_gene', 'chromosome', 'mouse', 'rat', 'true_homologs', 'species', 'similar_but_intronless_genes', 'chromosomes', '11_(mouse', '10_(rat', 'retrotransposon_insertion_event', 'murine_X_chromosome', 'flanking_genes', 'only_remnants', 'FAM58A_sequence', 'FAM58A', 'cyclin-box-fold_domain', 'protein-binding_domain', 'cyclins', 'role', 'cell_cycle', 'transcription_control', 'human_phenotype', 'cyclin_gene_mutation', 'Homozygous_knockout_mice', 'cyclin_D1', 'lifespan', 'They', 'dystrophic_changes', 'retina', 'result', 'decreased_cell_proliferation', 'degeneration', 'photoreceptor_cells', 'embryogenesis7', 'Cyclin_D1', 'SALL4', 'nucleus', 'proteins', 'transcriptional_repression9', 'phenotype', 'cases', 'Townes-Brocks_syndrome', 'we', 'co-immunoprecipitation', 'FAM58A', 'manner', 'and_cyclin_D1', 'We', 'SALL4', 'hypothesis', 'SALL1', 'same_developmental_pathway', 'FAM58A_mutations', 'STAR_syndrome', 'Growth_retardation', 'cases', 'Table', 'retinal_abnormalities', 'three_cases', 'reduced_body_size', 'retinal_anomalies', 'cyclin', 'D1_knockout_mice7', 'proliferation_defect', 'STAR_syndrome', 'question', 'we', 'knockdown', 'FAM58A', 'mRNA', 'proliferation_assay', 'Transfection', 'HEK293', 'cells', 'three_different_FAM58A-specific_RNAi_oligonucleotides', 'significant_reduction', 'FAM58A_mRNA_expression', 'proliferation', 'transfected_cells', 'Supplementary_Methods', 'Supplementary_Fig._6_online', 'link', 'FAM58A_and_cell_proliferation', 'We', 'function', 'FAM58A_result', 'rather_homogeneous_clinical_phenotype', 'additional_anomalies', 'case', 'effect', '40-kb_deletion', 'expression', 'neighboring_gene', 'we', 'that_the_homogeneous_phenotype_results', 'ascertainment_bias', 'FAM58A_mutations', 'missense_changes', 'broader_spectrum', 'malformations', 'genes', 'overlapping_phenotypes', 'STAR_syndrome_and_Townes-Brocks_syndrome', 'same_pathway', 'MYCN', 'gene', 'Feingold_syndrome', 'direct_regulator', 'cyclin_D2', 'it', 'phenotypic_similarities', 'Feingold_and_STAR_syndrome', 'direct_regulation', 'FAM58A', 'MYCN', 'FAM58A', 'approximately_0.56_Mb', 'Xq28', 'Duplications', 'FAM58A', 'clinical_phenotype', 'deletions', 'FAM58A', 'date13', 'other_genes', 'FAM58A', 'MECP2', 'brain_development', 'FAM58A', 'MECP2', 'only_genes', 'region', 'X-linked_dominant_phenotypes', 'deletion', 'genes', 'same_allele', 'males', 'females']\n"
     ]
    },
    {
     "name": "stdout",
     "output_type": "stream",
     "text": [
      "===========================================================\n",
      "['_Abstract_Background', 'Non-small_cell_lung_cancer', 'NSCLC', 'heterogeneous_group', 'disorders', 'number', 'genetic_and_proteomic_alterations', 'c-CBL', 'E3_ubiquitin_ligase', 'adaptor_molecule', 'normal_homeostasis', 'cancer', 'We', 'genetic_variations', 'c-CBL', 'tyrosine_kinases', 'EGFR', 'MET', 'NSCLC', 'Methods', 'Findings', 'archival_formalin-fixed_paraffin', 'extracted_genomic_DNA', 'we', 'c-CBL_mutations', 'somatic_fashion', 'lung_cancers', 'c-CBL_mutations', 'MET_or_EGFR_mutations', 'they', 'p53_and_KRAS_mutations', 'normal/tumor_pairwise_analysis', 'significant_loss', 'heterozygosity', 'LOH', 'c-CBL_locus', '22%', 'none', 'samples', 'mutation', 'remaining_copy', 'c-CBL', 'c-CBL_LOH', 'EGFR_and_MET_mutations', 'same_samples', 'select_c-CBL_somatic_mutations', 'S80N/H94Y', 'Caucasian,_Taiwanese_and_African-American_samples', 'NSCLC_cell_lines', 'increased_cell_viability', 'cell_motility', 'Conclusions', 'overall_mutation_rate', 'c-CBL', 'combination', 'somatic_missense_mutation', 'LOH', 'it', 'c-CBL', 'lung_cancers', 'essential_role', 'lung_tumorigenesis', 'metastasis', 'Introduction', 'US', 'approximately_219,400_people', 'lung_cancers', 'them', 'disease', 'number', 'combined_mortality_rates', 'cancers', 'breast', 'prostate', 'colon', 'liver', 'kidney', 'melanoma', 'addition', 'prognosis', 'five-year_survival_rate', 'less_than_15%', 'significant_ethnic_differences', 'lung_cancer', 'outcome', 'blacks', 'whites', 'Gender_differences', 'women', 'significantly_better_prognosis', 'men', 'number', 'genetic_alterations', 'lung_cancer', 'example', 'NSCLC', 'mutations', 'KRAS', 'p53', 'EGFR', 'MET', 'pathways', 'especially_Receptor_Tyrosine_Kinases', 'RTKs', 'c-CBL', 'CBL', 'Casitas_B-lineage_lymphoma', 'mammalian_gene', 'human_chromosome', 'protein_ubiquitination', '3]._CBL_proteins', 'RING_finger_class', 'ubiquitin_ligases', 'E3', 'three_homologues', 'c-CBL,_CBL-b', 'CBL-3_[4]._The_c-CBL', 'CBL', 'b_genes', 'highest_levels', 'hematopoietic_tissues', '5]._c-CBL', 'four_regions', 'functionally_distinct_protein_domains', 'N-terminal_tyrosine_kinase', '(TKB)_domain', 'linker_region', 'catalytic_RING_finger_domain', 'proline-rich_region', 'c-terminal_ubiquitin-associated_(UBA)_domain', 'leucine-zipper_(LZ)_domain', '3]._Both_TKB_and_RING_finger_domains', 'ligand-induced_ubiquitination', 'RTKs', 'RING_finger_domain', 'recruitment', 'E2_ubiquitin-conjugating_enzymes', 'TKB_domain', 'four-helix_bundle', '4H', 'calcium-biding_EF_hand', 'modified_SH2_domain', 'residues', 'addition', 'proline-rich_region', 'c-CBL', 'SH3_domain', 'Grb2', 'c-CBL', 'RTKs', 'GRB2_adaptor_protein', 'c-CBL', 'EGFR', 'E3', 'EGFR', 'ubiquitination', 'degradation', 'CBL', 'EGF', 'cellular_proliferation', 'EGF_[15]._EGF_activation', 'tyrosine_kinase', 'SRC', 'c-CBL', 'turn', 'ubiquitination', 'degradation', 'EGFR', 'recent_study', 'defective_endocytosis', 'EGFR', 'deletion_mutant', 'point_mutation', 'association', 'c-CBL', 'subsequent_ubiquitination', 'first_human_c-CBL_mutations', 'AML', 'FMS-like_tyrosine_kinase', '(FLT3)_internalization', 'ubiquitination', 'E3_activity', 'oncogenesis', 'c-CBL', 'dual_but_separate_function', 'signal_transduction_molecule', 'We', 'c-CBL', 'binding_CRKL', 'BCR/ABL', 'hematopoietic_cells', 'it', 'modulate_functions', 'cytoskeleton', 'proteins', 'talin', 'paxillin', 'TKB_domain', 'number', 'molecules', 'they', 'signal_transduction', 'critical_role', 'CBL', 'normal_homeostasis', 'cancer', 'we', 'it', 'lung_cancers', 'study', 'we', 'novel_c-CBL_somatic_mutations', 'S80N/H94Y', 'Caucasian,_Taiwanese_and_African-American_lung_cancer_patients', 'mutations', 'NSCLC_cell_lines', 'increased_proliferation_and_cell_motility', 'We', 'c-CBL_mutations', 'MET_or_EGFR_mutations', 'LOH', 'c-CBL_locus', 'c-CBL_LOH', 'MET_or_EGFR_mutations', 'We', 'c-CBL_mutations', 'oncogenic_potential', 'MET', 'EGFR', 'lung_cancer', 'Methods_Ethics_Statement', 'Written_consent', 'research', 'human_subjects', 'Institutional_Review_Board', 'University', 'Chicago', 'research', 'laboratory', 'following', 'contact_information', 'Institutional_Review_Board', 'University', 'Chicago', 'McGiffert_Hall', '5751_S._Woodlawn_Ave', '2nd_floor', 'Chicago', 'IL', 'Written_informed_consents', 'patients', 'tissue_samples', 'study', 'Tissue_Samples', 'Lung_cancer_tissue', 'paired_adjacent_normal_lung_tissues', '50_Caucasian', '29_African-Americans', '40_Taiwanese_NSCLC_patients', 'who', 'University', 'Chicago_Hospital', 'Chicago', 'USA', '(Caucasian_and_African-American_patients', 'Taipei_Veterans_General_Hospital', 'Taiwan', 'Taiwanese_patients', 'appropriate_Institutional_Review_Board_permission', 'informed_consent', 'patients', '119_samples', 'men', 'women', 'age', 'diagnosis', '47_to_90_years', 'terms', 'tumor_types', 'squamous_cell_carcinoma', 'large_cell_carcinoma', 'stage', 'I', 'stage', 'stage', 'IV', '(Table_S1', 'Cell_Culture', 'Human_non-small_cell_lung_carcinoma_cells', 'A549', 'H358', 'DMEM', 'RPMI-1640', 'Human_embryonic_kidney_293T_cells', 'DMEM', 'Media', '10%_fetal_bovine_serum', '100_units', 'ml', 'penicillin', '100_µg/ml', 'streptomycin', '(Invitrogen,_Carlsbad', 'Cells', '37°C', 'humidified_incubator', '5%_CO2', 'c-CBL', 'Gene_Mutational_Analysis', 'Exons', '-CBL_gene', 'polymerase_chain_reaction', 'PCR', 'Primers', 'Table_S2', 'PCR_conditions', '1_cycle', '95°C', '5_minutes', '35_cycles', '94°C', '30_seconds', '58°C', '30_seconds', '72°C', '2_minutes', 'one_cycle', '72°C', '10_minutes', 'PCR_products', 'ExoSAP-IT_(USB_Corporation', 'Cleveland', 'Big-Dye_Terminator_Chemistry', '(Applied_Biosystems', 'Sequencing', 'forward_coding_strand', 'confirmation', 'c-CBL_alterations', 'reverse_strand', 'Chromatograms', 'mutations', 'Mutation_Surveyor', '(Softgenetics', 'State_College', 'PA', 'Plasmid_Constructs', 'Site-Directed_Mutagenesis', 'wild-type_c-CBL_cDNA_insert', 'pAlterMax_expression_vector', 'XhoI_and_SalI_restriction_enzyme_sites', 'Promega', 'Madison', 'parental_plasmid_pAlterMax', '-c-CBL', 'TKB_domain_double_mutation', 'S80N/H94Y', 'point_mutation', 'C-terminal_point_mutation', 'c-CBL', 'following_primers', 'double_mutation', 'S80N/H94Y', 'complementary_primers', 'QuickChange_Site-Directed_Mutagenesis_XL_kit', 'Stratagene', 'La_Jolla', 'CA', \"manufacturer's_instructions\", 'constructs', 'point_mutations', 'standard_DNA_sequencing', 'strands', 'Loss', 'Heterozygosity', '(LOH', 'Analysis', 'Five_microsatellites', 'chromosome', '11q', '200_kb', 'c-CBL_gene', '2_control_markers', '11p', 'analysis', 'Table_S3', 'Established_microsatellite_markers', 'respective_primer_sequences', 'GeneLoc_database', 'http://genecards.weizmann.ac.il/geneloc/index.shtml', 'Weizmann_Institute', 'Science', 'Rehovot', 'Primers', 'custom', 'primer', '5′_end', 'FAM', 'PET', 'NED', 'VIC', 'Applied_Biosystems', 'Primer_annealing_temperatures', 'duplex_scores', 'NIST_Primer_Tools', 'National_Institute', 'Standards', 'Technology', 'Gaithersburg', 'MD', 'Primers', 'PCR', 'control_DNA', 'TK6_cells', 'products', 'agarose_gels', 'Bands', 'UV_transilluminator', 'Genomic_DNA', 'tumor_samples', 'normal_lung_tissue', 'Primers', 'multiplex_combinations', 'Table_S4', 'Marker_D11S929', 'internal_control', 'consistency', 'PCRs', 'peaks', 'capillary_electrophoresis', 'Multiplex_PCRs', 'volume', '10_µL', '1_µL_genomic_DNA', '20–50_ng', ',_0.5_µM', 'primer', 'primer_pair', ',_400_µM_dNTPs', '1X_PCR_buffer', 'MgCl2', '0.2_U_Taq_DNA_polymerase', 'PCR', 'ABI_GeneAmp_9700_PCR_System', 'following_conditions', '5_min', '94°C', '30_cycles', '30_sec', '94°C', '1_min', '60°C', '1_min', '72°C', '5_min', '72°C', 'PCR_products', 'capillary_electrophoresis', 'ABI_3130XL_DNA_Analyzer', 'Chromatograms', 'Peak_Scanner', 'GeneMapper_3.7_software', 'Applied_Biosystems', 'allelic_alterations', 'area', 'peaks', 'DNA_PCR_products', 'allele', 'ratio', 'allelic_areas', 'tumor', 'normal_DNA_sample', 'qLOH', '(allelic_ratio', 'tumor_peaks', 'allelic_ratio', 'paired_normal_sample', 'c-CBL', 'at_least_one_other_11q_marker', 'at_least_two_separate_experiments', 'sample', 'allelic_imbalance', 'LOH', 'Samples', 'at_least_two_separate_experiments', 'samples', 'prospective_LOH', 'c-CBL', 'new_control_marker', 'BAX_locus', 'data', 'chromosome', 'integrity', 'sample_DNA', 'Transfection', 'c-Cbl_Constructs', 'A549_cell_line', '(Roche,_Nutley,_NJ', \"manufacturer's_instructions\", 'Eight_µg_of_plasmid_DNA', 'either_no_insert', 'empty_vector', 'wild-type_c-CBL,_S80N/H94Y_c-CBL', 'W802*_CBL', 'transfection', '6-well_culture_plate', 'Cells', 'transfection', 'expression', 'c-CBL_Knockdown', 'c-CBL_knockdown', 'lentiviral_transduction', 'MISSION_lentiviral_transduction_particles', 'Sigma-Aldrich', 'MO', \"manufacturer's_instructions\", '1×105_H358_cells', '6-well_plates', 'following_day', 'stable_c-CBL_knockdown_cell_lines', 'cells', '2_days', '1_µg/ml_puromycin', 'c-CBL_levels', 'whole_cell_lysates', 'anti-CBL_antibody', 'Santa_Cruz_Biotechnologies', 'Santa_Cruz', 'Cell_Viability_Assay', 'Cells', 'transfection_assay', 'transfection', 'viability', 'cells', 'Trypan_Blue_exclusion', 'Wound', 'Healing_Assay', 'A549_cells', '6-well_plates', '48_h', 'medium', 'cells', 'transfection_assay', 'transfection', 'straight_scratch', 'cell_layer', '1_ml_pipette_tip', 'cells', '1×_PBS', 'cellular_debris', 'media', 'Photographs', 'wound_region', '48_h.', 'Western_Blot_Analysis', 'transfection', 'cells', '1X_PBS', 'ice-cold_lysis_buffer', '0.5M_Tris-HCl', 'pH', '1.5_M_NaCl', '2.5%_deoxycholic_acid', '10_mM_EDTA', '10%', '0.5_mM', 'DTT', '1_mM_phenylmethylsulfonyl_fluoride', '5_µg/mL_leupeptin', '10_µg/mL_aprotinin', '5_minutes', 'lysate', '13,000_rpm', '20_minutes', '4°C', 'protein_content', 'supernatant', 'Total_cell_lysates', 'SDS-PAGE_electrophoresis', 'gels', 'nitrocellulose_membranes', 'Whatman', 'Piscataway', 'NJ', 'Membranes', '5%_non-fat_dry_milk', 'phosphate-buffered_saline', 'Tween-20', '(PBST', '(1X_PBS', '0.1%_Tween-20', '1_h', 'room_temperature', 'appropriate_primary_antibody', '4°C', 'Membranes', 'PBST', 'appropriate_horseradish_peroxidase', 'HRP)-conjugated_secondary_antibody', '1_h', 'room_temperature', 'membranes', 'PBST', 'bands', 'BioRad', 'Valencia', 'CA', 'Chemidoc_Gel_documentation_system', 'BioRad', 'Valencia', 'Antibodies', 'Santa_Cruz_Biotechnologies', 'following_dilutions', 'c-CBL', 'EGFR', 'HA', 'Flow_Cytometry', 'Cell_cycle_analysis', 'flow_cytometry', '2×106_cells', 'media', '10%_FBS', 'Cells', 'trypsin/EDTA_treatment', '1X_PBS', 'ice-cold_70%_ethanol', '2_h._Cells', 'cold_PBS', 'solution', 'Triton', '30_minutes', 'dark', 'Cell_cycle_analysis', 'Guava_PCA-96_flow_cytometer', 'Guava_Technologies', 'Millipore', 'Billerica', 'MA', 'Ubiquitin_Ligase_Activity', '293T_cells', 'culture', 'DMEM', '10%_FBS', '1%_penicillin', '100_units', 'mL', 'streptomycin', '100_µg/mL', '0.2_µg', 'EGFR-pcDNA3', '2_µg', 'HA-tagged_c-CBL_constructs', 'calcium_phosphate', \"manufacturer's_protocol\", 'Profection', 'Promega', 'Madison', 'WI', 'cells', 'DMEM', '0.5%_FBS', 'EGF', '100_ng/ml', '15_min', 'cells', 'two_times', 'ice-cold_PBS', '0.2_mM_sodium', 'ice-cold_lysis_buffer', '(10_mM_Tris_HCl', '150_mM_NaCl', '5_mM_EDTA', '1%_Triton_X100', '10%_Glycerol', '2_mM_sodium', 'protease_inhibitors', 'Lysates', 'debris', 'centrifugation', '16,000_g', '10_min', '4°C', 'EGFR_immunoprecipitations', '200_µg', 'cleared_lysate', 'rabbit', 'Protein_A', '/G_Plus_Sepharose', '4°C', 'Precipitations', 'lysis_buffer', 'Laemmli_buffer', 'Elutions', 'EGFR', 'Twenty_micrograms', 'cleared_lysate', 'c-CBL_constructs', 'Statistical_Analysis', 'Mutation_rates', 'different_groups', \"Fisher's_exact_test\", 'continuous_variables', 'group_comparisons', 'analysis', 'variance', '(ANOVA', \"Sidak's_adjustment\", 'multiple_comparisons', 'Experiments', 'repeated_measurements', 'time', 'repeated_measures', 'Greenhouse-Geisser_adjustment', 'degrees', 'freedom', 'Analyses', 'STATA', 'software', '(Stata_Corporation', 'College_Station', 'TX', 'Results_c-CBL_Gene_Mutations', 'Lung_Cancer', 'role', 'c-CBL', 'lung_cancer', 'we', 'genomic_DNA', 'tumor', 'paired_normal_samples', 'multiple_ethnicities', 'lung_tumor_samples', 'Caucasians', 'African-Americans_(n\\u200a=\\u200a29),_and_Taiwanese_(n\\u200a=\\u200a40)_lung_cancer_patients', 'We', '12_pairs', 'primers', 'coding_region', 'c-CBL_gene', '(Table_S2', 'We', '8_unique_somatic_mutations', '-CBL_exons', '8_different_patients', 'variation_L620F', 'known_SNP', 'rs2227988', 'exon', 'eight_novel_non-synonymous_mutations', 'strands', 'c-CBL_genomic_DNA', 'lung_tumor_samples', '(Table', 'none', '8_mutations', 'corresponding_normal_tissue', 'somatic_mutations', 'Four_synonymous_single_nucleotide_variations', 'SNVs', 'study', 'Table_1_Table_1_c-CBL_mutation_analysis', '119_lung_cancer_patient_tumor_tissues', '8_novel_non-synonymous_mutations', 'TKB', 'tyrosine_kinase', 'domain', 'S80N', 'H94Y', 'Q249E', 'RING_finger_domain', 'V391I', 'proline-rich_region', '(72515_72517_del_ATG', 'C-terminal_region', 'W802*,_R830K', 'A848T', 'c-CBL_protein', 'Figure_1A', 'Figure_S1', 'we', 'model_chromatograms', 'representative_samples', 'Figure_1_Figure_1_c-CBL_mutations', 'LOH', 'non-small_cell_lung_cancer', '11q_LOH', 'c', '-CBL_Gene', 'Paired_lung_tumor', 'normal_lung_tissue_samples', 'Taiwanese_patients', 'LOH', '(21.6%', 'LOH', 'c-CBL_locus', 'chromosome', '29_samples', '78.4%', 'normal_allelic_contribution', 'microsatellite_markers', 'Figures_1C', 'D', 'c', '-CBL_Mutations', 'Different_Ethnic_Groups', 'c-CBL_double_mutant_S80N/H94Y', 'same_patient', 'overall_mutation_rate', 'c-CBL', 'lung_tumors', '6.7%', 'frequency', '-CBL_mutation', 'large_cell_carcinoma', '14.7%', '5_of_34_patients', 'squamous_carcinoma', '6.3%', '32_patients', 'adenocarcinoma', '(AD', '1.8%', '1_of_53_patients', 'rates', 'Mutation_rates', '6.0%', 'Caucasians', 'AD', 'SQ', 'LC', '13.8%', 'African-Americans', 'AD', 'SQ', 'LC', '2.5%', 'AD', 'SQ', 'LC', 'Taiwanese_population', 'two_Taiwanese_patients', 'lung_cancer', 'one_squamous_and_one_adenocarcinoma', 'known_SNP_L620F._Ethnic_differences', 'power', 'differences', 'Mutations', 'MET', 'EGFR', 'c-CBL_Alterations', 'East_Asians', 'lung_cancer', 'higher_frequency', 'EGFR_and_MET_mutations', 'lung_tumors', 'we', 'mutations', 'EGFR', 'MET', 'same_Taiwanese_cohort_samples', 'results', 'observed_c-CBL_alterations', 'LOH', 'mutations', '37_samples', 'we', 'overlap', '-CBL_mutations', 'c-CBL_LOH', '(Figure', 'three_c-CBL_mutants', 'known_L620F_SNP', 'samples', 'MET_mutation', 'N375S', 'EGFR_mutation', '8_samples', 'LOH', 'c-CBL_locus', 'additional_mutation', 'MET', '(N375S', 'EGFR', '19_deletion', 'Twenty-six_samples', 'neither_c-CBL_mutation', 'c-CBL_LOH', '3_patients', 'c-CBL_mutation', 'c-CBL_LOH', '26_samples', 'MET_mutation', '8_N375S', '1_L211W', 'EGFR_mutation', '7_exon_9_deletion', '6_L858R', 'other_MET_or_EGFR_mutation', 'rate', 'MET_or_EGFR_mutations', 'patients', 'LOH', 'c-CBL_locus', 'patients', '-CBL_mutation', 'LOH', '4_patients', 'identifiable_mutation', 'c-CBL', 'MET', 'EGFR', '10.8%', '37_patients', 'Taiwanese_patient_cohort', '89.2%_Taiwanese_lung_cancer_patients', 'identifiable_mutation', 'either_c-CBL', 'MET', 'EGFR', 'combination', 'three_genes', 'Figure', 'we', 'p53', 'KRAS_mutations', 'Taiwanese_cohorts', 'Two_p53', '1_KRAS_mutation', 'single_KRAS_mutation', 'one_p53_mutation', 'patient', 'EGFR', '19_deletion', 'c-CBL_mutation', 'other_p53_mutation_sample', 'c-CBL_LOH', 'concurrent_MET_N375S_mutation', 'Taiwanese_samples', 'p53/KRAS_mutations', 'c-CBL_mutations', 'data', 'Figure_2_Figure_2_c-CBL_mutations', 'relationship', 'MET_and_EGFR_mutations', 'lung_cancer', 'Cellular_Functions', 'c-CBL_Alterations', 'Context', 'Lung_Tumorigenesis', 'A._E3_activity', 'mutant_c-CBL_proteins', 'different_c-CBL_mutations', 'E3_activity', 'EGFR', 'model_substrate', 'c-CBL_E3_function', 'c-CBL_mutants', 'enhanced_ubiquitination', 'activated_EGFR', 'wild-type_c-CBL_protein', 'result', 'catalytic_activity', 'c-CBL_mutants', 'EGFR', 'substrate', '(Figure_3A', 'Figure_3_Figure_3_Ubiquitination', 'viability', 'expression', 'cell_cycle', 'analysis', 'various_c-CBL_mutants', 'B._Effect', 'lung_cancer_cell_viability', 'effect', 'representative_c-CBL_mutant', 'three_ethnic_backgrounds', 'lung_cancer_cell_viability', 'cell_lines', 'S80N/H94Y_double_mutation', 'lung_tumor_samples', 'Caucasian', 'Taiwanese', 'methods', 'above_three_mutants', 'them', 'pAlterMax_vector', 'A549_cells', 'cells', 'relatively_low_basal_levels', 'endogenous_c-CBL_(data', 'Transfection_efficiency', 'different_groups', 'number', 'cells', 'c-CBL_wild-type_construct', 'about_70%', 'control_cells', 'empty_vector', 'Cells', 'S80N/H94Y', 'W802*_c-CBL_mutant_constructs', 'increased_number', 'viable_cells', '132.3%', '120.8%', 'empty_vector_control_transfected_cells', 'wild-type_construct', 'p', '(Figure_3B', 'Relative_levels', 'c-CBL_protein', 'whole_cell_lysates', 'samples', 'parallel_experiment', 'c-CBL_protein_levels', 'samples', 'untransfected_and_empty_vector_transfected_cells', 'c-CBL_WT', 'three_c-CBL_mutants', 'C._Effect', 'cell_cycle', 'increases', 'cell_viability', 'different_c-CBL_mutants', 'increased_cellular_proliferation', 'cell_cycle_analysis', 'A549_cells', 'c-CBL_WT', 'three_different_mutants', 'S80N/H94Y', 'W802*.', 'empty_vector_transfectant', 'control', 'transfection_cell_cycle_analysis', 'materials', 'methods', 'significant_change', 'subG1', 'G1', 'S_phase', 'cell_cycle', 'different_mutants', 'G2/M_phase', 'cell_cycle', 'increase', 'cell_numbers', 'three_mutants', 'S80N/H94Y', 'WT', 'difference', 'cell_motility', 'effect', 'expression', 'above_three_c-CBL_mutants', 'cell_migration', 'we', 'wound_healing_assay', 'materials', 'methods', 'closing', 'scratch', 'wound', '48_h.', '(Figure_4A', 'the_samples', 'mutants', 'wound_gap', 'sample', 'cells', 'c-CBL_WT', 'We', 'rate', 'wound_closure', 'the_five_groups', '48_h', 'wild-type_c-CBL_transfectants', '61.1%_open_wound', 'S80N/H94Y', 'W802*_mutants', '18.7%', '23.9%', '34.3%_open_wound', '(Figure_4B', 'Figure', '4_Figure', '4_c-CBL_mutations', 'wound_healing', 'A549_cells', 'E._c-CBL_knockdown', 'cell_viability', 'It', 'LOH', 'samples', 'decreased_expression', 'c-CBL', 'we', 'effect', '-CBL_knockdown', 'lung_cancer_cells', 'A549', 'H358_lung_cancer_cells', 'relatively_high_levels', 'endogenous_c-CBL', '(data', 'c-CBL_expression', 'lentiviral_construct', 'c-CBL_specific_shRNA', 'results', 'scrambled_shRNA', 'results', 'Figure', 'We', 'several_clones', 'varying_degrees', 'c-CBL_knockdown', 'different_sets', 'c-CBL_lentiviral_shRNA_knockdown_efficiency', '(Figure_5A', 'the_clones', 'Clone', 'further_experiments', 'Equal_amount', 'cells', '6-well_plate', 'cell_proliferation', 'various_times', 'results', 'Figure', 'number', 'cells', 'time_dependent_fashion', '100_to_190%', 'shRNA', 'control', 'span', '48_h', '(Figure_5B', 'cell_cycle_phases', 'H358_cells', 'c-CBL_shRNA', 'scrambled_shRNA', 'discernable_differences', 'two_constructs', 'different_phases', 'cell_cycle', 'data', 'Figure', '5_Figure_5_Knockdown', 'c-CBL', 'shRNA', 'cell_proliferation', 'Discussion', 'results', 'c-CBL', 'LOH', 'lung_cancers', 'enhanced_cell_viability', 'motility', 'high_prevalence', 'LOH', 'respect', 'c-CBL', 'lung_tumors', 'MET_or_EGFR_mutation', 'present_study', 'we', 'occurrence', '-CBL_mutations', 'lung_cancer_patients', 'different_ancestral_variations', 'Mutations', 'c-CBL', 'juvenile_myelomonocytic_leukemia', 'myeloid_malignancies', 'AML_study', 'R420Q', 'junction', 'RING_finger', 'linker_region', 'FMS-like_tyrosine_kinase_3_(FLT3)_internalization', 'ubiquitination', 'gain', 'function', 'RTK', 'addition', 'mutations', 'H398Y', 'C384R', 'RING_finger_domain', 'linker_region', 'c-CBL', 'E3_activity', 'homozygous_mutations', 'RING_finger_domain', 'c-CBL_gene', 'result', 'acquired_Uniparental_Disomy', 'UPD', 'It', 'results', 'LOH', '11q23_locus', 'missense_mutations', 'c-CBL', 'somatic_mutations', 'mutations', 'AML', 'abrogation', 'E3_activity', 'prolonged_RTK_activation', 'addition_mutants', 'linker_region', 'RING_finger_domain', 'enhanced_AKT', 'response', 'cytokine_stimulation', 'addition', 'it', 'NH3T3_cells', 'mutations', 'RING_finger', 'linker_region', 'transformation', 'certain_mutations', 'ubiquitination', 'others', 'receptor_recycling', 'prolong_kinase_activity', 'We', 'c-CBL_mutations', 'RING_finger_domain', 'TKB_domain', 'proline-rich_domain', 'C-terminal_region', 'none', 'linker_region', 'AML_studies', 'addition', '8_mutants', 'we', 'different_ethnic_backgrounds', 'example', 'S80N/H94Y', 'Caucasians', 'African-Americans', 'results', 'not_only_the_difference', 'lung_cancer', 'other_cancers', 'genetic_polymorphism', 'different_races', 'same_cancer', 'large_disparity', 'other_ethnic_populations', 'lung_cancer', 'We', 'low_frequency', 'EGFR_and_MET_mutation', 'African-Americans', 'Taiwanese', 'Caucasians', 'study', 'number', 'African-American_samples', 'we', '3_mutations', 'ethnicity', 'It', 'us', 'genetic_alterations', 'targeted_therapeutics', 'African-Americans', 'results', 'evidence', 'importance', 'c-CBL', 'tumorigenesis', 'potential_signaling', 'prediction', 'AML_data', 'V391I_RING_finger_domain_mutation', 'E3_activity', 'it', 'binding_partners', 'c-CBL', 'TKB_domain', 'rich_domain_mutations', 'It', 'TKB_domain', 'growth_factor_receptors', 'it', 'mutants', 'MET', 'It', 'future', 'fluorescence', 'hybridization', 'c-CBL', 'lung_cancer', 'c-CBL', 'important_role', 'K63_poly-ubiquitination_and_subsequent_downregulation', 'RTKs', 'lysosomal_degredation', '3]._Mono-ubiquitination', 'K63-linked_chains', 'substrates', 'c-CBL', 'enhancement', 'biological_and_biochemical_functions', 'Hermann', 'et_al', 'mutations', 'we', 'studies', 'fact', 'E3_activity', 'c-CBL', 'EGFR', 'EGFR_levels', 'various_mutants', 'Multiple_kinases', 'RTKs', 'non-RTKs', 'c-CBL', 'ERBs', 'PDGFR', 'FMS', 'MET', 'c-Kit', 'VEGFR', 'FLT-1,_RON', 'FGFR', 'IR', 'SYK', 'FYN', 'LCK', 'FGR', 'LYN', 'c-ABL', 'lung_cancers', 'relevant_substrates', 'c-CBL', 'terms', 'degradation', 'signal_transduction', 'observation', 'c-CBL_somatic_mutations', 'especially_S80N/H94Y', 'increased_cell_viability', 'cell_motility', 'agreement', 'physiological_role', 'D-cbl', 'regulation', 'apoptosis', 'differentiation', 'Drosophila', 'It', 'EGFR_signaling', 'cellular_proliferation', 'migration', 'breast_cancer_cell_lines', 'role', 'c-CBL', 'negative_regulation', 'RTKs', 'it', 'natural_tumor_suppressor', 'studies', 'cancer_cells', 'tumor_suppressor', 'tumor', 'activities', 'type', '-CBL_mutation', 'number', 'alleles', 'agreement', 'three_c-CBL_mutants', 'tumor_growth', 'metastasis', 'properties', 'mutants', 'RING_finger', 'linker_region', 'c-CBL', 'downstream_effects', 'increased_proliferation', 'migration', 'substrate', 'mutations', 'possibility', 'cellular_functions', 'c-CBL', 'ubiquitin-ligase_activity', 'area', 'we', 'RTKs', 'addiction', 'cancers', 'growth_signals', 'clustering', 'c-CBL', 'EGFR', 'MET_mutations', 'it', 'transforming_effect', '-CBL_mutations', 'combinatorial_effect', 'We', 'LOH', 'c-CBL', 'significant_number', 'samples', 'MET_or_EGFR_mutations', 'fact', 'about_7%', 'lung_tumor_samples', '-CBL_mutations', 'additional_22%', 'c-CBL-related_LOH', 'c-CBL_a_highly_mutated_molecule', 'lung_cancer', 'LOH', 'transforming_event', 'associated_mutation', 'MET_or_EGFR_locus', 'yet_another_RTK', 'role', 'carcinogenesis', 'We', 'c-CBL_results', 'haploinsufficiency', 'RTK_ubiquitination', 'hyperactivity', 'RTKs', 'sufficient_cause', 'tumorigenesis', 'hypothesis', 'fact', 'c-cbl-/-_mice', 'kinase_activity', 'lymphocytes', 'tumor_formation', '[37]._c-CBL_LOH', 'increased_expression', 'c-CBL', 'other_allele', 'loss', 'allele', 'form', 'synergy', 'reduced_c-CBL_levels', 'mutated_receptors', 'phenotype', 'Previous_studies', 'lab', 'others', 'East_Asians', 'lung_cancers', 'relatively_high_frequencies', 'gain', 'function', 'mutations', 'RTKs', 'EGFR', 'MET', 'cohort', 'Japanese_patients', 'activating_MET_mutation', 'splice_region', 'juxtamembrane_domain', 'E3_activity', 'study', 'activation', 'MET', 'EGFR', 'KRAS', 'HER2_gene_mutations', 'We', 'such_mutations', 'significant_numbers', 'lung_tumor_samples', 'African-Americans', '=\\u200a50)_patients', 'One_MET_mutation', 'groups', '1_and_3_EGFR_mutations', 'African-American_and_Caucasian_cohorts', 'EGFR_mutations', 'key_mutations', 'lung_adenocarcinoma_patients', 'comprehensive_study', '188_patients', 'study', 'different_histologies', 'NSCLC', 'published_series', 'mutations', 'c-CBL', 'MET', 'study', 'different_subtypes', 'NSCLC', 'It', 'we', 'MET_mutations', 'lung_cancer', 'majority_germline', 'We', 'earlier_c-CBL_mutations', 'small_cohort', 'Taiwanese_lung_cancer_samples', 'efforts', 'ethnic_differences', 'we', 'PAX_transcription_factors', 'PAX5', 'lung_cancers', 'preferential_expression', 'mutations', 'above_genes', 'lung_tumor_samples', 'African-Americans', 'study', 'we', 'relatively_high_frequency', '-CBL_mutations', 'lung_cancers', 'large_cell_type', 'Caucasians', 'African-Americans', 'We', 'c-CBL', 'efficacious_target', 'lung_cancers', 'African-Americans', 'prognosis', 'African-Americans', 'lung_cancer', 'men', 'Caucasian_counterparts', 'conclusion', 'results', 'study', 'c-CBL', 'lung_cancers', 'results', 'role', 'c-CBL_mutants', 'ubiquitination_activity', 'relatively_high_mutation_rates', 'c-CBL', 'RTKs', 'MET', 'EGFR', 'it', 'combined_effect', 'tumorigenesis']\n"
     ]
    },
    {
     "name": "stdout",
     "output_type": "stream",
     "text": [
      "===========================================================\n",
      "['_Abstract_Background', 'Non-small_cell_lung_cancer', 'NSCLC', 'heterogeneous_group', 'disorders', 'number', 'genetic_and_proteomic_alterations', 'c-CBL', 'E3_ubiquitin_ligase', 'adaptor_molecule', 'normal_homeostasis', 'cancer', 'We', 'genetic_variations', 'c-CBL', 'tyrosine_kinases', 'EGFR', 'MET', 'NSCLC', 'Methods', 'Findings', 'archival_formalin-fixed_paraffin', 'extracted_genomic_DNA', 'we', 'c-CBL_mutations', 'somatic_fashion', 'lung_cancers', 'c-CBL_mutations', 'MET_or_EGFR_mutations', 'they', 'p53_and_KRAS_mutations', 'normal/tumor_pairwise_analysis', 'significant_loss', 'heterozygosity', 'LOH', 'c-CBL_locus', '22%', 'none', 'samples', 'mutation', 'remaining_copy', 'c-CBL', 'c-CBL_LOH', 'EGFR_and_MET_mutations', 'same_samples', 'select_c-CBL_somatic_mutations', 'S80N/H94Y', 'Caucasian,_Taiwanese_and_African-American_samples', 'NSCLC_cell_lines', 'increased_cell_viability', 'cell_motility', 'Conclusions', 'overall_mutation_rate', 'c-CBL', 'combination', 'somatic_missense_mutation', 'LOH', 'it', 'c-CBL', 'lung_cancers', 'essential_role', 'lung_tumorigenesis', 'metastasis', 'Introduction', 'US', 'approximately_219,400_people', 'lung_cancers', 'them', 'disease', 'number', 'combined_mortality_rates', 'cancers', 'breast', 'prostate', 'colon', 'liver', 'kidney', 'melanoma', 'addition', 'prognosis', 'five-year_survival_rate', 'less_than_15%', 'significant_ethnic_differences', 'lung_cancer', 'outcome', 'blacks', 'whites', 'Gender_differences', 'women', 'significantly_better_prognosis', 'men', 'number', 'genetic_alterations', 'lung_cancer', 'example', 'NSCLC', 'mutations', 'KRAS', 'p53', 'EGFR', 'MET', 'pathways', 'especially_Receptor_Tyrosine_Kinases', 'RTKs', 'c-CBL', 'CBL', 'Casitas_B-lineage_lymphoma', 'mammalian_gene', 'human_chromosome', 'protein_ubiquitination', '3]._CBL_proteins', 'RING_finger_class', 'ubiquitin_ligases', 'E3', 'three_homologues', 'c-CBL,_CBL-b', 'CBL-3_[4]._The_c-CBL', 'CBL', 'b_genes', 'highest_levels', 'hematopoietic_tissues', '5]._c-CBL', 'four_regions', 'functionally_distinct_protein_domains', 'N-terminal_tyrosine_kinase', '(TKB)_domain', 'linker_region', 'catalytic_RING_finger_domain', 'proline-rich_region', 'c-terminal_ubiquitin-associated_(UBA)_domain', 'leucine-zipper_(LZ)_domain', '3]._Both_TKB_and_RING_finger_domains', 'ligand-induced_ubiquitination', 'RTKs', 'RING_finger_domain', 'recruitment', 'E2_ubiquitin-conjugating_enzymes', 'TKB_domain', 'four-helix_bundle', '4H', 'calcium-biding_EF_hand', 'modified_SH2_domain', 'residues', 'addition', 'proline-rich_region', 'c-CBL', 'SH3_domain', 'Grb2', 'c-CBL', 'RTKs', 'GRB2_adaptor_protein', 'c-CBL', 'EGFR', 'E3', 'EGFR', 'ubiquitination', 'degradation', 'CBL', 'EGF', 'cellular_proliferation', 'EGF_[15]._EGF_activation', 'tyrosine_kinase', 'SRC', 'c-CBL', 'turn', 'ubiquitination', 'degradation', 'EGFR', 'recent_study', 'defective_endocytosis', 'EGFR', 'deletion_mutant', 'point_mutation', 'association', 'c-CBL', 'subsequent_ubiquitination', 'first_human_c-CBL_mutations', 'AML', 'FMS-like_tyrosine_kinase', '(FLT3)_internalization', 'ubiquitination', 'E3_activity', 'oncogenesis', 'c-CBL', 'dual_but_separate_function', 'signal_transduction_molecule', 'We', 'c-CBL', 'binding_CRKL', 'BCR/ABL', 'hematopoietic_cells', 'it', 'modulate_functions', 'cytoskeleton', 'proteins', 'talin', 'paxillin', 'TKB_domain', 'number', 'molecules', 'they', 'signal_transduction', 'critical_role', 'CBL', 'normal_homeostasis', 'cancer', 'we', 'it', 'lung_cancers', 'study', 'we', 'novel_c-CBL_somatic_mutations', 'S80N/H94Y', 'Caucasian,_Taiwanese_and_African-American_lung_cancer_patients', 'mutations', 'NSCLC_cell_lines', 'increased_proliferation_and_cell_motility', 'We', 'c-CBL_mutations', 'MET_or_EGFR_mutations', 'LOH', 'c-CBL_locus', 'c-CBL_LOH', 'MET_or_EGFR_mutations', 'We', 'c-CBL_mutations', 'oncogenic_potential', 'MET', 'EGFR', 'lung_cancer', 'Methods_Ethics_Statement', 'Written_consent', 'research', 'human_subjects', 'Institutional_Review_Board', 'University', 'Chicago', 'research', 'laboratory', 'following', 'contact_information', 'Institutional_Review_Board', 'University', 'Chicago', 'McGiffert_Hall', '5751_S._Woodlawn_Ave', '2nd_floor', 'Chicago', 'IL', 'Written_informed_consents', 'patients', 'tissue_samples', 'study', 'Tissue_Samples', 'Lung_cancer_tissue', 'paired_adjacent_normal_lung_tissues', '50_Caucasian', '29_African-Americans', '40_Taiwanese_NSCLC_patients', 'who', 'University', 'Chicago_Hospital', 'Chicago', 'USA', '(Caucasian_and_African-American_patients', 'Taipei_Veterans_General_Hospital', 'Taiwan', 'Taiwanese_patients', 'appropriate_Institutional_Review_Board_permission', 'informed_consent', 'patients', '119_samples', 'men', 'women', 'age', 'diagnosis', '47_to_90_years', 'terms', 'tumor_types', 'squamous_cell_carcinoma', 'large_cell_carcinoma', 'stage', 'I', 'stage', 'stage', 'IV', '(Table_S1', 'Cell_Culture', 'Human_non-small_cell_lung_carcinoma_cells', 'A549', 'H358', 'DMEM', 'RPMI-1640', 'Human_embryonic_kidney_293T_cells', 'DMEM', 'Media', '10%_fetal_bovine_serum', '100_units', 'ml', 'penicillin', '100_µg/ml', 'streptomycin', '(Invitrogen,_Carlsbad', 'Cells', '37°C', 'humidified_incubator', '5%_CO2', 'c-CBL', 'Gene_Mutational_Analysis', 'Exons', '-CBL_gene', 'polymerase_chain_reaction', 'PCR', 'Primers', 'Table_S2', 'PCR_conditions', '1_cycle', '95°C', '5_minutes', '35_cycles', '94°C', '30_seconds', '58°C', '30_seconds', '72°C', '2_minutes', 'one_cycle', '72°C', '10_minutes', 'PCR_products', 'ExoSAP-IT_(USB_Corporation', 'Cleveland', 'Big-Dye_Terminator_Chemistry', '(Applied_Biosystems', 'Sequencing', 'forward_coding_strand', 'confirmation', 'c-CBL_alterations', 'reverse_strand', 'Chromatograms', 'mutations', 'Mutation_Surveyor', '(Softgenetics', 'State_College', 'PA', 'Plasmid_Constructs', 'Site-Directed_Mutagenesis', 'wild-type_c-CBL_cDNA_insert', 'pAlterMax_expression_vector', 'XhoI_and_SalI_restriction_enzyme_sites', 'Promega', 'Madison', 'parental_plasmid_pAlterMax', '-c-CBL', 'TKB_domain_double_mutation', 'S80N/H94Y', 'point_mutation', 'C-terminal_point_mutation', 'c-CBL', 'following_primers', 'double_mutation', 'S80N/H94Y', 'complementary_primers', 'QuickChange_Site-Directed_Mutagenesis_XL_kit', 'Stratagene', 'La_Jolla', 'CA', \"manufacturer's_instructions\", 'constructs', 'point_mutations', 'standard_DNA_sequencing', 'strands', 'Loss', 'Heterozygosity', '(LOH', 'Analysis', 'Five_microsatellites', 'chromosome', '11q', '200_kb', 'c-CBL_gene', '2_control_markers', '11p', 'analysis', 'Table_S3', 'Established_microsatellite_markers', 'respective_primer_sequences', 'GeneLoc_database', 'http://genecards.weizmann.ac.il/geneloc/index.shtml', 'Weizmann_Institute', 'Science', 'Rehovot', 'Primers', 'custom', 'primer', '5′_end', 'FAM', 'PET', 'NED', 'VIC', 'Applied_Biosystems', 'Primer_annealing_temperatures', 'duplex_scores', 'NIST_Primer_Tools', 'National_Institute', 'Standards', 'Technology', 'Gaithersburg', 'MD', 'Primers', 'PCR', 'control_DNA', 'TK6_cells', 'products', 'agarose_gels', 'Bands', 'UV_transilluminator', 'Genomic_DNA', 'tumor_samples', 'normal_lung_tissue', 'Primers', 'multiplex_combinations', 'Table_S4', 'Marker_D11S929', 'internal_control', 'consistency', 'PCRs', 'peaks', 'capillary_electrophoresis', 'Multiplex_PCRs', 'volume', '10_µL', '1_µL_genomic_DNA', '20–50_ng', ',_0.5_µM', 'primer', 'primer_pair', ',_400_µM_dNTPs', '1X_PCR_buffer', 'MgCl2', '0.2_U_Taq_DNA_polymerase', 'PCR', 'ABI_GeneAmp_9700_PCR_System', 'following_conditions', '5_min', '94°C', '30_cycles', '30_sec', '94°C', '1_min', '60°C', '1_min', '72°C', '5_min', '72°C', 'PCR_products', 'capillary_electrophoresis', 'ABI_3130XL_DNA_Analyzer', 'Chromatograms', 'Peak_Scanner', 'GeneMapper_3.7_software', 'Applied_Biosystems', 'allelic_alterations', 'area', 'peaks', 'DNA_PCR_products', 'allele', 'ratio', 'allelic_areas', 'tumor', 'normal_DNA_sample', 'qLOH', '(allelic_ratio', 'tumor_peaks', 'allelic_ratio', 'paired_normal_sample', 'c-CBL', 'at_least_one_other_11q_marker', 'at_least_two_separate_experiments', 'sample', 'allelic_imbalance', 'LOH', 'Samples', 'at_least_two_separate_experiments', 'samples', 'prospective_LOH', 'c-CBL', 'new_control_marker', 'BAX_locus', 'data', 'chromosome', 'integrity', 'sample_DNA', 'Transfection', 'c-Cbl_Constructs', 'A549_cell_line', '(Roche,_Nutley,_NJ', \"manufacturer's_instructions\", 'Eight_µg_of_plasmid_DNA', 'either_no_insert', 'empty_vector', 'wild-type_c-CBL,_S80N/H94Y_c-CBL', 'W802*_CBL', 'transfection', '6-well_culture_plate', 'Cells', 'transfection', 'expression', 'c-CBL_Knockdown', 'c-CBL_knockdown', 'lentiviral_transduction', 'MISSION_lentiviral_transduction_particles', 'Sigma-Aldrich', 'MO', \"manufacturer's_instructions\", '1×105_H358_cells', '6-well_plates', 'following_day', 'stable_c-CBL_knockdown_cell_lines', 'cells', '2_days', '1_µg/ml_puromycin', 'c-CBL_levels', 'whole_cell_lysates', 'anti-CBL_antibody', 'Santa_Cruz_Biotechnologies', 'Santa_Cruz', 'Cell_Viability_Assay', 'Cells', 'transfection_assay', 'transfection', 'viability', 'cells', 'Trypan_Blue_exclusion', 'Wound', 'Healing_Assay', 'A549_cells', '6-well_plates', '48_h', 'medium', 'cells', 'transfection_assay', 'transfection', 'straight_scratch', 'cell_layer', '1_ml_pipette_tip', 'cells', '1×_PBS', 'cellular_debris', 'media', 'Photographs', 'wound_region', '48_h.', 'Western_Blot_Analysis', 'transfection', 'cells', '1X_PBS', 'ice-cold_lysis_buffer', '0.5M_Tris-HCl', 'pH', '1.5_M_NaCl', '2.5%_deoxycholic_acid', '10_mM_EDTA', '10%', '0.5_mM', 'DTT', '1_mM_phenylmethylsulfonyl_fluoride', '5_µg/mL_leupeptin', '10_µg/mL_aprotinin', '5_minutes', 'lysate', '13,000_rpm', '20_minutes', '4°C', 'protein_content', 'supernatant', 'Total_cell_lysates', 'SDS-PAGE_electrophoresis', 'gels', 'nitrocellulose_membranes', 'Whatman', 'Piscataway', 'NJ', 'Membranes', '5%_non-fat_dry_milk', 'phosphate-buffered_saline', 'Tween-20', '(PBST', '(1X_PBS', '0.1%_Tween-20', '1_h', 'room_temperature', 'appropriate_primary_antibody', '4°C', 'Membranes', 'PBST', 'appropriate_horseradish_peroxidase', 'HRP)-conjugated_secondary_antibody', '1_h', 'room_temperature', 'membranes', 'PBST', 'bands', 'BioRad', 'Valencia', 'CA', 'Chemidoc_Gel_documentation_system', 'BioRad', 'Valencia', 'Antibodies', 'Santa_Cruz_Biotechnologies', 'following_dilutions', 'c-CBL', 'EGFR', 'HA', 'Flow_Cytometry', 'Cell_cycle_analysis', 'flow_cytometry', '2×106_cells', 'media', '10%_FBS', 'Cells', 'trypsin/EDTA_treatment', '1X_PBS', 'ice-cold_70%_ethanol', '2_h._Cells', 'cold_PBS', 'solution', 'Triton', '30_minutes', 'dark', 'Cell_cycle_analysis', 'Guava_PCA-96_flow_cytometer', 'Guava_Technologies', 'Millipore', 'Billerica', 'MA', 'Ubiquitin_Ligase_Activity', '293T_cells', 'culture', 'DMEM', '10%_FBS', '1%_penicillin', '100_units', 'mL', 'streptomycin', '100_µg/mL', '0.2_µg', 'EGFR-pcDNA3', '2_µg', 'HA-tagged_c-CBL_constructs', 'calcium_phosphate', \"manufacturer's_protocol\", 'Profection', 'Promega', 'Madison', 'WI', 'cells', 'DMEM', '0.5%_FBS', 'EGF', '100_ng/ml', '15_min', 'cells', 'two_times', 'ice-cold_PBS', '0.2_mM_sodium', 'ice-cold_lysis_buffer', '(10_mM_Tris_HCl', '150_mM_NaCl', '5_mM_EDTA', '1%_Triton_X100', '10%_Glycerol', '2_mM_sodium', 'protease_inhibitors', 'Lysates', 'debris', 'centrifugation', '16,000_g', '10_min', '4°C', 'EGFR_immunoprecipitations', '200_µg', 'cleared_lysate', 'rabbit', 'Protein_A', '/G_Plus_Sepharose', '4°C', 'Precipitations', 'lysis_buffer', 'Laemmli_buffer', 'Elutions', 'EGFR', 'Twenty_micrograms', 'cleared_lysate', 'c-CBL_constructs', 'Statistical_Analysis', 'Mutation_rates', 'different_groups', \"Fisher's_exact_test\", 'continuous_variables', 'group_comparisons', 'analysis', 'variance', '(ANOVA', \"Sidak's_adjustment\", 'multiple_comparisons', 'Experiments', 'repeated_measurements', 'time', 'repeated_measures', 'Greenhouse-Geisser_adjustment', 'degrees', 'freedom', 'Analyses', 'STATA', 'software', '(Stata_Corporation', 'College_Station', 'TX', 'Results_c-CBL_Gene_Mutations', 'Lung_Cancer', 'role', 'c-CBL', 'lung_cancer', 'we', 'genomic_DNA', 'tumor', 'paired_normal_samples', 'multiple_ethnicities', 'lung_tumor_samples', 'Caucasians', 'African-Americans_(n\\u200a=\\u200a29),_and_Taiwanese_(n\\u200a=\\u200a40)_lung_cancer_patients', 'We', '12_pairs', 'primers', 'coding_region', 'c-CBL_gene', '(Table_S2', 'We', '8_unique_somatic_mutations', '-CBL_exons', '8_different_patients', 'variation_L620F', 'known_SNP', 'rs2227988', 'exon', 'eight_novel_non-synonymous_mutations', 'strands', 'c-CBL_genomic_DNA', 'lung_tumor_samples', '(Table', 'none', '8_mutations', 'corresponding_normal_tissue', 'somatic_mutations', 'Four_synonymous_single_nucleotide_variations', 'SNVs', 'study', 'Table_1_Table_1_c-CBL_mutation_analysis', '119_lung_cancer_patient_tumor_tissues', '8_novel_non-synonymous_mutations', 'TKB', 'tyrosine_kinase', 'domain', 'S80N', 'H94Y', 'Q249E', 'RING_finger_domain', 'V391I', 'proline-rich_region', '(72515_72517_del_ATG', 'C-terminal_region', 'W802*,_R830K', 'A848T', 'c-CBL_protein', 'Figure_1A', 'Figure_S1', 'we', 'model_chromatograms', 'representative_samples', 'Figure_1_Figure_1_c-CBL_mutations', 'LOH', 'non-small_cell_lung_cancer', '11q_LOH', 'c', '-CBL_Gene', 'Paired_lung_tumor', 'normal_lung_tissue_samples', 'Taiwanese_patients', 'LOH', '(21.6%', 'LOH', 'c-CBL_locus', 'chromosome', '29_samples', '78.4%', 'normal_allelic_contribution', 'microsatellite_markers', 'Figures_1C', 'D', 'c', '-CBL_Mutations', 'Different_Ethnic_Groups', 'c-CBL_double_mutant_S80N/H94Y', 'same_patient', 'overall_mutation_rate', 'c-CBL', 'lung_tumors', '6.7%', 'frequency', '-CBL_mutation', 'large_cell_carcinoma', '14.7%', '5_of_34_patients', 'squamous_carcinoma', '6.3%', '32_patients', 'adenocarcinoma', '(AD', '1.8%', '1_of_53_patients', 'rates', 'Mutation_rates', '6.0%', 'Caucasians', 'AD', 'SQ', 'LC', '13.8%', 'African-Americans', 'AD', 'SQ', 'LC', '2.5%', 'AD', 'SQ', 'LC', 'Taiwanese_population', 'two_Taiwanese_patients', 'lung_cancer', 'one_squamous_and_one_adenocarcinoma', 'known_SNP_L620F._Ethnic_differences', 'power', 'differences', 'Mutations', 'MET', 'EGFR', 'c-CBL_Alterations', 'East_Asians', 'lung_cancer', 'higher_frequency', 'EGFR_and_MET_mutations', 'lung_tumors', 'we', 'mutations', 'EGFR', 'MET', 'same_Taiwanese_cohort_samples', 'results', 'observed_c-CBL_alterations', 'LOH', 'mutations', '37_samples', 'we', 'overlap', '-CBL_mutations', 'c-CBL_LOH', '(Figure', 'three_c-CBL_mutants', 'known_L620F_SNP', 'samples', 'MET_mutation', 'N375S', 'EGFR_mutation', '8_samples', 'LOH', 'c-CBL_locus', 'additional_mutation', 'MET', '(N375S', 'EGFR', '19_deletion', 'Twenty-six_samples', 'neither_c-CBL_mutation', 'c-CBL_LOH', '3_patients', 'c-CBL_mutation', 'c-CBL_LOH', '26_samples', 'MET_mutation', '8_N375S', '1_L211W', 'EGFR_mutation', '7_exon_9_deletion', '6_L858R', 'other_MET_or_EGFR_mutation', 'rate', 'MET_or_EGFR_mutations', 'patients', 'LOH', 'c-CBL_locus', 'patients', '-CBL_mutation', 'LOH', '4_patients', 'identifiable_mutation', 'c-CBL', 'MET', 'EGFR', '10.8%', '37_patients', 'Taiwanese_patient_cohort', '89.2%_Taiwanese_lung_cancer_patients', 'identifiable_mutation', 'either_c-CBL', 'MET', 'EGFR', 'combination', 'three_genes', 'Figure', 'we', 'p53', 'KRAS_mutations', 'Taiwanese_cohorts', 'Two_p53', '1_KRAS_mutation', 'single_KRAS_mutation', 'one_p53_mutation', 'patient', 'EGFR', '19_deletion', 'c-CBL_mutation', 'other_p53_mutation_sample', 'c-CBL_LOH', 'concurrent_MET_N375S_mutation', 'Taiwanese_samples', 'p53/KRAS_mutations', 'c-CBL_mutations', 'data', 'Figure_2_Figure_2_c-CBL_mutations', 'relationship', 'MET_and_EGFR_mutations', 'lung_cancer', 'Cellular_Functions', 'c-CBL_Alterations', 'Context', 'Lung_Tumorigenesis', 'A._E3_activity', 'mutant_c-CBL_proteins', 'different_c-CBL_mutations', 'E3_activity', 'EGFR', 'model_substrate', 'c-CBL_E3_function', 'c-CBL_mutants', 'enhanced_ubiquitination', 'activated_EGFR', 'wild-type_c-CBL_protein', 'result', 'catalytic_activity', 'c-CBL_mutants', 'EGFR', 'substrate', '(Figure_3A', 'Figure_3_Figure_3_Ubiquitination', 'viability', 'expression', 'cell_cycle', 'analysis', 'various_c-CBL_mutants', 'B._Effect', 'lung_cancer_cell_viability', 'effect', 'representative_c-CBL_mutant', 'three_ethnic_backgrounds', 'lung_cancer_cell_viability', 'cell_lines', 'S80N/H94Y_double_mutation', 'lung_tumor_samples', 'Caucasian', 'Taiwanese', 'methods', 'above_three_mutants', 'them', 'pAlterMax_vector', 'A549_cells', 'cells', 'relatively_low_basal_levels', 'endogenous_c-CBL_(data', 'Transfection_efficiency', 'different_groups', 'number', 'cells', 'c-CBL_wild-type_construct', 'about_70%', 'control_cells', 'empty_vector', 'Cells', 'S80N/H94Y', 'W802*_c-CBL_mutant_constructs', 'increased_number', 'viable_cells', '132.3%', '120.8%', 'empty_vector_control_transfected_cells', 'wild-type_construct', 'p', '(Figure_3B', 'Relative_levels', 'c-CBL_protein', 'whole_cell_lysates', 'samples', 'parallel_experiment', 'c-CBL_protein_levels', 'samples', 'untransfected_and_empty_vector_transfected_cells', 'c-CBL_WT', 'three_c-CBL_mutants', 'C._Effect', 'cell_cycle', 'increases', 'cell_viability', 'different_c-CBL_mutants', 'increased_cellular_proliferation', 'cell_cycle_analysis', 'A549_cells', 'c-CBL_WT', 'three_different_mutants', 'S80N/H94Y', 'W802*.', 'empty_vector_transfectant', 'control', 'transfection_cell_cycle_analysis', 'materials', 'methods', 'significant_change', 'subG1', 'G1', 'S_phase', 'cell_cycle', 'different_mutants', 'G2/M_phase', 'cell_cycle', 'increase', 'cell_numbers', 'three_mutants', 'S80N/H94Y', 'WT', 'difference', 'cell_motility', 'effect', 'expression', 'above_three_c-CBL_mutants', 'cell_migration', 'we', 'wound_healing_assay', 'materials', 'methods', 'closing', 'scratch', 'wound', '48_h.', '(Figure_4A', 'the_samples', 'mutants', 'wound_gap', 'sample', 'cells', 'c-CBL_WT', 'We', 'rate', 'wound_closure', 'the_five_groups', '48_h', 'wild-type_c-CBL_transfectants', '61.1%_open_wound', 'S80N/H94Y', 'W802*_mutants', '18.7%', '23.9%', '34.3%_open_wound', '(Figure_4B', 'Figure', '4_Figure', '4_c-CBL_mutations', 'wound_healing', 'A549_cells', 'E._c-CBL_knockdown', 'cell_viability', 'It', 'LOH', 'samples', 'decreased_expression', 'c-CBL', 'we', 'effect', '-CBL_knockdown', 'lung_cancer_cells', 'A549', 'H358_lung_cancer_cells', 'relatively_high_levels', 'endogenous_c-CBL', '(data', 'c-CBL_expression', 'lentiviral_construct', 'c-CBL_specific_shRNA', 'results', 'scrambled_shRNA', 'results', 'Figure', 'We', 'several_clones', 'varying_degrees', 'c-CBL_knockdown', 'different_sets', 'c-CBL_lentiviral_shRNA_knockdown_efficiency', '(Figure_5A', 'the_clones', 'Clone', 'further_experiments', 'Equal_amount', 'cells', '6-well_plate', 'cell_proliferation', 'various_times', 'results', 'Figure', 'number', 'cells', 'time_dependent_fashion', '100_to_190%', 'shRNA', 'control', 'span', '48_h', '(Figure_5B', 'cell_cycle_phases', 'H358_cells', 'c-CBL_shRNA', 'scrambled_shRNA', 'discernable_differences', 'two_constructs', 'different_phases', 'cell_cycle', 'data', 'Figure', '5_Figure_5_Knockdown', 'c-CBL', 'shRNA', 'cell_proliferation', 'Discussion', 'results', 'c-CBL', 'LOH', 'lung_cancers', 'enhanced_cell_viability', 'motility', 'high_prevalence', 'LOH', 'respect', 'c-CBL', 'lung_tumors', 'MET_or_EGFR_mutation', 'present_study', 'we', 'occurrence', '-CBL_mutations', 'lung_cancer_patients', 'different_ancestral_variations', 'Mutations', 'c-CBL', 'juvenile_myelomonocytic_leukemia', 'myeloid_malignancies', 'AML_study', 'R420Q', 'junction', 'RING_finger', 'linker_region', 'FMS-like_tyrosine_kinase_3_(FLT3)_internalization', 'ubiquitination', 'gain', 'function', 'RTK', 'addition', 'mutations', 'H398Y', 'C384R', 'RING_finger_domain', 'linker_region', 'c-CBL', 'E3_activity', 'homozygous_mutations', 'RING_finger_domain', 'c-CBL_gene', 'result', 'acquired_Uniparental_Disomy', 'UPD', 'It', 'results', 'LOH', '11q23_locus', 'missense_mutations', 'c-CBL', 'somatic_mutations', 'mutations', 'AML', 'abrogation', 'E3_activity', 'prolonged_RTK_activation', 'addition_mutants', 'linker_region', 'RING_finger_domain', 'enhanced_AKT', 'response', 'cytokine_stimulation', 'addition', 'it', 'NH3T3_cells', 'mutations', 'RING_finger', 'linker_region', 'transformation', 'certain_mutations', 'ubiquitination', 'others', 'receptor_recycling', 'prolong_kinase_activity', 'We', 'c-CBL_mutations', 'RING_finger_domain', 'TKB_domain', 'proline-rich_domain', 'C-terminal_region', 'none', 'linker_region', 'AML_studies', 'addition', '8_mutants', 'we', 'different_ethnic_backgrounds', 'example', 'S80N/H94Y', 'Caucasians', 'African-Americans', 'results', 'not_only_the_difference', 'lung_cancer', 'other_cancers', 'genetic_polymorphism', 'different_races', 'same_cancer', 'large_disparity', 'other_ethnic_populations', 'lung_cancer', 'We', 'low_frequency', 'EGFR_and_MET_mutation', 'African-Americans', 'Taiwanese', 'Caucasians', 'study', 'number', 'African-American_samples', 'we', '3_mutations', 'ethnicity', 'It', 'us', 'genetic_alterations', 'targeted_therapeutics', 'African-Americans', 'results', 'evidence', 'importance', 'c-CBL', 'tumorigenesis', 'potential_signaling', 'prediction', 'AML_data', 'V391I_RING_finger_domain_mutation', 'E3_activity', 'it', 'binding_partners', 'c-CBL', 'TKB_domain', 'rich_domain_mutations', 'It', 'TKB_domain', 'growth_factor_receptors', 'it', 'mutants', 'MET', 'It', 'future', 'fluorescence', 'hybridization', 'c-CBL', 'lung_cancer', 'c-CBL', 'important_role', 'K63_poly-ubiquitination_and_subsequent_downregulation', 'RTKs', 'lysosomal_degredation', '3]._Mono-ubiquitination', 'K63-linked_chains', 'substrates', 'c-CBL', 'enhancement', 'biological_and_biochemical_functions', 'Hermann', 'et_al', 'mutations', 'we', 'studies', 'fact', 'E3_activity', 'c-CBL', 'EGFR', 'EGFR_levels', 'various_mutants', 'Multiple_kinases', 'RTKs', 'non-RTKs', 'c-CBL', 'ERBs', 'PDGFR', 'FMS', 'MET', 'c-Kit', 'VEGFR', 'FLT-1,_RON', 'FGFR', 'IR', 'SYK', 'FYN', 'LCK', 'FGR', 'LYN', 'c-ABL', 'lung_cancers', 'relevant_substrates', 'c-CBL', 'terms', 'degradation', 'signal_transduction', 'observation', 'c-CBL_somatic_mutations', 'especially_S80N/H94Y', 'increased_cell_viability', 'cell_motility', 'agreement', 'physiological_role', 'D-cbl', 'regulation', 'apoptosis', 'differentiation', 'Drosophila', 'It', 'EGFR_signaling', 'cellular_proliferation', 'migration', 'breast_cancer_cell_lines', 'role', 'c-CBL', 'negative_regulation', 'RTKs', 'it', 'natural_tumor_suppressor', 'studies', 'cancer_cells', 'tumor_suppressor', 'tumor', 'activities', 'type', '-CBL_mutation', 'number', 'alleles', 'agreement', 'three_c-CBL_mutants', 'tumor_growth', 'metastasis', 'properties', 'mutants', 'RING_finger', 'linker_region', 'c-CBL', 'downstream_effects', 'increased_proliferation', 'migration', 'substrate', 'mutations', 'possibility', 'cellular_functions', 'c-CBL', 'ubiquitin-ligase_activity', 'area', 'we', 'RTKs', 'addiction', 'cancers', 'growth_signals', 'clustering', 'c-CBL', 'EGFR', 'MET_mutations', 'it', 'transforming_effect', '-CBL_mutations', 'combinatorial_effect', 'We', 'LOH', 'c-CBL', 'significant_number', 'samples', 'MET_or_EGFR_mutations', 'fact', 'about_7%', 'lung_tumor_samples', '-CBL_mutations', 'additional_22%', 'c-CBL-related_LOH', 'c-CBL_a_highly_mutated_molecule', 'lung_cancer', 'LOH', 'transforming_event', 'associated_mutation', 'MET_or_EGFR_locus', 'yet_another_RTK', 'role', 'carcinogenesis', 'We', 'c-CBL_results', 'haploinsufficiency', 'RTK_ubiquitination', 'hyperactivity', 'RTKs', 'sufficient_cause', 'tumorigenesis', 'hypothesis', 'fact', 'c-cbl-/-_mice', 'kinase_activity', 'lymphocytes', 'tumor_formation', '[37]._c-CBL_LOH', 'increased_expression', 'c-CBL', 'other_allele', 'loss', 'allele', 'form', 'synergy', 'reduced_c-CBL_levels', 'mutated_receptors', 'phenotype', 'Previous_studies', 'lab', 'others', 'East_Asians', 'lung_cancers', 'relatively_high_frequencies', 'gain', 'function', 'mutations', 'RTKs', 'EGFR', 'MET', 'cohort', 'Japanese_patients', 'activating_MET_mutation', 'splice_region', 'juxtamembrane_domain', 'E3_activity', 'study', 'activation', 'MET', 'EGFR', 'KRAS', 'HER2_gene_mutations', 'We', 'such_mutations', 'significant_numbers', 'lung_tumor_samples', 'African-Americans', '=\\u200a50)_patients', 'One_MET_mutation', 'groups', '1_and_3_EGFR_mutations', 'African-American_and_Caucasian_cohorts', 'EGFR_mutations', 'key_mutations', 'lung_adenocarcinoma_patients', 'comprehensive_study', '188_patients', 'study', 'different_histologies', 'NSCLC', 'published_series', 'mutations', 'c-CBL', 'MET', 'study', 'different_subtypes', 'NSCLC', 'It', 'we', 'MET_mutations', 'lung_cancer', 'majority_germline', 'We', 'earlier_c-CBL_mutations', 'small_cohort', 'Taiwanese_lung_cancer_samples', 'efforts', 'ethnic_differences', 'we', 'PAX_transcription_factors', 'PAX5', 'lung_cancers', 'preferential_expression', 'mutations', 'above_genes', 'lung_tumor_samples', 'African-Americans', 'study', 'we', 'relatively_high_frequency', '-CBL_mutations', 'lung_cancers', 'large_cell_type', 'Caucasians', 'African-Americans', 'We', 'c-CBL', 'efficacious_target', 'lung_cancers', 'African-Americans', 'prognosis', 'African-Americans', 'lung_cancer', 'men', 'Caucasian_counterparts', 'conclusion', 'results', 'study', 'c-CBL', 'lung_cancers', 'results', 'role', 'c-CBL_mutants', 'ubiquitination_activity', 'relatively_high_mutation_rates', 'c-CBL', 'RTKs', 'MET', 'EGFR', 'it', 'combined_effect', 'tumorigenesis']\n"
     ]
    },
    {
     "name": "stdout",
     "output_type": "stream",
     "text": [
      "===========================================================\n",
      "['Recent_evidence', 'uniparental_disomy', 'aUPD', 'novel_mechanism', 'pathogenetic_mutations', 'cancer', 'homozygosity', 'novel_mutations', 'myeloproliferative_neoplasms', 'MPNs', 'we', 'genome-wide_single_nucleotide_polymorphism', '(SNP)_screen', 'aUPD', '58_patients', 'atypical_chronic_myeloid_leukemia', 'aCML', 'JAK2_mutation–negative_myelofibrosis', 'MF', 'JAK2_mutation–negative_polycythemia_vera', 'PV', 'Stretches', 'neutral_SNP', '10_(33%', 'aCML', '6%', 'PV', 'total', '7_different_chromosomes', '7q', '11q', '10%', 'aCML_cases', 'CBL_mutations', '3_cases', '11q_aUPD', 'analysis', '574_additional_MPNs', 'total', '27_CBL_variants', '26_patients', 'aCML', 'myelofibrosis', 'chronic_myelomonocytic_leukemia', 'Most_variants', 'missense_substitutions', 'RING', 'linker_domains', 'CBL_ubiquitin_ligase_activity', 'proliferative_advantage', '32D_cells', 'FLT3', 'We', 'CBL_mutations', 'novel_and_widespread_pathogenetic_abnormality', 'morphologically_related,_clinically_aggressive_MPNs', 'Introduction', 'Myeloproliferative_neoplasms', 'MPNs', 'clonal_hematopoietic_stem_cell_disorders', 'overproliferation', 'one_or_more_myeloid_cell_lineages', 'bone_marrow', 'increased_numbers', 'mature_and_immature_myeloid_cells', 'peripheral_blood', 'Excess_proliferation', 'splenomegaly_and_cardiovascular_complications', 'increased_risk', 'transformation', 'acute_leukemia', 'MPNs', 'subtypes', 'specific_morphologic', 'hematologic', 'laboratory_parameters', '4_so-called_classic_MPNs', 'polycythemia_vera', 'PV', 'essential_thrombocythemia', '(ET', 'primary_myelofibrosis', 'MF', 'chronic_myeloid_leukemia', 'addition', 'several_atypical_MPNs', 'both_dysplastic_and_proliferative_features', 'atypical,_BCR-ABL_negative_CML', '(aCML).2__MPNs', 'mutations', 'gene_fusions', 'tyrosine_kinases', 'critical_drivers', 'excess_proliferation', 'result', 'deregulated_or_constitutive_signaling.3_The_2_most_prominent_examples', 'BCR-ABL', 'CML4', 'V617F_JAK2_mutation', 'PV', 'ET', 'MF,5⇓⇓', 'more_than_40_variant_tyrosine_kinase_fusions', 'MPNs', 'JAK2', 'FLT3.2_Activating_mutations', 'components', 'NRAS', 'tyrosine_kinases9,10', 'molecular_pathogenesis', 'majority', 'atypical_MPNs', 'approximately_50%', 'ET_and_MF_cases', 'V617F_JAK2', 'several_different_routes', 'observation', 'many_PV_patients', 'evidence', 'acquired_uniparental_disomy', 'aUPD', 'Regions', 'loss', 'heterozygosity', '(LOH', 'constitutional_DNA', 'change', 'copy_number', 'mitotic_recombination', 'selection', 'products', 'initial_observations', 'PV', 'it', 'aUPD', 'both_hematologic_and_epithelial_malignancies', 'known_oncogenic_changes', 'variety', 'genes', 'affected_regions.13', 'study', 'we', 'MPNs', 'unknown_molecular_etiology', 'it', 'tool', 'novel_driver_mutations', 'Methods', 'Patients', 'Peripheral_blood', 'bone_marrow_samples', 'patients', 'MPN', 'other_hematologic_malignancy', 'standard_morphologic', 'hematologic', 'laboratory_criteria', 'Clinical_data', 'subset', 'cases', 'study', 'Internal_Review_Boards', 'participating_institutions', 'informed_consent', 'accordance', 'Declaration', 'Helsinki', 'SNP_array', 'analysis', 'DNA_labeling', 'hybridization', 'Affymetrix_50k_XbaI_chips', 'Deutsches_Ressourcenzentrum', 'für_Genomforschung', 'RZPD', 'Germany', 'Raw_data', 'Affymetrix_GeneChip_Operating_Software', 'High_Wycombe', 'United_Kingdom', 'GTYPE', 'copy_number_analysis_tool', '(CNAT', 'Data', 'custom-designed_spreadsheets', 'loss', 'heterozygosity', 'number_changes', 'ideogram_format', 'Data', 'Affymetrix_Genotyping_Console', '(version', 'median', '98.2%', '(range', '91.5%-99.6%', 'SNPs', 'readable_calls', 'Mutation_analysis', 'Detection', 'mutations', 'high_resolution_melting', '(HRM)_analysis', 'Rotor-Gene', '(Corbett_Life_Sciences', 'St_Neots', 'United_Kingdom', 'Direct_sequencing', 'polymerase_chain_reaction', '(PCR)_products', 'standard_techniques', 'ABI_3130_Genetic_Analyzer', '(Applied_Biosystems', 'Warrington', 'United_Kingdom', 'Mutation_Surveyor', 'SoftGenetics', 'State_College', 'PA', 'CBL_mutations', 'ATG', 'Ensembl_cDNA_sequence', 'ENSG00000110395', 'dropping_factor', '(relative_intensity_drop', 'wild-type_allele_peak', 'concurrently_run_normal_sample', '60%', 'biallelic_mutation', 'dropping_factor', 'less_than_60%', 'monoallelic', 'CBL', 'exon', 'CBL_i7f', 'CBL_i8r', 'CBL', 'CBL_i8f', 'and_CBL_i9r', '(5′-cacaatggattttgccagtctcc-3′', 'CBL', 'reverse-transcriptase_PCR', '(RT-PCR', 'RNA', 'primers_CBLe7F', 'Other_primer_sequences', 'request', 'Microsatellite_analysis', 'DNA_samples', 'series', 'fluorescently_labeled_primer_pairs', 'highly_polymorphic_microsatellite_markers', 'chromosome_11q', 'described.10', 'aUPD', '4_or_more_consecutive_markers', 'CBL', 'change', 'allelic_copy_number', 'P', 'absence', 'aUPD', 'published_rates', 'heterozygosity', 'Copy_number', '11q', 'multiplex_ligation_probe_amplification', 'MLPA', 'Marfan_probeset', '1_(P065', 'MRC_Holland', 'Amsterdam', 'Netherlands', 'kit', 'four_11q_control_probes', 'Constructs', 'pMY-wtCBL', 'pMY-CBLR420Q', 'wild-type_and_R420Q_CBL', 'green_fluorescent_protein', 'GFP).15_Other_CBL_mutant_constructs', 'pMY-wtCBL', 'QuikChange_Site-Directed_Mutagenesis_Kit', '(Stratagene', 'pAL/FLT3', 'HA_ubiquitin', 'Cell_lines', 'IL-3–dependent_murine_myeloid_cell', 'Deutsche_Sammlung_von_Mikroorganismen', 'und_Zellkulturen', 'Braunschweig,_Germany', '90%', 'RPMI_1640_medium', '10%_fetal_bovine_serum', '(FBS', 'WEHI-3B', 'medium_(WEHI', 'cells', 'humidified_incubator', '37°C', '5%_carbon_dioxide', '32D_cells', 'electroporation', 'wt-FLT3', 'pAL_vector', '15_ng/mL', '(Invitrogen,_Paisley_United_Kingdom', 'Platinum-E_(Plat-E)_retrovirus_packaging_cell', 'calcium_phosphate_method', '5_μg_CBL', 'DNA', '/wtFLT3_cells', 'Plat-E_cells', '48_hours', 'volume', '2_mL', '50%', '50%_DMEM', '10%_FBS', '5%_WEHI', 'GFP_positive_cells', 'flow', 'highest_possible_purity', 'BD_FACSAria_cell_sorter', 'Becton_Dickinson', 'Stanford', 'insufficient_cells', 'experiments', 'flow_sorting', 'cells', 'culture', 'greater_than_95%_purity', 'Growth_factor_withdrawal', 'Cell_growth', 'wt-FLT3,_vector-only_transfected_cells', 'parental_32D_line', 'stably_transfected_cells', 'Cells', '3_days', 'triplicate', 'CBL_mutant', 'wt-CBL_control', '96-well_plates', 'Cultures', 'proliferation', 'Aqueous_One_Solution_Cell_Proliferation_Assay_kit', 'MTS', 'Promega', 'Southampton', 'United_Kingdom', 'experiments', 'results', 'GraphPad_Prism_4_software', 'GraphPad_Software', 'San_Diego', 'Ubiquitin_ligase_activity', 'ubiquitin_ligase_activity', 'CBL_mutants', 'comparison', 'wild-type_CBL', '/wtFLT3_cells', 'wild-type_or_CBL_mutants', 'electroporation', '20_μg_pCMV-HA_ubiquitin', 'Cells', 'culture', 'WEHI', '12_hours', 'transfection', 'FLT3_ligand', '10_minutes', 'buffer', 'described.18_Lysates', 'FLT3-specific_polyclonal_antibody', '4°C', 'Protein_G_agarose_beads', '100_μL', '4°C', '4_hours', 'beads', 'ice-cold_radioimmunoprecipitation_assay', '(RIPA)_lysis_buffer', 'supernatant', 'sodium_dodecyl_sulphate_(SDS)_sample_loading_buffer', 'antibodies', 'HA-ubiquitin', 'sc-805', 'Santa_Cruz_Biotechnology', 'Santa_Cruz', 'CBL', 'Abcam', 'Cambridge', 'United_Kingdom', 'FLT3', 'sc-479', 'Cell_Signaling_Technology', 'Danvers', 'Results', 'SNP_array_analysis', 'We', 'genome-wide_SNP_analysis', 'leukocyte_DNA', '58_MPD_patients', 'aCML', 'V617F_JAK2_negative_MF', 'JAK2_mutation', 'negative_PV/idiopathic_erythrocytosis', 'comparators', 'we', 'cases', 'CML', 'transformation', 'crisis', 'chronic_lymphocytic_leukemia', 'CLL', 'We', 'likely_regions', 'aUPD', 'at_least_20_Mb', ',_<_5%_SNPs', 'telomere', 'change', 'copy_number', 'Figure_1A', 'Such_large_regions', 'we', 'aUPD', 'aCML', '33%', 'cases', 'contrast', 'aUPD', 'single_case', 'MF', 'other_patient_subgroups', 'total', '7_different_chromosomes', 'abnormalities', '7q', '11q', '10%', 'aCML_cases', 'affected_regions', 'size', '29_Mb', 'complete_copy', 'chromosome', '(Table', 'Figure_1_Download', 'new_tabDownload_powerpoint', 'Figure_1_Single_nucleotide_polymorphism', 'results', 'initial_mutation_analysis', '(A)_Array_analysis', '2_control_patients', 'copy_number', 'CN', 'heterozygosity', 'x-axis', 'CN_plots_show', 'number)−2', 'CNAT', 'values', '−1', 'deletions', 'greater_than_+1_indicating_amplifications', 'x-axis', 'LOH', 'log10', 'P_values', '2_panels', 'left', 'polycythemia_vera', '(PV)_case', 'homozygous_V617F_JAK2_mutation', 'gross_copy_number_change', 'individual_datapoints', 'zero_line', 'large_block', 'aUPD', '2_panels', 'right', 'chronic_myeloid_leukemia', '(CML)_blast_crisis_case', 'LOH', '20q_deletion', '(B', 'case_UPN', 'large_block', '11q', 'aUPD', 'analysis', 'granulocytes', 'mononuclear_cells', 'MNCs', 'same_sample', '(C', 'Chromosome_1p_aUPD', 'case', 'UPN', 'G>T_MPL_mutation', 'W515L_substitution', '(D', 'Whole_chromosome_13_isodisomy', 'case', 'UPN', 'homozygous_FLT3_ITD', 'Two_controls', 'acute_myeloid_leukemia', 'AML', 'patient', 'heterozygous_FLT3_ITD', 'healthy_individual', 'View_inlineView_popup_Table_1_Chromosomal_regions', 'cases', 'aUPD_Association', 'aUPD', 'acquired_oncogenic_mutations', 'we', 'constitutional_DNA', 'regions', 'homozygosity', '1_individual', 'we', 'marked_reduction', 'proportion', '11q_aUPD_positive_cells', 'comparison', 'mononuclear_cells', 'granulocytes', 'acquired_abnormality', 'Figure_1B', 'affected_regions', 'genes', 'malignancies', 'we', 'mutational_status', 'MPL_gene', 'case', 'UPN', '1p_aUPD', 'homozygous_G>T_change', 'Figure_1C', 'previously_reported_W515L', 'Case_UPN', 'whole_chromosome', 'UPD', 'homozygous_FLT3_internal_tandem_duplication', 'ITD', 'Figure_1D', 'Candidate_genes', 'abnormalities', '17q', '21q', 'NF1', 'RUNX1', '11q', 'aUPD', 'CBL_mutations', 'we', 'analysis', '2_recurrent_regions', 'aUPD', '7q', '11q', 'strong_association', 'MPNs', 'aberrant_tyrosine_kinase', 'we', 'genes', 'tyrosine_kinases', 'components', 'minimally_affected_region', 'chromosome_7q', '3_tyrosine_kinases', 'MET', 'EPHA1', 'We', 'coding_exons', 'genes', '3_cases', '2_normal_controls', 'abnormalities', 'we', 'sequence_changes', 'exons', 'BRAF', 'gene', 'downstream_component', 'malignant_melanoma', 'tyrosine_kinase_genes', 'chromosome_11q', 'several_genes', 'signal_transduction_components', 'CBL', 'known_oncogene', 'signaling.21', 'Sequencing', 'CBL', 'three_11q_aUPD_cases', 'UPN', 'UPN', 'T>C_change', 'exon', 'L380P_substitution', 'Case_UPN', 'C>G_missense_change', 'exon', 'P417A_change', '(Figure', 'array_results', 'mutations', 'cases', 'UPN', 'residual_wild-type_alleles', 'case', 'both_the_mutation', 'level', 'aUPD', 'greater_background', 'normal_cells', 'Figure_2_Download', 'new_tabDownload_powerpoint', 'Figure_2_CBL_mutations', '3_cases', '11q_aUPD', '(A', 'Genotyping_Console_output', 'homozygous_SNP_calls', 'number_state', 'Hidden_Markov_Model', 'blue', 'smoothed_copy_number', 'red', '(B)_Ideograms', 'lack', 'large_copy_number_changes', 'blocks', 'homozygosity', '11q', 'Abbreviations', 'Figure', '(C', 'Sequence_changes', '↓', 'case', 'normal_controls', 'c.1139T', '>C', 'L380P_mutation', 'UPN', 'G', 'P417A._Prevalence', 'nature', 'CBL_mutations', 'prevalence', 'CBL_mutations', 'we', 'exons', '(that_encode_amino_acids', 'additional_574_MPN_cases', 'total', '27_sequence_variants', '26_patients', 'whom', '10_had_chronic_myelomonocytic_leukemia', 'CMML', 'aCML', 'hypereosinophilic_syndrome/chronic_eosinophilic_leukemia', '(HES/CEL', 'Tables', 'we', 'mutations', 'gene', 'we', 'coding_exons', '70_CBL_mutation_negative_aCML', 'CML-like_MPN_cases', 'high_resolution_melt', '(HRM)_analysis', 'further_sequence_changes', 'known_polymorphisms', 'mutations', 'CBLB_exons', 'CBLC', 'exons', 'CBL_exons', 'activity', 'BCR-ABL', 'progression', 'CML', 'chronic_phase', 'crisis22', 'we', 'abrogation', 'CBL_activity', 'increase', 'HRM_analysis', 'CBL_exons', 'blast_crisis_cases', 'mutations', 'View_inlineView_popup_Table_2_Cases', 'View_inlineView_popup', 'CBL_sequence_variants', '27_CBL_variants', '21_(78%', 'missense_substitutions', '12_amino_acids', '15_different_substitutions', '5_(19%', 'candidate_splicing_abnormalities', '(3%', 'stop_codon', '(Table', 'changes', '4_cases', 'single_case', 'AML.15', 'N454D', 'residues', 'missense_mutations', 'CBL_orthologues', '2_other_human_CBL_family_members', '(Figure', 'mutation', 'stop_codon', 'patient', 'UPN', 'who', 'PCR', 'affected_regions', 'sequencing', '2_changes', 'different_alleles', 'Figure_3_Download', 'new_tabDownload_powerpoint', 'Figure_3_Location', 'missense_mutations', '(Top_panel', 'Schematic_representation', 'CBL_protein', 'tyrosine_kinase', 'linker', 'RING', 'ubiquitin-associated/leucine_zipper_(UBA/LZ)_domains', '(Bottom_panel', 'ClustalW_alignment', 'entire_linker', 'RING_domains', 'part', 'distal_sequence', 'RING_domain', 'defining_C', 'H_residues', 'shaded_pale_blue', 'Residues', 'missense_mutations', 'study', '▼', 'CBL_mutations', 'conjunction', 'other_known_mutations', '2_cases', 'UPN', 'UPN', 'we', 'mutational_status', 'leukocytes', 'T_cells', 'buccal_epithelia_cells', 'cases', 'L380P_mutation', 'leukocytes', 'third_case', 'UPN', 'V617F_JAK2_negative_ET', 'MF', 'Analysis', 'DNA', 'sequential_bone_marrow_slides', 'R420Q_mutation', 'ET_phase', 'transformation', 'Figure_4B', '3_CBL-positive_MF_cases', 'MPL_515_mutations', 'CBL_mutation_positive_cases', 'cytogenetic_indicators', 'tyrosine_kinase_fusions', 'FLT3_ITD', 'NRAS_mutations', 'V617F_JAK2', 'exception', '1_case', 'UPN', 'MF', 'who', 'L380P_CBL', 'V617F_JAK2', 'Analysis', 'retrospective_bone_marrow_slides', 'case', 'presence', 'V617F_JAK2', 'low_level', 'absence', 'L380P_CBL', 'CBL_mutation', 'V617F', 'further_3_years', 'significant_rise', 'peripheral_leukocyte_counts', 'Figure_4C', 'further_case', 'UPN', 'systemic_mastocytosis', 'CBL_mutation', 'positive_CMML', 'retrospective_samples', 'Figure', '4_Download', 'new_tabDownload_powerpoint', 'Figure_4_Acquisition', 'CBL_mutations', '(A)_Comparison', 'granulocytes', '(gran', 'buccal_epithelial_cells', 'bucc', 'T_cells', 'T', 'L380P_mutations', 'cases', 'Sequential_leukocyte', 'platelet_counts', 'case', 'who', 'essential_thrombocythemia', 'ET', 'Homozygous_CBL_R420Q', 'transformation', 'previous_specimens', '(C', 'Clinical_course', 'case', 'UPN', 'who', 'MF', 'elevated_leukocyte_counts', 'appearance', 'CBL_L380P_mutation', 'JAK2_V617F_mutation', 'low_level', 'diagnosis', 'CBL', '2008_sample', 'CBL', 'clone', 'sequence_trace', '(D)_RT-PCR_analysis', 'cases', 'controls', 'expected_product', 'CBL', 'Cases_UPN', 'UPN', 'smaller_bands', 'complete_deletion', 'exon', 'abnormalities', 'RNA', '5_cases', 'potential_splicing_mutations', 'Patients_UPN', 'UPN', 'double_bands', 'RT-PCR', 'one', 'normal_product', 'smaller_band', 'complete_deletion', 'exon', 'case', '(Figure_4D', 'cell_line_MOLM-13.23', 'Patient_UPN', 'single_band', 'RT-PCR', 'sequence_analysis', 'exon_8+4_C>T_change', 'It', 'variant', 'case_UPN', 'consequence', 'pathogenicity', 'intronic_variant', 'case', 'UPN', 'association', 'CBL_mutations', 'UPD', 'association', 'CBL_mutations', 'more_detail', 'we', 'microsatellite_analysis', 'mutated_cases', '9_polymorphic_markers', 'chromosome', '26_cases', 'patterns', 'significant_tracts', 'homozygosity', '11q_aUPD', 'Case_UPN', '2_mutations', 'markers', '11_cases', 'biallelic_CBL_mutations', 'sequence_analysis', 'complete_homozygosity', 'all_microsatellite_loci', 'at_least_4_consecutive_homozygous_calls', 'location', 'CBL_gene', '(Figure', 'We', 'multiplex_ligation_probe_amplification', 'MLPA', 'observed_homozygosity', 'consequence', 'deletion', 'copy_number_changes', 'it', 'homozygosity', 'aUPD', 'number', 'mutated_alleles', 'microsatellite_analysis', '20_cases', '(Figure', 'UPN', 'UPN', 'significant_tracts', '11q_homozygosity', 'monoallelic_CBL_mutation', 'UPN', 'UPN', '11q_homozygosity', 'clear_biallelic_CBL_mutations', 'reason', 'discrepant_cases', 'it', 'aUPD', 'UPN', 'UPN', 'gene', '11q', 'acquisition', 'CBL_mutation', 'Homozygosity', 'CBL_mutations', 'absence', 'UPN', 'UPN', 'subcytogenetic_deletion', '1_allele', 'Figure', '5_Download', 'figureOpen', 'new_tabDownload_powerpoint', 'Figure_5_Microsatellite_analysis', 'CBL_mutation_positive_cases', 'number', 'CBL', 'alleles', '(1_monoallelic', '2_biallelic', 'sequence_analysis', '“Experimental_procedures', 'Microsatellites', 'case', 'positions', 'chromosome_11q', 'Correlation', 'CBL_mutations', 'clinical_features', 'We', 'clinical_and_hematologic_features', 'patients', 'CBL_mutations', 'analysis', 'cases', 'aCML', 'MF', 'CMML', 'subgroups', 'CBL_mutations', 'Patients', 'CBL_mutations', 'shorter_overall_survival', 'progression-free_survival', 'mutation_negative_cases', '(overall_survival', '33_months', '39_months', 'progression-free_survival', '22_months', '32_months', 'differences', 'significant_difference', 'gender_distribution', 'age', 'standard_hematologic_parameters', 'mutation_positive_and_mutation_negative_cases', 'differences', 'individual_disease_entities', 'Figure', '6_Download', 'new_tabDownload_powerpoint', 'Figure_6_Clinical_significance', 'CBL_mutations', 'Overall_survival', 'A', 'progression-free_survival', '(B', 'atypical_chronic_myeloid_leukemia', 'aCML', 'chronic_myelomonocytic_leukemia', 'CMML', 'MF_cases', ')_CBL_mutations', 'differences', 'mutation_positive_and_negative_cases', 'Kaplan-Meier_analysis', 'activities', 'CBL_mutants', 'We', 'selected_CBL_variants', 'oncogenic_activity', 'they', 'interleukin-3', 'IL-3)–dependent_cell_line', 'growth_factor_independence', 'conjunction', 'overexpression', 'wild-type_FLT3', 'We', 'P417A', 'R420Q', 'degree', 'growth_factor_independence', '32D_cells', 'effect', 'wild-type_FLT3', 'contrast', 'wild-type_CBL', 'growth_advantage', 'FLT3_overexpression', 'N454D_change', 'it', 'rare_polymorphism', 'pathogenetically_unimportant_passenger_mutation', '(Figure', 'differences', 'survival', 'different_mutants', 'Figure', 'Figure_7_Download', 'new_tabDownload_powerpoint', 'Figure_7_Transforming_activity', 'CBL_mutants', '32D_cells', 'wild-type_FLT3', 'wild-type_or_mutant_CBL_constructs', 'IL-3_independent_growth', '3_days', 'Results', 'mean', 'at_least_3_independent_experiments', 'triplicate', 'y-axis', 'proliferation', 'arbitrary_units', 'MTS_assay', 'Promega', 'days', 'Figure_8_Download', 'new_tabDownload_powerpoint', 'Figure_8_Survival', 'abrogation', 'E3_ubiquitin_ligase_activity', '(A)_Relative_survival/proliferation', '32D_cells', 'wild-type_or_mutant_CBL', '48_hours', 'growth_factor_withdrawal', 'MTS_assay', '(B)_32D_cells', 'HA-tagged_ubiquitin', 'FLT3_ligand', 'lysis', 'FLT3', 'Total_blots', 'FLT3', 'CBL', 'Abrogation', 'E3_ubiquitin_ligase_activity', 'It', 'FLT3', 'CBL', 'ligand_stimulation', 'FLT3', 'wild-type', 'CBL.15', 'We', 'transforming_activity', 'ubiquitin_ligase_activity', 'CBL_variants', 'ability', 'HA-tagged_ubiquitin', 'FLT3', 'stimulation', 'FLT3_ligand', 'P417A', 'R420Q_mutants', 'loss', 'ubiquitin_ligase_activity', 'N454D', 'wild-type_CBL', 'Figure_8B', 'Discussion', 'initial_aim', 'study', 'large_regions', 'aUPD', 'we', 'relatively_low_resolution', 'genome', 'we', 'constitutional_DNA', 'cases', 'we', 'extended_blocks', 'homozygosity', 'we', 'consequence', 'aUPD', 'constitutional_UPD', 'autozygosity', 'consaguinity', 'we', 'very_conservative_definition', 'candidate_aUPD_regions', 'at_least_20_Mb_homozygous_SNPs', 'telomere', 'We', 'aUPD', 'aCML', 'other_MPNs', 'known_mutations', 'Six_distinct_regions', 'aUPD', 'aCML', 'substantial_genetic_heterogeneity', 'genesis', 'disorder', 'we', '2_recurrent_regions', 'aUPD', '7q', '11q', '10%', 'cases', 'presence', 'common_molecular_abnormalities', 'mutation', 'tyrosine_kinases', 'associated_signal_transduction_components', 'known_association', 'deregulated_tyrosine_kinase', 'we', 'abnormality', 'we', 'missense_CBL_mutations', 'three_11q_aUPD_cases', 'further_MPNs', 'total', '27_CBL_variants', '26_patients', 'who', 'aCML', '8%', 'MF', '6%', 'CMML', '13%', 'HES/CEL', '1%', 'that_is,_morphologically_and_clinically_related_diseases', 'poor_prognosis', 'We', 'specific_clinical_or_prognostic_features', 'CBL_mutated_cases', 'Casitas_B-lineage_lymphoma', 'CBL', 'well_characterized_protein', 'positive_and_negative_regulatory_roles', 'tyrosine_kinase', 'positive_role', 'CBL', 'activated_receptor_tyrosine_kinases', 'N-terminal_tyrosine_kinase', '(TKB)_domain', 'adaptor', 'downstream_signal_transduction_components', 'SHP2', 'RING_domain', 'CBL', 'E3_ligase_activity', 'ubiquitinylates', 'activated_receptor_tyrosine_kinases', 'lysine_residues', 'signal', 'internalization', 'subsequent_recycling', 'degradation.21,24,25_CBL', 'characterization', 'v-Cbl', 'transforming_component', 'Cas_NS-1_retrovirus', 'thus_its_association', 'neoplasia', 'it', 'CBL_mutations', 'human_malignancy', 'specifically_occasional_cases', 'AML.15,23,27', 'We', 'CBL_mutations', 'MPNs', 'previous_reports', '11q_aUPD', 'MDS28', 'CBL_mutations', 'disease', '7_of_12_MDS_cases', 'aUPD', '11q', 'CBL', 'mutations.29', '2_other_human_CBL_family_members', 'CBLB', 'CBLC', 'we', 'aUPD', 'regions', 'genes', 'mutations', 'linker/RING_domain', 'CBLB', 'We', 'total', '15_different_CBL_missense_mutations', '12_residues', 'Table', 'Figure', 'Mutations', 'residues', 'study', 'loss', 'E3_ubiquitin_ligase_activity', 'concomitant_impairment', 'EGFR_internalization', 'RING_finger_mutations', 'oncogenicity', 'NIH3T3_cells', 'mutations', 'key_residues', 'α-helix', 'linker_region', 'ubiquitin_ligase_activity', 'precise_amino_acid_substitutions', 'we', 'we', 'mutations', 'both_the_RING_finger_and_linker_regions', 'autonomous_growth', '32D/wt-FLT3_cells', 'causal_relationship', 'MPN_phenotype', 'fact', 'one_mutation', 'N454D', 'importance', 'functional_analysis', 'driver_mutations', 'irrelevant_passengers', 'infrequent', 'mutation', 'species', 'contrast', 'other_missense_mutations', 'highly_conserved_residues', 'autonomous_growth', 'presence', 'CBL_mutations', 'overexpression', 'wild-type_FLT3', 'paucity', 'receptor_tyrosine_kinase_gene_expression', '32D_cells', 'mutants', 'cooperation', 'other_events', 'rise', 'clinically_manifest_disease', 'latter_hypothesis', 'we', '2_cases', 'CBL_mutations', 'progression', 'preexisting_MPN', '(Figure', 'cases', 'identity', 'cooperating_change', 'one', '(relatively_low_level', 'progression', 'CBL_L380P_positive_disease', '2_mutations', 'different_clones', 'observation', 'leukemic_blasts', 'approximately_half', 'V617F_positive_MPNs', 'AML', 'JAK2_mutation.32,33', 'It', 'CBL_mutations', 'secondary_events', '2_cases', 'we', 'Further_evidence', 'requirement', 'additional_cooperating_genetic_events', 'published_mouse_studies', 'neither_complete_CBL_knockout', 'heterozygous_knockin', 'RING_finger', 'mutant_C379A', 'mouse_C379', 'human_C381', 'evidence', 'MPN', 'closer_analysis', 'subtle_hemopoietic_perturbations', 'pathogenesis', 'MPNs', 'hemopoietic_stem_cells', '(HSCs', 'animals', 'number', 'wild-type_HSCs', 'hemopoietic_system', 'effects', 'increased_STAT5_accumulation', 'phosphorylation.34,35_Hyperresponsiveness', 'factors', 'stem_cell_involvement', 'cardinal_features', 'MPNs', 'association', 'STAT5_activation', 'MPNs', 'it', 'overt_hematologic_disease', 'homozygous_knockin_mutant', 'findings', 'CBL_mutations', 'full_MPN_phenotype', 'nature', 'cooperating_abnormalities', 'results', 'overexpression', 'tyrosine_kinase', 'CBL_mutants', 'transformation', 'we', 'kinase', 'mutation_positive_cases', 'tyrosine_kinase_expression_profiling', 'data', 'One_CBL_mutation_positive_case', '7q_UPD', 'SNP_array', '2_abnormalities', 'CBL_mutation', 'skipping', 'exon', 'murine_model', 'NUP98-HOXD13', 'progression', 'MDS', 'AML,38', 'theory', 'acute_leukemia', 'complementary_mutations', 'differentiation', 'case', 'CBL', 'proliferation', 'apoptosis', 'fact', 'many_CBL_mutations', 'aUPD', 'clones', 'homozygous_mutations', 'selective_advantage', 'prevailing_view', 'CBL_RING_finger_and_linker_region_mutants', 'dominant_negative_fashion', 'it', ',_unknown_locus', '11q', 'target', 'aUPD', 'finding', '1_case', 'Y371H_mutation', 'stop', 'opposite_alleles', 'homozygous_CBL_mutations', 'direct_selective_advantage', 'we', 'entire_gene', 'mutations', 'it', 'other_cases', 'heterozygous_mutations', 'premature_stop_codons', 'other_allele', 'heterozygosity', 'cases', 'variable_proportions', 'background_normal_cells', 'part', 'malignant_clone', 'nontransforming_N454D_mutant', '2_cases', 'heterozygous_R420Q', 'thus_absence', 'homozygosity', 'presence', 'summary', 'we', 'oncogenic_CBL_mutations', 'subset', 'hematologically_related,_poor_prognosis_MPNs', 'findings', 'notion', 'MPNs', '“tyrosine_kinopathies', 'diseases', 'aberrant_activation', 'proliferation_and_survival_pathways', 'consequence', 'mutations', 'excess_tyrosine_kinase', 'view', 'fact', 'tyrosine_kinases', 'such_good_drug_targets', 'possibility', 'CBL-mutated_cases', 'therapeutic_inhibition']\n"
     ]
    },
    {
     "name": "stdout",
     "output_type": "stream",
     "text": [
      "===========================================================\n",
      "['Oncogenic_mutations', 'monomeric_Casitas_B-lineage_lymphoma', '(Cbl)_gene', 'many_tumors', 'significance', 'Several_human_c-Cbl_(CBL)_structures', 'protein', 'different_stages', 'activation_cycle', 'mechanistic_insight', 'stability-activity_tradeoffs', 'cancer-related_proteins', 'disease_onset', 'progression', 'study', 'we', 'effects', 'missense_cancer_mutations', 'structures', 'four_stages', 'CBL_activation_cycle', 'driver_mutations', 'CBL_stability', 'activity', 'We', 'recurrent,_homozygous,_and_leukemia-specific_mutations', 'greater_destabilizing_effects', 'CBL_states', 'random_non-cancer_mutations', 'We', 'ability', 'computational_models', 'changes', 'CBL_stability', 'ubiquitin_conjugating_enzyme_E2', 'blind_CBL-mediated_EGFR_ubiquitination_assays', 'cells', 'Experimental_CBL_ubiquitin_ligase_activity', 'agreement', 'predicted_changes', 'CBL_stability', 'lesser_extent', 'CBL-E2_binding_affinity', 'Two-thirds', 'experimentally_tested_mutations', 'ubiquitin_ligase_activity', 'destabilizing_CBL', 'disrupting_CBL-E2_binding', 'tested_mutations', 'findings', 'computational_methods', 'multiple_protein_conformations', 'stability', 'binding_affinity_evaluations', 'functional_consequences', 'cancer_mutations', 'protein_activity', 'proof', 'concept', 'mutations', 'CBL', 'Keywords', 'driver_mutations', 'protein_interactions', 'Introduction_Whole_exome_sequencing', 'cancer_patients', 'unprecedented_amounts', 'data', 'studies', 'very_large_fraction', 'missense_mutations', 'tumorigenensis', 'missense_mutations', 'selective_growth_advantage', 'tumor_cells', 'driver_mutations', 'large_majority', 'them', 'mechanisms', 'driver_variants', 'protein_stability', 'interactions', 'function', 'Various_computational_methods', 'impacts', 'disease_mutations', 'proteins', 'them', 'sequence_features', 'protein', 'three-dimensional_structures', 'physico-chemical_properties', 'dynamics', 'Many_cancers', '(de)activation', 'certain_proteins', 'result', 'missense_mutations', 'interconversion', 'active_and_inactive_states', 'proteins', 'it', 'regulatory_mechanisms', 'cancer', 'development', 'effects', 'disease_mutations', 'protein_activity', 'stability', 'binding', 'driver', 'passenger_mutations', 'mechanisms', 'actions', 'prioritization', 'potential_driver_candidates', 'better_targeted_therapies', 'drugs', 'turn', 'reduced/enhanced_protein_stability', 'activity', 'monomeric_Casitas_B-lineage_lymphoma', '(Cbl)_RING_finger_ubiquitin_ligase', 'E3', 'exceptionally_difficult_yet_important_system', 'mechanisms', 'cancer_mutations', 'proteins', 'family', 'positive_and_negative_regulatory_roles', 'tyrosine_kinase', 'many_cancers', 'Oncogenic_mutations', 'c-Cbl_gene', 'CBL', 'human_myeloid_neoplasms', 'other_tumors', 'significance', 'mutations', 'impacts', 'CBL_function', 'very_few_mutants', 'mechanistic_aspects', 'CBL_cancer_mutations', 'several_CBL_structures', 'snapshots', 'different_stages', 'CBL_activation_cycle', 'CBL_proteins', 'highly_conserved_N-terminus', 'tyrosine_kinase', 'TKBD', 'linker_helix_region', '(LHR', 'RING_finger_domain', 'C-terminus', 'proline-rich_region', '8)', 'RING_domain', 'CBL', 'E3_activity', 'activated_receptor_tyrosine_kinases', 'them', 'degradation', 'same_time', 'CBL_proteins', 'activated_receptor_tyrosine_kinases', 'TKBD_domain', 'they', 'adaptors', 'downstream_signal_transduction_components', 'SHP2', 'P13K', 'Figure_1_Figure_1_CBL_activation_cycle', 'structures', 'activation_cycle', 'CBL', 'inactive_closed_state', '(nCBL', 'protein', 'cytosol', 'activation', 'RTK', 'CBL', 'phosphorylated_RTK', 'orange_peptide', 'TKBD', 'aspect', 'CBL_function', 'effects', 'cancer_mutations', 'it', 'ubiquitin-conjugating_enzyme', 'E2', 'complex', 'ubiquitin_(Ub', 'substrate_protein', 'transfer', 'Ub', 'E2', 'lysine_residue', 'substrate', 'crystal_structure', 'inactive_complex', 'CBL', 'E2', 'UbcH7', 'active_phosphorylated_CBL-E2_(UbcH5B)_complex', 'latter_study', 'Tyr371_phosphorylation', 'CBL', 'large_conformational_change', 'order', 'RING_domain', 'E2', 'close_proximity', 'substrate', 'It', 'phosphorylation-induced_conformational_change', 'positioning', 'ubiquitin', 'effective_catalysis', 'we', 'new_approach', 'effects', 'cancer_mutations', 'stability', 'binding', 'activity', 'cancer_related_proteins', 'We', 'computational_models', 'four_different_stages', 'CBL_activation_cycle', 'vivo_experiments', 'CBL-mediated_EGFR_ubiquitination', 'We', 'rather_remarkable_agreement', 'experimental_EGFR_ubiquitination', 'CBL_mutants', 'computed_changes', 'CBL_thermodynamic_stability', 'lesser_extent', 'CBL-E2_binding_affinity', 'computational_models', 'magnitude', 'effects', 'mutations', 'light', 'mechanisms', 'action', 'we', 'cancer_mutations', 'greater_destabilizing_effects', 'four_CBL_states', 'random_non-cancer_mutations', 'recurrent,_homozygous_and_leukemia_mutations', 'Most_damaging_cancer_mutations', 'sites', 'Zn-coordination', 'formation', 'salt_bridges', 'hydrogen_bonds', 'CBL', 'CBL', 'E2', 'Overall_cancer_driver_mutations', 'different_or_multiple_stages', 'CBL_activation_cycle', 'E3_activity', 'it', 'computational_models', 'stability', 'binding_affinity_calculations', 'experimentally_validated_driver', 'passenger_mutations', 'exception', 'two_mutations', '-art', 'phenotypic_impacts', 'mutations', 'Materials', 'Methods_Computational', 'modeling', 'analysis', 'CBL', 'COSMIC_database', '(15)_stores_data', 'somatic_cancer_mutations', 'experimental_data', 'full-genome_sequencing_studies', 'We', '103_missense_mutations', 'CBL_gene', 'COSMIC_database', 'four_available_CBL_structures', 'activation_cycle', 'Cancer_mutations', 'different_classes', 'frequency', 'observed_samples', 'single_and_recurrent_mutations', 'zygosity_(homo-_and_heterozygous_mutations', 'types', 'cancer', 'leukemia', 'sarcoma', 'involvement', 'mutations', 'Zn-coordination', '(Table_S1', 'addition', 'possible_single_nucleotide_substitutions', 'amino-acid_changes', 'CBL_gene', '“Random”_missense_mutation_reference_set', 'mutations', 'COSMIC', 'mutations', 'residues', 'known_coordinates', 'crystal_structures', 'we', '2,102_random_missense_mutations', 'Table_S1', 'We', 'dbSNP_database', 'very_few_benign_variations', 'CBL_gene', 'Detailed_description', 'Supplementary_Materials', 'Methods', 'Model_preparation', 'We', 'effects', 'mutations', 'four_states', 'CBL_activation_cycle', '(nCBL', '(2)_partially_opened_CBL_state', 'CBL-S', '(3)_unphosphorylated_autoinhibitory_CBL', 'enzyme_UbcH5B', '(4)_phosphorylated_CBL', '(Fig', 'It', 'both_UbcH5B', 'UbcH7', 'CBL', 'only_UbcH5B', 'ubiquitination', 'crystal_structures', 'nCBL', 'PDB', '2Y1M', '(13),_CBL-S', '(PDB', 'i', 'pCBL', '(PDB', 'i', 'Protein_Data_Bank', 'PDB', 'Only_one_crystal_structure', 'unphosphorylated_inactive_state', 'CBL', 'E2', 'UbcH7', 'Zap-70_peptide', 'PDB', 'i', 'PDB', 'sequence_identity', 'UbcH7_and_UbcH5B_proteins', '38%', 'structural_similarity', 'root_mean_square_deviation', 'RMSD', '1.04_Å._The_unphosphorylated_autoinhibitory_structure', 'CBL-UbcH5B-S', 'CBL-UbcH7-S', '(PDB', 'i', 'Chimera', 'Detailed_description', 'Supplementary_Materials', 'Methods', 'Minimization_procedure', 'We', 'recently_developed_optimization_protocol', 'wild-type_and_mutant_structures', 'Heavy_side_chain_atoms', 'known_coordinates', 'hydrogen_atoms', 'crystal_structures', 'VMD_(version_1.9.1)_program', 'models', 'rectangular_boxes', 'water_molecules', 'up_to_10_Å', 'protein', 'direction', 'Wild-type_protein_complexes', '40,000_steps', 'explicit_TIP3P_water_model', 'final_minimized_models', 'wild-type_protein_complexes', 'mutant_structures', 'additional_300-step_minimization', 'mutant_structures', 'energy_minimization', 'NAMD_program', 'version', 'CHARMM27_force_field', 'free_energy_calculations', 'we', 'optimization_procedure', 'RepairPDB_module', 'FoldX_program', 'side_chain_configurations', 'repaired_structure', 'Supplementary_Materials', 'Methods', 'more_information', 'Binding', 'free_energy_calculations', 'free_energy', 'effects', 'mutations', 'binding_affinity', 'approach', 'us', 'Energy_calculations', 'modified_MM-PBSA_method', 'molecular_mechanics_terms', 'Poisson–Boltzmann_continuum_representation', 'solvent', 'statistical_scoring_energy_functions', 'parameters', 'experimental_sets', 'several_thousand_mutations', 'equation', 'Binding_free_energy_calculations', 'minimized_wild-type_and_mutant_structures', 'inactive_CBL', 'active_pCBL-E2-S_states', 'binding_energy', 'difference', 'free_energies', 'complex_and_unbound_proteins', 'ΔGbind=GCBL', 'GCBL-S-GE2', 'change', 'binding_energy', 'mutation', 'ΔGbindmut-ΔGbindWT', 'effect', 'mutations', 'binding_affinity', 'work', 'following_energy_function', 'αΔΔEvdw+βΔΔGsolv+γΔSAmut+εΔΔGBM+λΔΔGFD+δ', 'ΔΔEvdw', 'change', 'van_der_Waals_interaction_energy', 'change', 'polar_solvation_energy', 'solute', 'water', 'ΔSAmut', 'term', 'interface_area', 'mutant_complex', 'ΔΔGBM', 'ΔΔGFD', 'binding_energy_changes', 'BeAtMuSiC', 'FoldX', 'BeAtMuSiC', 'effect', 'mutations', 'statistical_potentials', 'FoldX_software_program', 'unfolding_free_energy', 'unfolding_state', 'FoldX', 'effects', 'mutations', 'protein_stability', 'empirical_force_field', 'BuildModel_module', 'mutation', 'configurations', 'neighboring_side_chains', 'difference', 'stability', 'free_energy', 'mutant', '(_ΔGfoldmut', 'native_structure', 'ΔΔGfold', 'ΔGfoldmut-ΔGfoldWT', 'comparison', 'we', 'three_alternative_methods', 'impacts', 'mutations', 'free_energy', 'Eris_server', 'Rosetta_program', 'PoPMuSiC_server', 'We', 'four_additional_webtools', 'impacts', 'amino_acid_substitutions', 'CBL_function', 'PROVEAN', 'PolyPhen-2', 'MutationAssessor', 'InCa', 'Supplementary_Methods', 'more_information', 'Experimental_procedures', 'Expression', 'Human_CBL_cDNA', 'Wallace_Langdon', 'pCEFL_expression_plasmid', 'Point_mutation_constructs', 'wild-type_CBL', 'QuikChange_II_Site-directed_Mutagenesis_Kit', 'manufacturer', '’s_instructions', 'Stratagene', 'La_Jolla', 'constructs', 'DNA_sequencing', 'Cell_culture', 'transfections', 'human_embryonic_kidney_cell_line_HEK293T', 'human_nonsmall_cell_lung_cancer_cell_line_A549', 'human_cervical_cancer_cell_line_HeLa', 'study', 'ATCC', 'culture', 'DMEM', 'Gibco', 'Grand_Island', 'NY', '10%_FBS', '100_U/ml_penicillin', '100_μg/ml_streptomycin_sulfate', 'Cell_lines', 'STR', 'either_Promega_Powerplex', 'Promega', 'Madison', 'WI', 'AmpFISTR_Identifier_Kit', 'Life_Technologies', 'Carlsbad', 'CA', 'ATCC_or_DSMZ_databases', 'HeLa_cells', 'lab', 'A549', 'lab', 'HEK293T', 'lab', '10-8-15.HEK293T_cells', 'calcium_phosphate', 'instructions', 'Profection', 'Promega_Corp.', '18_h', 'media_change', 'total', '48_h', 'harvesting', 'A549_and_Hela_cells', 'Lipofectamine', 'Invitrogen', 'Carlsbad', 'Transfections', '6_h', 'media_change', 'cells', 'additional_48_h', 'Cells', '4_hours', 'EGF', '(100_ng/ul', 'cell-based_experiment', 'Immunoblotting', 'immunoprecipitation', 'harvest_proteins', 'cells', 'ice-cold_Dulbecco’s_PBS-containing_200_μM_sodium', 'NJ', 'ice-cold_lysis_buffer', '10_mM_Tris-HCl', 'pH', '7.5,_150_mM_NaCl', '5_mM', 'EDTA', '1%_Triton', '10%_glycerol', '100_mM_iodoacetamide', '[Sigma-Aldrich_Corp.', 'MO', '2_mM_sodium', 'protease_inhibitors', 'Complete_tabs®', 'Roche_Diagnostics_Corp.', 'whole_cell_lysates', 'cellular_debris', 'centrifugation', '16,000_×_g', '15_m', '4_°C', 'Supernatant_protein_concentrations', 'BioRad_protein_assay', 'BioRad', 'Hercules', '20μg', 'whole_cell_lysates', '1:1_dilution', '2X_loading_buffer', '62.5_mM_Tris-HCl', 'pH_6.8,_10%_glycerol', '2%_SDS', '1_mg/ml_bromophenol_blue', '5_m.', 'immunoprecipitations', '150_μg', 'whole_cell_lysates', 'rabbit', 'Millipore', 'Protein_A/G+_agarose_beads', 'Santa_Cruz_Biotechnology', 'Santa_Cruz', 'immunoprecipitations', '4°C', 'tumbling', 'Immune_complexes', '1_mL_cold_lysis_buffer', '2X_loading_buffer', '5_m', 'SDS-PAGE', 'nitrocellulose_membranes', 'Protran_BA85', 'Whatman', 'Sanford', 'MA', 'immunoblot_detection', 'proteins', 'following_antibodies', 'anti-EGFR_(2232L', 'Cell_Signaling', 'monoclonal_high_affinity_anti-HA-peroxidase', 'clone_3F10', 'Roche', 'anti-Cbl_(sc-C-15;_Santa_Cruz', 'Horseradish_peroxidase', 'donkey_anti-rabbit_IgG', '(NA934V', 'anti-mouse_IgG', '(NA931', 'GE_Healthcare', 'Piscataway', 'NJ', 'immunoglobulin', 'SuperSignal', 'Pierce_Biotechnology_Inc.', 'protein_detection', 'Densitometric_Analysis', 'Immunoblots', 'HyBlot_CL_Autoradiography_Film', 'Denville_Scientific_Inc.', 'NJ', 'X-OMAT_automated_processor', 'Eastman_Kodak', 'Rochester', 'Protein_expression_levels', 'Epson_Perfection_V750_PRO_scanner', 'Epson_Inc.', 'Long_Beach', 'CA', 'densitometric_analysis', 'Adobe_Photoshop_software_version', '(Adobe_Systems_Inc.', 'EGFR_ubiquitination_signal_intensity', 'optical_density', 'set_area', 'EGFR_band_intensity', 'parallel_immunoblots', 'densitometric_ratio', 'ubiquitination/EGFR_levels', 'mean_densitometric_ratio', 'EGFR_ubiquitination', 'presence', 'CBL_mutation', 'wild-type_CBL', 'ratio', 'Results_Cancer_mutations', 'CBL_stability', 'We', 'thermodynamic_stability', 'free_energy', 'changes', 'mutation', 'closed_(nCBL', 'CBL_states', 'states', 'E2', 'examination', 'ΔΔGfold_distribution', 'random_non-cancer_mutations', 'it', 'experimental_distributions', 'random_mutagenesis', 'set', 'different_proteins', 'distribution', 'random_non-cancer_mutations', 'positive_energy_values', 'about_10%', 'random_mutations', 'highly_damaging_effects', 'CBL_structures', 'more_than_5_kcal_mol−1', 'presence', 'highly_damaging_random_mutations', 'recurrent_cancer_mutations', 'significantly_larger_destabilizing_effects', 'random_(p-value_≪', 'nCBL_and_CBL-S_states', 'Fig', '2A', 'S1', 'Table_S2', 'case', 'single_cancer_mutations', 'only_one_patient', '(Table_S2', 'form', 'ΔΔGfold_distribution', 'recurrent_cancer_mutations', 'ΔΔGfold_distribution', 'random_mutations', 'Kolmogorov-Smirnov_test_p-value_≪', 'distribution', 'single_cancer_mutations', 'random_mutation_distribution', 'it', 'single_cancer_mutants', 'we', 'case', 'them', 'Figure', '2_Figure', '(A', 'distribution', 'free_energy_changes', 'Single,_Recurrent_and_Random_class_mutations', 'nCBL', 'pCBL', 'E2-S_states', 'SI', 'other_states', 'Positive_and_negative_values', 'top_25%_cancer_mutations', 'largest_damaging_effects', 'Table_S3', 'them', 'Zn-coordinating_sites', 'many_others', 'Zn-coordination_sites', 'latter_mutations', 'G415V', 'G413R', 'G415S', 'large_Van_der_Waals_clashes', 'neighboring_residues', 'side_chain_rearrangements', 'L405P', 'example', 'middle', 'α-helix', 'CBL_structure', 'energetically_unfavorable_kink', 'helix', 'inability', 'amide_hydrogen_bond', 'Effects', 'cancer_mutations', 'CBL-E2', 'outcome', 'mutations', 'extent', 'structural_changes', 'they', 'We', 'local_root_mean_squared_deviation', 'RMSD', 'minimized_wild-type_and_mutant_structures', 'mutated_site', 'We', 'vicinity', 'mutation', 'CBL-E2_complex_underwent_larger_local_conformational_changes', 'recurrent_cancer_mutations', 'mutations', 'Zn-coordinating_site_clusters', 'random_mutations', '(p-value_≪', 'Fig._S2', 'S3', 'previous_section', 'we', 'original_closed_(nCBL)_state', 'CBL-S)_state', 'substrate', 'section', 'we', 'effects', 'cancer_mutations', 'two_other_CBL_states', 'autoinhibitory_CBL_state', 'enzyme_UbcH5B', 'active_CBL_state', 'Effects', 'mutations', 'structural_locations', 'we', 'locations', 'mutations', 'about_one_third', 'cancer_mutations', 'CBL-E2_interface', '(Fig._S4', 'preference', 'statistically_significant_(p-value_≪', '(Fig._S4', 'It', 'CBL', 'E2', 'micromolar_dissociation_constant', 'fact', 'interface', 'CBL', 'E2', 'inactive_state', 'several_residues', 'active_state', 'experiments', 'we', 'CBL', 'E2', 'active_state', 'CBL', 'Table_S4', 'impacts', 'cancer_mutations', 'stability', 'recurrent', 'mutations', 'CBL-E2', '2B,_S1_and_Table_S2', 'cancer_mutations', 'active_state', 'inactive_state', 'p-value', '(Fig', '._2B', 'effects', 'cancer_mutations', 'CBL-E2_binding', 'active_state', 'random_mutations', 'we', 'mutations', 'Zn-coordinating_sites', 'Table_S2', 'latter_observation', 'autoinhibitory_CBL-E2-S_conformation', 'cancer_mutations', 'respect', 'effects', 'CBL-E2_binding', 'About_half', 'highly_damaging_mutations', 'top_25%', 'most_damaging_mutations', 'Table_S3', 'both_stability', 'CBL-E2', 'four_CBL_states', 'them', 'several_mutations', 'Zn-coordinating_clusters', 'M400_and_L405_sites', 'class', 'mutations', 'W408_and_R420_sites', 'example', 'W408S_mutation', 'largest_perturbation', 'CBL-E2_binding', 'active_state', 'binding_affinity', 'up_to_3.5_kcal_mol−1', 'moderate_effect', 'stability', 'nCBL_and_CBL-S_states', 'It', 'amino_acids', 'positions', 'W408', 'I383', 'specificity', 'CBL-E2_binding', 'binding_hot_spots', 'Mutations', 'I383_site', 'COSMIC_database', 'they', 'profound_destabilizing_effect', 'states', 'data', 'random_mutations', 'ftp_site_ftp://ftp.ncbi.nih.gov/pub/panch/CBL', 'site', 'CBL', 'R420', 'highly_conserved_site', 'CBL_family', 'it', 'Q92', 'W93', 'S94', 'residues', 'E2', 'It', 'mutations', 'site', 'CBL_activity', 'cytokine-independent_growth', '24_cancer_patient_samples', 'mutations', 'site', 'R420Q', 'R420L', 'R420P', 'they', 'strong_destabilizing_effects', 'active_pCBL', 'E2-S_state', 'zygosity_annotation', '“Hetero', '(“Homo”)_mutations', '(Table_S1', 'rest', 'cancer_mutations', 'zygocity_status', 'we', 'destabilizing_mutations', 'heterozygous_mutations', 'stages', 'CBL_activation_cycle', 'p-value', 'leukemia', 'sarcoma_patients', '(Fig', 'Table_S2', 'observation', 'prevalence', 'homozygous_mutations', 'Zn-coordinating_clusters', 'clusters', 'almost_equal_numbers', 'heterozygous_and_homozygous_mutations', 'It', 'many_homozygous_mutations', 'uniparental_disomy', 'germline_heterozygosity', 'neoplasia', 'reduction', 'homozygosity', 'patients', 'myeloproliferative_neoplasms', 'heterozygous_mutations', 'CBL', 'wild-type_CBL_allele', 'mutant_allele', 'it', 'damaging_mutant_allele', 'cancer_cell', 'higher_probability', 'human_leukemia_samples', 'loss', 'normal_CBL_allele', 'CBL-mediated_EGFR_ubiquitination', 'experiments', 'computational_models', 'we', 'fifteen_cancer_mutations', 'predicted_damaging_status', 'highly_damaging_and_benign_mutations', 'frequencies', 'cancer_samples', 'E3_activity', 'wild-type_and_mutant_CBL_proteins', 'Methods', 'Table', 'Fig', '3A', 'presence', 'wild-type_CBL', 'activation', 'EGFR', '10-fold_increase', 'ubiquitination', 'EGFR', 'empty_vector', 'endogenous_CBL_levels', 'HEK293T_cells', 'compare_lane', 'top_panel', 'Fig', '3A', 'E3_activity', 'wild-type_CBL', 'decrease', 'levels', 'targeting', 'ubiquitinated_EGFR', 'degradation', 'lanes', 'second_panel', 'Fig', '3A', 'Figure', '3_Figure', '(A)_EGFR_ubiquitination', 'HEK293', 'T_cells', 'plasmids', 'wild-type_or_mutant_CBL_proteins', 'EGFR', 'hemagglutinin', 'HA)-epitope', 'vector_control', 'wild-type', 'CBL_transfectant_cells', 'Table_1_Table_1_Experimental_relative_densitometry_values', 'HEK293T_cells', 'changes', 'stability', 'ΔΔGfold', 'mol−1', 'binding_affinity', 'ΔΔGbind_kcal_mol−1', 'comparison', 'other_methods', 'We', 'mutations', 'three_groups', 'attenuating', 'experimental_relative_densitometry_data', 'experimental_data', 'estimates', 'computational_models', 'first_group', 'damaging_mutants', 'C396R', 'CBL_activity', 'relative_densitometry', 'less_than_10%', '(Fig._3B', 'levels', 'total_EGFR', 'mutants', 'Fig', '3A', 'mutants', 'Recurrent_class', 'mutations', 'Table_1_shows', 'effects', 'mutations', 'four_CBL_states', 'five_mutants', 'stability', 'binding_affinity_calculations', 'mechanisms', 'action', 'H398Q_and_C381A_mutations', 'Zn-coordinating_clusters', 'very_damaging_consequences', 'stability_model', 'nCBL_and_CBL-S_states', 'damaging_effects', 'none', 'mutations', 'CBL-E2_interface', 'other_hand', 'K382E_mutation', 'Zn-coordination', 'nCBL_state', 'turn', 'charge_substitution', 'disruption', 'K382-E373_salt_bridge', 'closed_state', 'nCBL', 'Figure', 'Figure_S5A', 'K382E_mutation', 'significant_impact', 'CBL-E2', 'disruption', 'salt_bridge', 'pY371', 'K382', 'stability', 'CBL', 'active_state', '(Figure_4_and_Figure_S5D', 'significant_changes', 'CBL-S', 'CBL', 'states', 'Figure_S5B', 'C', 'K382E_mutation', 'Noonan_syndrome', 'CBL_stability', 'binding', 'Y371H_mutation', 'phosphorylation', 'Y371_site', 'profound_destabilizing_effect', 'four_states', 'Table', 'Figure', '4_Figure_4_Structures', 'wild_type', 'K382E_mutant_(tan', 'nCBL_and_pCBL-E2-S_states', 'Salt_bridges', 'dashed_lines', 'cases_mutation', 'stability', 'salt_bridge', 'second_group', 'mutants', '(M374V,_V430M', 'P428L,_Q249E_and_double_mutant_S80N/H94Y', 'CBL_activity', 'wild-type_CBL', 'relative_densitometry', '80%', '(Fig._3B', 'levels', 'activated_EGFR', 'samples', 'Fig', '3A', 'retained_E3_activity', 'mutants', 'we', 'mutants', 'non-small_cell_lung_cancer_cell_line_A549', 'cervical_cancer_cell_line_Hela', '(Fig._S6', 'S80N/H94Y_and_Q249E_mutations', 'human_non-small_cell_lung_cancers', 'A549_cell_line', 'function', 'CBL_mutants', 'other_cancer_mutations', 'other_cancer_types', 'HEK293T_cells', 'transfection', 'wild-type_CBL', 'A549_and_HeLa_cells', 'significant_increase', 'EGF', 'stimulated_ubiquitination', 'EGFR', 'cells', 'empty_vector', '(Fig._S6', 'increase', 'transfected_CBL_protein', 'endogenous_CBL_protein', 'HeLa', 'either_the_A549', 'HEK293T_cells', 'fold_increase', 'EGF', 'ubiquitination', 'EGFR', 'wild-type_CBL', 'Hela_cells', 'either_A549', 'HEK293T_cells', 'HEK293T_cells', 'Y371H_mutant', 'ubiquitination', 'vector_transfected_control', 'A549_or_HeLa_cells', 'Fig._S6A', 'C', 'CBL_mutants', 'HEK293T_cells', 'Fig', '3A', 'B', 'CBL_E3_activity', 'A549_and_HeLa_cells', '(Fig._S6', 'CBL_mutants', 'more_ubiquitination', 'EGFR', 'wild_type_CBL', 'example', 'Q249E_mutant', 'increased_ubiquitination', 'EGFR', '293T_and_HeLa_cells', 'M374V_mutant', 'higher_ubiquitination_levels', 'A549_and_HeLa_cells', 'Figure', 'Only_V430M_mutant', 'borderline', 'densitometry_ratio', 'mutations', 'second_group', 'computational_models', 'V430M', 'experimental_data', 'borderline_destabilizing_impact', '(Table', 'third_group', 'mutations', 'P395A', 'V391I', 'CBL_E3_activity', 'relative_densitometry_data', '(Fig._3B', 'mutants', 'two_cancer_samples', 'Single_mutation_class', 'intermediate_levels', 'EGFR', '(Fig._3A', 'G375P_and_P395A_mutations', 'partially_damaging_effects', 'predictions', 'mutations', 'third_group', 'CBL_states', 'contrast', 'highly_damaging_mutations', 'first_group', 'damaging_impacts', 'almost_all_CBL_states', 'we', 'reduction', 'CBL_ubiquitination_activity', 'effects', 'mutations', 'stability', '(Fig', 'relationship', 'experimental_densitometry_data', 'ΔΔGfold', 'exponential_dependence', 'correlation_coefficient', 'R', 'CBL-S', 'nCBL', '(Table_S5', 'change', 'absorption', 'wild-type_and_mutant_proteins', 'fraction', 'active_mutants', 'Boltzmann_equation', 'probability', 'state', 'energy', 'state', 'mutation', 'damaging_effects', 'loss', 'function', 'it', 'CBL_functional_states', 'consideration', 'we', 'correlation', 'densitometry_and_stability_changes', 'maximum', 'ΔΔGfold_values', 'nCBL_and_CBL-S_states', 'Fig', '5A', 'Table_S5', 'changes', 'stability', 'effects', 'mutations', 'CBL_ubiquitination_activity', 'high_correlation', 'R', 'comparison', 'several_alternative_methods', 'effect', 'mutations', 'free_energy', 'they', 'correlation_coefficients', 'only_one_method', 'PopMusic', 'statistically_significant_correlation', '(Table_S5', 'relationship', 'densitometry', 'binding_affinity_changes', 'borderline', 'significance', 'linear_correlation_coefficient', 'two_highly_damaging_mutations', '(Fig', '5B', 'Table_S5', 'Figure_5_Figure_5_(A)_Comparison', 'experimental_densitometry_values', 'exponential_model', 'maximal', 'changes', 'stability', '(B)_Comparison', 'experimental_densitometry_values', 'linear_model', 'changes', 'binding_affinity', 'pCBL-E2-S_state', 'various_methods', 'phenotypic_effects', 'mutations', 'them', 'structural_features', 'We', 'four_state-of-the-art_independent_methods', 'impacts', 'mutations', 'CBL_function', 'PROVEAN', 'PolyPhen-2', 'MutationAssessor', 'InCa', 'methods', 'model', 'classifying_cancer', 'random_mutations', 'they', 'disease', 'neutral_variants', 'Table_S6', 'four_methods', 'very_limited_accuracy', 'CBL_cancer_mutations', 'function', 'Table', 'Table_S5', 'PROVEAN_over-predicted_damaging_effects', 'experimentally_tested_mutations', 'PROVEAN', 'only_method', 'significant_correlation', 'densitometry_data', 'PROVEAN’s_score', ',_Table_S5', 'cancer_related_proteins', 'Evolutionary_selection', 'structural,_foldable_and_functional_proteins', 'many_mutations', 'protein_sequences', 'other_hand', 'thermodynamic_stability', 'evolution', 'certain_arrangements', 'catalytic_and_binding_sites', 'tumorigenesis', 'protein_stability', 'binding', 'cases', 'cancer_mutations', 'consequence', 'it', 'decreased_fitness', 'protein_level', 'fitness_advantage', 'population', 'tumor_cells', 'extent', 'stability-activity_tradeoff', 'oncogenes', 'tumor_suppressors', 'example', 'CBL_protein', 'we', 'stability-activity_balance', 'loss', 'gain', 'activity', 'cancer-related_proteins', 'compromised_stability', 'binding', 'contrast', 'many_other_computational_studies', 'stability', 'activity', 'one_protein_conformation', 'we', 'analysis', 'four_different_stages', 'CBL_activation_cycle', 'predictions', 'changes', 'stability', 'binding', 'experimental_CBL-mediated_EGFR_ubiquitination_assays', 'We', 'strong_relationship', 'effects', 'mutations', 'CBL_stability', 'densitometry_data', 'activity', 'relatively_weaker_correlation', 'changes', 'densitometry', 'CBL-E2_binding_affinity', 'It', 'less_significant_impact', 'experimentally_tested_mutations', 'CBL-E2_binding', 'limited_coupling', 'CBL_stability', 'CBL-E2_binding_and_E3_activity', 'Drivers', 'passengers', 'study', 'about_two_thirds', 'experimentally_tested_mutations', 'E3_activity', 'one_third', 'them', 'limitations', 'models', 'we', 'state-of-_the-art_methods', 'functional_effects', 'mutations', 'methods', 'inactivating', 'neutral_mutations', 'computational_models', 'effects', 'stability', 'different_CBL_states', 'many_methods', 'driver', 'passenger_mutations', 'pool', 'cancer_mutations', 'they', 'task', 'cancer', 'neutral_mutations', 'large_majority', 'mutations', 'cancer_genomics_studies', 'collective_burden', 'passenger_mutations', 'course', 'tumorigenesis', 'we', 'distribution', 'single_cancer_missense_mutations', 'CBL_gene', 'average_effects', 'stability', 'binding', 'pool', 'random_mutations', 'mutations', 'true_passenger_mutations', 'oncogenic_mechanisms', 'protein_destabilization', 'story', 'the_opposite', 'recurrent_mutations', 'they', 'average_significantly_higher_destabilizing_effects', 'random_mutations', 'majority', 'them', 'drivers', 'interesting_group', 'mutations', 'one_cancer_sample', '10%', 'single_cancer_mutations', 'mutations', 'either_rare_driver', 'latent_driver_mutations', 'mutations', 'Table', 'CBL-E2', 'mechanisms', 'cancer', 'analysis', 'cancer_mutations', 'active_state', 'inactive_state', 'It', 'contrast', 'stability-activity_tradeoff', 'EGFR', 'other_cancer_related_proteins', 'cancer_mutations', 'autoinhibitory_interactions', 'kinase', 'mutations', 'experimentally_tested_high_inactivating_effects', 'impacts', 'CBL_stability', '(Table', 'fact', 'correlation', 'CBL_cancer_mutations', 'COSMIC', 'R', 'CBL_state', 'p-value', 'It', 'residues', 'stability', 'RING-TKBD_autoinhibitory_interactions', 'CBL', 'interface', 'CBL-E2_interface', 'E2', 'One', 'disruption', 'RING-TKBD_interactions', 'destabilization', 'CBL', 'E2', 'CBL_activation', 'slight_activation', 'two_mutants', 'CBL-E2_interface', 'we', 'positive_high_correlation', 'stability', 'activity_changes', 'mechanism', 'vast_majority', 'mutations', 'CBL-E3_activity', 'CBL', 'CBL-E2', 'phosphorylation', 'critical_tyrosine', 'results', 'idea', 'decrease', 'E3_activity', 'ability', 'receptor_tyrosine_kinases', 'CBL_stability_and/or_CBL-E2_binding', 'selective_advantage', 'tumor_cells', 'several_factors', 'mechanisms', 'action', 'CBL_cancer_mutations', 'CBL_mutations', 'dominant-negative_and_mutated_CBL', 'CBL_E3_activity', 'concentration', 'activity', 'wild-type_CBL', 'ratiometric_method', 'driver_genes', 'cancer', 'CBL', 'oncogene', 'it', 'several_mutation_hot_spots', 'other_hand', 'study', 'other_studies', 'cancer_driver_mutations', 'E3_activity', 'CBL', 'it', 'tumor_suppressor', 'latter_fact', 'development', 'CBL', 'therapies', 'delicate_balance', 'different_CBL-affected_pathways', 'indirect_drug_targeting', 'damaged_CBL_proteins', 'current_genetics-based_frameworks', 'cancer', 'genome-wide_sequence_data', 'processes', 'carcinogenesis', 'informed,_targeted_therapies', 'approach', 'different_proteins', 'interest', 'importance', 'physics', 'binding_and_protein_conformational_ensembles', 'mechanisms', 'cancer']\n"
     ]
    },
    {
     "name": "stdout",
     "output_type": "stream",
     "text": [
      "===========================================================\n",
      "['Oncogenic_mutations', 'monomeric_Casitas_B-lineage_lymphoma', '(Cbl)_gene', 'many_tumors', 'significance', 'Several_human_c-Cbl_(CBL)_structures', 'protein', 'different_stages', 'activation_cycle', 'mechanistic_insight', 'stability-activity_tradeoffs', 'cancer-related_proteins', 'disease_onset', 'progression', 'study', 'we', 'effects', 'missense_cancer_mutations', 'structures', 'four_stages', 'CBL_activation_cycle', 'driver_mutations', 'CBL_stability', 'activity', 'We', 'recurrent,_homozygous,_and_leukemia-specific_mutations', 'greater_destabilizing_effects', 'CBL_states', 'random_non-cancer_mutations', 'We', 'ability', 'computational_models', 'changes', 'CBL_stability', 'ubiquitin_conjugating_enzyme_E2', 'blind_CBL-mediated_EGFR_ubiquitination_assays', 'cells', 'Experimental_CBL_ubiquitin_ligase_activity', 'agreement', 'predicted_changes', 'CBL_stability', 'lesser_extent', 'CBL-E2_binding_affinity', 'Two-thirds', 'experimentally_tested_mutations', 'ubiquitin_ligase_activity', 'destabilizing_CBL', 'disrupting_CBL-E2_binding', 'tested_mutations', 'findings', 'computational_methods', 'multiple_protein_conformations', 'stability', 'binding_affinity_evaluations', 'functional_consequences', 'cancer_mutations', 'protein_activity', 'proof', 'concept', 'mutations', 'CBL', 'Keywords', 'driver_mutations', 'protein_interactions', 'Introduction_Whole_exome_sequencing', 'cancer_patients', 'unprecedented_amounts', 'data', 'studies', 'very_large_fraction', 'missense_mutations', 'tumorigenensis', 'missense_mutations', 'selective_growth_advantage', 'tumor_cells', 'driver_mutations', 'large_majority', 'them', 'mechanisms', 'driver_variants', 'protein_stability', 'interactions', 'function', 'Various_computational_methods', 'impacts', 'disease_mutations', 'proteins', 'them', 'sequence_features', 'protein', 'three-dimensional_structures', 'physico-chemical_properties', 'dynamics', 'Many_cancers', '(de)activation', 'certain_proteins', 'result', 'missense_mutations', 'interconversion', 'active_and_inactive_states', 'proteins', 'it', 'regulatory_mechanisms', 'cancer', 'development', 'effects', 'disease_mutations', 'protein_activity', 'stability', 'binding', 'driver', 'passenger_mutations', 'mechanisms', 'actions', 'prioritization', 'potential_driver_candidates', 'better_targeted_therapies', 'drugs', 'turn', 'reduced/enhanced_protein_stability', 'activity', 'monomeric_Casitas_B-lineage_lymphoma', '(Cbl)_RING_finger_ubiquitin_ligase', 'E3', 'exceptionally_difficult_yet_important_system', 'mechanisms', 'cancer_mutations', 'proteins', 'family', 'positive_and_negative_regulatory_roles', 'tyrosine_kinase', 'many_cancers', 'Oncogenic_mutations', 'c-Cbl_gene', 'CBL', 'human_myeloid_neoplasms', 'other_tumors', 'significance', 'mutations', 'impacts', 'CBL_function', 'very_few_mutants', 'mechanistic_aspects', 'CBL_cancer_mutations', 'several_CBL_structures', 'snapshots', 'different_stages', 'CBL_activation_cycle', 'CBL_proteins', 'highly_conserved_N-terminus', 'tyrosine_kinase', 'TKBD', 'linker_helix_region', '(LHR', 'RING_finger_domain', 'C-terminus', 'proline-rich_region', '8)', 'RING_domain', 'CBL', 'E3_activity', 'activated_receptor_tyrosine_kinases', 'them', 'degradation', 'same_time', 'CBL_proteins', 'activated_receptor_tyrosine_kinases', 'TKBD_domain', 'they', 'adaptors', 'downstream_signal_transduction_components', 'SHP2', 'P13K', 'Figure_1_Figure_1_CBL_activation_cycle', 'structures', 'activation_cycle', 'CBL', 'inactive_closed_state', '(nCBL', 'protein', 'cytosol', 'activation', 'RTK', 'CBL', 'phosphorylated_RTK', 'orange_peptide', 'TKBD', 'aspect', 'CBL_function', 'effects', 'cancer_mutations', 'it', 'ubiquitin-conjugating_enzyme', 'E2', 'complex', 'ubiquitin_(Ub', 'substrate_protein', 'transfer', 'Ub', 'E2', 'lysine_residue', 'substrate', 'crystal_structure', 'inactive_complex', 'CBL', 'E2', 'UbcH7', 'active_phosphorylated_CBL-E2_(UbcH5B)_complex', 'latter_study', 'Tyr371_phosphorylation', 'CBL', 'large_conformational_change', 'order', 'RING_domain', 'E2', 'close_proximity', 'substrate', 'It', 'phosphorylation-induced_conformational_change', 'positioning', 'ubiquitin', 'effective_catalysis', 'we', 'new_approach', 'effects', 'cancer_mutations', 'stability', 'binding', 'activity', 'cancer_related_proteins', 'We', 'computational_models', 'four_different_stages', 'CBL_activation_cycle', 'vivo_experiments', 'CBL-mediated_EGFR_ubiquitination', 'We', 'rather_remarkable_agreement', 'experimental_EGFR_ubiquitination', 'CBL_mutants', 'computed_changes', 'CBL_thermodynamic_stability', 'lesser_extent', 'CBL-E2_binding_affinity', 'computational_models', 'magnitude', 'effects', 'mutations', 'light', 'mechanisms', 'action', 'we', 'cancer_mutations', 'greater_destabilizing_effects', 'four_CBL_states', 'random_non-cancer_mutations', 'recurrent,_homozygous_and_leukemia_mutations', 'Most_damaging_cancer_mutations', 'sites', 'Zn-coordination', 'formation', 'salt_bridges', 'hydrogen_bonds', 'CBL', 'CBL', 'E2', 'Overall_cancer_driver_mutations', 'different_or_multiple_stages', 'CBL_activation_cycle', 'E3_activity', 'it', 'computational_models', 'stability', 'binding_affinity_calculations', 'experimentally_validated_driver', 'passenger_mutations', 'exception', 'two_mutations', '-art', 'phenotypic_impacts', 'mutations', 'Materials', 'Methods_Computational', 'modeling', 'analysis', 'CBL', 'COSMIC_database', '(15)_stores_data', 'somatic_cancer_mutations', 'experimental_data', 'full-genome_sequencing_studies', 'We', '103_missense_mutations', 'CBL_gene', 'COSMIC_database', 'four_available_CBL_structures', 'activation_cycle', 'Cancer_mutations', 'different_classes', 'frequency', 'observed_samples', 'single_and_recurrent_mutations', 'zygosity_(homo-_and_heterozygous_mutations', 'types', 'cancer', 'leukemia', 'sarcoma', 'involvement', 'mutations', 'Zn-coordination', '(Table_S1', 'addition', 'possible_single_nucleotide_substitutions', 'amino-acid_changes', 'CBL_gene', '“Random”_missense_mutation_reference_set', 'mutations', 'COSMIC', 'mutations', 'residues', 'known_coordinates', 'crystal_structures', 'we', '2,102_random_missense_mutations', 'Table_S1', 'We', 'dbSNP_database', 'very_few_benign_variations', 'CBL_gene', 'Detailed_description', 'Supplementary_Materials', 'Methods', 'Model_preparation', 'We', 'effects', 'mutations', 'four_states', 'CBL_activation_cycle', '(nCBL', '(2)_partially_opened_CBL_state', 'CBL-S', '(3)_unphosphorylated_autoinhibitory_CBL', 'enzyme_UbcH5B', '(4)_phosphorylated_CBL', '(Fig', 'It', 'both_UbcH5B', 'UbcH7', 'CBL', 'only_UbcH5B', 'ubiquitination', 'crystal_structures', 'nCBL', 'PDB', '2Y1M', '(13),_CBL-S', '(PDB', 'i', 'pCBL', '(PDB', 'i', 'Protein_Data_Bank', 'PDB', 'Only_one_crystal_structure', 'unphosphorylated_inactive_state', 'CBL', 'E2', 'UbcH7', 'Zap-70_peptide', 'PDB', 'i', 'PDB', 'sequence_identity', 'UbcH7_and_UbcH5B_proteins', '38%', 'structural_similarity', 'root_mean_square_deviation', 'RMSD', '1.04_Å._The_unphosphorylated_autoinhibitory_structure', 'CBL-UbcH5B-S', 'CBL-UbcH7-S', '(PDB', 'i', 'Chimera', 'Detailed_description', 'Supplementary_Materials', 'Methods', 'Minimization_procedure', 'We', 'recently_developed_optimization_protocol', 'wild-type_and_mutant_structures', 'Heavy_side_chain_atoms', 'known_coordinates', 'hydrogen_atoms', 'crystal_structures', 'VMD_(version_1.9.1)_program', 'models', 'rectangular_boxes', 'water_molecules', 'up_to_10_Å', 'protein', 'direction', 'Wild-type_protein_complexes', '40,000_steps', 'explicit_TIP3P_water_model', 'final_minimized_models', 'wild-type_protein_complexes', 'mutant_structures', 'additional_300-step_minimization', 'mutant_structures', 'energy_minimization', 'NAMD_program', 'version', 'CHARMM27_force_field', 'free_energy_calculations', 'we', 'optimization_procedure', 'RepairPDB_module', 'FoldX_program', 'side_chain_configurations', 'repaired_structure', 'Supplementary_Materials', 'Methods', 'more_information', 'Binding', 'free_energy_calculations', 'free_energy', 'effects', 'mutations', 'binding_affinity', 'approach', 'us', 'Energy_calculations', 'modified_MM-PBSA_method', 'molecular_mechanics_terms', 'Poisson–Boltzmann_continuum_representation', 'solvent', 'statistical_scoring_energy_functions', 'parameters', 'experimental_sets', 'several_thousand_mutations', 'equation', 'Binding_free_energy_calculations', 'minimized_wild-type_and_mutant_structures', 'inactive_CBL', 'active_pCBL-E2-S_states', 'binding_energy', 'difference', 'free_energies', 'complex_and_unbound_proteins', 'ΔGbind=GCBL', 'GCBL-S-GE2', 'change', 'binding_energy', 'mutation', 'ΔGbindmut-ΔGbindWT', 'effect', 'mutations', 'binding_affinity', 'work', 'following_energy_function', 'αΔΔEvdw+βΔΔGsolv+γΔSAmut+εΔΔGBM+λΔΔGFD+δ', 'ΔΔEvdw', 'change', 'van_der_Waals_interaction_energy', 'change', 'polar_solvation_energy', 'solute', 'water', 'ΔSAmut', 'term', 'interface_area', 'mutant_complex', 'ΔΔGBM', 'ΔΔGFD', 'binding_energy_changes', 'BeAtMuSiC', 'FoldX', 'BeAtMuSiC', 'effect', 'mutations', 'statistical_potentials', 'FoldX_software_program', 'unfolding_free_energy', 'unfolding_state', 'FoldX', 'effects', 'mutations', 'protein_stability', 'empirical_force_field', 'BuildModel_module', 'mutation', 'configurations', 'neighboring_side_chains', 'difference', 'stability', 'free_energy', 'mutant', '(_ΔGfoldmut', 'native_structure', 'ΔΔGfold', 'ΔGfoldmut-ΔGfoldWT', 'comparison', 'we', 'three_alternative_methods', 'impacts', 'mutations', 'free_energy', 'Eris_server', 'Rosetta_program', 'PoPMuSiC_server', 'We', 'four_additional_webtools', 'impacts', 'amino_acid_substitutions', 'CBL_function', 'PROVEAN', 'PolyPhen-2', 'MutationAssessor', 'InCa', 'Supplementary_Methods', 'more_information', 'Experimental_procedures', 'Expression', 'Human_CBL_cDNA', 'Wallace_Langdon', 'pCEFL_expression_plasmid', 'Point_mutation_constructs', 'wild-type_CBL', 'QuikChange_II_Site-directed_Mutagenesis_Kit', 'manufacturer', '’s_instructions', 'Stratagene', 'La_Jolla', 'constructs', 'DNA_sequencing', 'Cell_culture', 'transfections', 'human_embryonic_kidney_cell_line_HEK293T', 'human_nonsmall_cell_lung_cancer_cell_line_A549', 'human_cervical_cancer_cell_line_HeLa', 'study', 'ATCC', 'culture', 'DMEM', 'Gibco', 'Grand_Island', 'NY', '10%_FBS', '100_U/ml_penicillin', '100_μg/ml_streptomycin_sulfate', 'Cell_lines', 'STR', 'either_Promega_Powerplex', 'Promega', 'Madison', 'WI', 'AmpFISTR_Identifier_Kit', 'Life_Technologies', 'Carlsbad', 'CA', 'ATCC_or_DSMZ_databases', 'HeLa_cells', 'lab', 'A549', 'lab', 'HEK293T', 'lab', '10-8-15.HEK293T_cells', 'calcium_phosphate', 'instructions', 'Profection', 'Promega_Corp.', '18_h', 'media_change', 'total', '48_h', 'harvesting', 'A549_and_Hela_cells', 'Lipofectamine', 'Invitrogen', 'Carlsbad', 'Transfections', '6_h', 'media_change', 'cells', 'additional_48_h', 'Cells', '4_hours', 'EGF', '(100_ng/ul', 'cell-based_experiment', 'Immunoblotting', 'immunoprecipitation', 'harvest_proteins', 'cells', 'ice-cold_Dulbecco’s_PBS-containing_200_μM_sodium', 'NJ', 'ice-cold_lysis_buffer', '10_mM_Tris-HCl', 'pH', '7.5,_150_mM_NaCl', '5_mM', 'EDTA', '1%_Triton', '10%_glycerol', '100_mM_iodoacetamide', '[Sigma-Aldrich_Corp.', 'MO', '2_mM_sodium', 'protease_inhibitors', 'Complete_tabs®', 'Roche_Diagnostics_Corp.', 'whole_cell_lysates', 'cellular_debris', 'centrifugation', '16,000_×_g', '15_m', '4_°C', 'Supernatant_protein_concentrations', 'BioRad_protein_assay', 'BioRad', 'Hercules', '20μg', 'whole_cell_lysates', '1:1_dilution', '2X_loading_buffer', '62.5_mM_Tris-HCl', 'pH_6.8,_10%_glycerol', '2%_SDS', '1_mg/ml_bromophenol_blue', '5_m.', 'immunoprecipitations', '150_μg', 'whole_cell_lysates', 'rabbit', 'Millipore', 'Protein_A/G+_agarose_beads', 'Santa_Cruz_Biotechnology', 'Santa_Cruz', 'immunoprecipitations', '4°C', 'tumbling', 'Immune_complexes', '1_mL_cold_lysis_buffer', '2X_loading_buffer', '5_m', 'SDS-PAGE', 'nitrocellulose_membranes', 'Protran_BA85', 'Whatman', 'Sanford', 'MA', 'immunoblot_detection', 'proteins', 'following_antibodies', 'anti-EGFR_(2232L', 'Cell_Signaling', 'monoclonal_high_affinity_anti-HA-peroxidase', 'clone_3F10', 'Roche', 'anti-Cbl_(sc-C-15;_Santa_Cruz', 'Horseradish_peroxidase', 'donkey_anti-rabbit_IgG', '(NA934V', 'anti-mouse_IgG', '(NA931', 'GE_Healthcare', 'Piscataway', 'NJ', 'immunoglobulin', 'SuperSignal', 'Pierce_Biotechnology_Inc.', 'protein_detection', 'Densitometric_Analysis', 'Immunoblots', 'HyBlot_CL_Autoradiography_Film', 'Denville_Scientific_Inc.', 'NJ', 'X-OMAT_automated_processor', 'Eastman_Kodak', 'Rochester', 'Protein_expression_levels', 'Epson_Perfection_V750_PRO_scanner', 'Epson_Inc.', 'Long_Beach', 'CA', 'densitometric_analysis', 'Adobe_Photoshop_software_version', '(Adobe_Systems_Inc.', 'EGFR_ubiquitination_signal_intensity', 'optical_density', 'set_area', 'EGFR_band_intensity', 'parallel_immunoblots', 'densitometric_ratio', 'ubiquitination/EGFR_levels', 'mean_densitometric_ratio', 'EGFR_ubiquitination', 'presence', 'CBL_mutation', 'wild-type_CBL', 'ratio', 'Results_Cancer_mutations', 'CBL_stability', 'We', 'thermodynamic_stability', 'free_energy', 'changes', 'mutation', 'closed_(nCBL', 'CBL_states', 'states', 'E2', 'examination', 'ΔΔGfold_distribution', 'random_non-cancer_mutations', 'it', 'experimental_distributions', 'random_mutagenesis', 'set', 'different_proteins', 'distribution', 'random_non-cancer_mutations', 'positive_energy_values', 'about_10%', 'random_mutations', 'highly_damaging_effects', 'CBL_structures', 'more_than_5_kcal_mol−1', 'presence', 'highly_damaging_random_mutations', 'recurrent_cancer_mutations', 'significantly_larger_destabilizing_effects', 'random_(p-value_≪', 'nCBL_and_CBL-S_states', 'Fig', '2A', 'S1', 'Table_S2', 'case', 'single_cancer_mutations', 'only_one_patient', '(Table_S2', 'form', 'ΔΔGfold_distribution', 'recurrent_cancer_mutations', 'ΔΔGfold_distribution', 'random_mutations', 'Kolmogorov-Smirnov_test_p-value_≪', 'distribution', 'single_cancer_mutations', 'random_mutation_distribution', 'it', 'single_cancer_mutants', 'we', 'case', 'them', 'Figure', '2_Figure', '(A', 'distribution', 'free_energy_changes', 'Single,_Recurrent_and_Random_class_mutations', 'nCBL', 'pCBL', 'E2-S_states', 'SI', 'other_states', 'Positive_and_negative_values', 'top_25%_cancer_mutations', 'largest_damaging_effects', 'Table_S3', 'them', 'Zn-coordinating_sites', 'many_others', 'Zn-coordination_sites', 'latter_mutations', 'G415V', 'G413R', 'G415S', 'large_Van_der_Waals_clashes', 'neighboring_residues', 'side_chain_rearrangements', 'L405P', 'example', 'middle', 'α-helix', 'CBL_structure', 'energetically_unfavorable_kink', 'helix', 'inability', 'amide_hydrogen_bond', 'Effects', 'cancer_mutations', 'CBL-E2', 'outcome', 'mutations', 'extent', 'structural_changes', 'they', 'We', 'local_root_mean_squared_deviation', 'RMSD', 'minimized_wild-type_and_mutant_structures', 'mutated_site', 'We', 'vicinity', 'mutation', 'CBL-E2_complex_underwent_larger_local_conformational_changes', 'recurrent_cancer_mutations', 'mutations', 'Zn-coordinating_site_clusters', 'random_mutations', '(p-value_≪', 'Fig._S2', 'S3', 'previous_section', 'we', 'original_closed_(nCBL)_state', 'CBL-S)_state', 'substrate', 'section', 'we', 'effects', 'cancer_mutations', 'two_other_CBL_states', 'autoinhibitory_CBL_state', 'enzyme_UbcH5B', 'active_CBL_state', 'Effects', 'mutations', 'structural_locations', 'we', 'locations', 'mutations', 'about_one_third', 'cancer_mutations', 'CBL-E2_interface', '(Fig._S4', 'preference', 'statistically_significant_(p-value_≪', '(Fig._S4', 'It', 'CBL', 'E2', 'micromolar_dissociation_constant', 'fact', 'interface', 'CBL', 'E2', 'inactive_state', 'several_residues', 'active_state', 'experiments', 'we', 'CBL', 'E2', 'active_state', 'CBL', 'Table_S4', 'impacts', 'cancer_mutations', 'stability', 'recurrent', 'mutations', 'CBL-E2', '2B,_S1_and_Table_S2', 'cancer_mutations', 'active_state', 'inactive_state', 'p-value', '(Fig', '._2B', 'effects', 'cancer_mutations', 'CBL-E2_binding', 'active_state', 'random_mutations', 'we', 'mutations', 'Zn-coordinating_sites', 'Table_S2', 'latter_observation', 'autoinhibitory_CBL-E2-S_conformation', 'cancer_mutations', 'respect', 'effects', 'CBL-E2_binding', 'About_half', 'highly_damaging_mutations', 'top_25%', 'most_damaging_mutations', 'Table_S3', 'both_stability', 'CBL-E2', 'four_CBL_states', 'them', 'several_mutations', 'Zn-coordinating_clusters', 'M400_and_L405_sites', 'class', 'mutations', 'W408_and_R420_sites', 'example', 'W408S_mutation', 'largest_perturbation', 'CBL-E2_binding', 'active_state', 'binding_affinity', 'up_to_3.5_kcal_mol−1', 'moderate_effect', 'stability', 'nCBL_and_CBL-S_states', 'It', 'amino_acids', 'positions', 'W408', 'I383', 'specificity', 'CBL-E2_binding', 'binding_hot_spots', 'Mutations', 'I383_site', 'COSMIC_database', 'they', 'profound_destabilizing_effect', 'states', 'data', 'random_mutations', 'ftp_site_ftp://ftp.ncbi.nih.gov/pub/panch/CBL', 'site', 'CBL', 'R420', 'highly_conserved_site', 'CBL_family', 'it', 'Q92', 'W93', 'S94', 'residues', 'E2', 'It', 'mutations', 'site', 'CBL_activity', 'cytokine-independent_growth', '24_cancer_patient_samples', 'mutations', 'site', 'R420Q', 'R420L', 'R420P', 'they', 'strong_destabilizing_effects', 'active_pCBL', 'E2-S_state', 'zygosity_annotation', '“Hetero', '(“Homo”)_mutations', '(Table_S1', 'rest', 'cancer_mutations', 'zygocity_status', 'we', 'destabilizing_mutations', 'heterozygous_mutations', 'stages', 'CBL_activation_cycle', 'p-value', 'leukemia', 'sarcoma_patients', '(Fig', 'Table_S2', 'observation', 'prevalence', 'homozygous_mutations', 'Zn-coordinating_clusters', 'clusters', 'almost_equal_numbers', 'heterozygous_and_homozygous_mutations', 'It', 'many_homozygous_mutations', 'uniparental_disomy', 'germline_heterozygosity', 'neoplasia', 'reduction', 'homozygosity', 'patients', 'myeloproliferative_neoplasms', 'heterozygous_mutations', 'CBL', 'wild-type_CBL_allele', 'mutant_allele', 'it', 'damaging_mutant_allele', 'cancer_cell', 'higher_probability', 'human_leukemia_samples', 'loss', 'normal_CBL_allele', 'CBL-mediated_EGFR_ubiquitination', 'experiments', 'computational_models', 'we', 'fifteen_cancer_mutations', 'predicted_damaging_status', 'highly_damaging_and_benign_mutations', 'frequencies', 'cancer_samples', 'E3_activity', 'wild-type_and_mutant_CBL_proteins', 'Methods', 'Table', 'Fig', '3A', 'presence', 'wild-type_CBL', 'activation', 'EGFR', '10-fold_increase', 'ubiquitination', 'EGFR', 'empty_vector', 'endogenous_CBL_levels', 'HEK293T_cells', 'compare_lane', 'top_panel', 'Fig', '3A', 'E3_activity', 'wild-type_CBL', 'decrease', 'levels', 'targeting', 'ubiquitinated_EGFR', 'degradation', 'lanes', 'second_panel', 'Fig', '3A', 'Figure', '3_Figure', '(A)_EGFR_ubiquitination', 'HEK293', 'T_cells', 'plasmids', 'wild-type_or_mutant_CBL_proteins', 'EGFR', 'hemagglutinin', 'HA)-epitope', 'vector_control', 'wild-type', 'CBL_transfectant_cells', 'Table_1_Table_1_Experimental_relative_densitometry_values', 'HEK293T_cells', 'changes', 'stability', 'ΔΔGfold', 'mol−1', 'binding_affinity', 'ΔΔGbind_kcal_mol−1', 'comparison', 'other_methods', 'We', 'mutations', 'three_groups', 'attenuating', 'experimental_relative_densitometry_data', 'experimental_data', 'estimates', 'computational_models', 'first_group', 'damaging_mutants', 'C396R', 'CBL_activity', 'relative_densitometry', 'less_than_10%', '(Fig._3B', 'levels', 'total_EGFR', 'mutants', 'Fig', '3A', 'mutants', 'Recurrent_class', 'mutations', 'Table_1_shows', 'effects', 'mutations', 'four_CBL_states', 'five_mutants', 'stability', 'binding_affinity_calculations', 'mechanisms', 'action', 'H398Q_and_C381A_mutations', 'Zn-coordinating_clusters', 'very_damaging_consequences', 'stability_model', 'nCBL_and_CBL-S_states', 'damaging_effects', 'none', 'mutations', 'CBL-E2_interface', 'other_hand', 'K382E_mutation', 'Zn-coordination', 'nCBL_state', 'turn', 'charge_substitution', 'disruption', 'K382-E373_salt_bridge', 'closed_state', 'nCBL', 'Figure', 'Figure_S5A', 'K382E_mutation', 'significant_impact', 'CBL-E2', 'disruption', 'salt_bridge', 'pY371', 'K382', 'stability', 'CBL', 'active_state', '(Figure_4_and_Figure_S5D', 'significant_changes', 'CBL-S', 'CBL', 'states', 'Figure_S5B', 'C', 'K382E_mutation', 'Noonan_syndrome', 'CBL_stability', 'binding', 'Y371H_mutation', 'phosphorylation', 'Y371_site', 'profound_destabilizing_effect', 'four_states', 'Table', 'Figure', '4_Figure_4_Structures', 'wild_type', 'K382E_mutant_(tan', 'nCBL_and_pCBL-E2-S_states', 'Salt_bridges', 'dashed_lines', 'cases_mutation', 'stability', 'salt_bridge', 'second_group', 'mutants', '(M374V,_V430M', 'P428L,_Q249E_and_double_mutant_S80N/H94Y', 'CBL_activity', 'wild-type_CBL', 'relative_densitometry', '80%', '(Fig._3B', 'levels', 'activated_EGFR', 'samples', 'Fig', '3A', 'retained_E3_activity', 'mutants', 'we', 'mutants', 'non-small_cell_lung_cancer_cell_line_A549', 'cervical_cancer_cell_line_Hela', '(Fig._S6', 'S80N/H94Y_and_Q249E_mutations', 'human_non-small_cell_lung_cancers', 'A549_cell_line', 'function', 'CBL_mutants', 'other_cancer_mutations', 'other_cancer_types', 'HEK293T_cells', 'transfection', 'wild-type_CBL', 'A549_and_HeLa_cells', 'significant_increase', 'EGF', 'stimulated_ubiquitination', 'EGFR', 'cells', 'empty_vector', '(Fig._S6', 'increase', 'transfected_CBL_protein', 'endogenous_CBL_protein', 'HeLa', 'either_the_A549', 'HEK293T_cells', 'fold_increase', 'EGF', 'ubiquitination', 'EGFR', 'wild-type_CBL', 'Hela_cells', 'either_A549', 'HEK293T_cells', 'HEK293T_cells', 'Y371H_mutant', 'ubiquitination', 'vector_transfected_control', 'A549_or_HeLa_cells', 'Fig._S6A', 'C', 'CBL_mutants', 'HEK293T_cells', 'Fig', '3A', 'B', 'CBL_E3_activity', 'A549_and_HeLa_cells', '(Fig._S6', 'CBL_mutants', 'more_ubiquitination', 'EGFR', 'wild_type_CBL', 'example', 'Q249E_mutant', 'increased_ubiquitination', 'EGFR', '293T_and_HeLa_cells', 'M374V_mutant', 'higher_ubiquitination_levels', 'A549_and_HeLa_cells', 'Figure', 'Only_V430M_mutant', 'borderline', 'densitometry_ratio', 'mutations', 'second_group', 'computational_models', 'V430M', 'experimental_data', 'borderline_destabilizing_impact', '(Table', 'third_group', 'mutations', 'P395A', 'V391I', 'CBL_E3_activity', 'relative_densitometry_data', '(Fig._3B', 'mutants', 'two_cancer_samples', 'Single_mutation_class', 'intermediate_levels', 'EGFR', '(Fig._3A', 'G375P_and_P395A_mutations', 'partially_damaging_effects', 'predictions', 'mutations', 'third_group', 'CBL_states', 'contrast', 'highly_damaging_mutations', 'first_group', 'damaging_impacts', 'almost_all_CBL_states', 'we', 'reduction', 'CBL_ubiquitination_activity', 'effects', 'mutations', 'stability', '(Fig', 'relationship', 'experimental_densitometry_data', 'ΔΔGfold', 'exponential_dependence', 'correlation_coefficient', 'R', 'CBL-S', 'nCBL', '(Table_S5', 'change', 'absorption', 'wild-type_and_mutant_proteins', 'fraction', 'active_mutants', 'Boltzmann_equation', 'probability', 'state', 'energy', 'state', 'mutation', 'damaging_effects', 'loss', 'function', 'it', 'CBL_functional_states', 'consideration', 'we', 'correlation', 'densitometry_and_stability_changes', 'maximum', 'ΔΔGfold_values', 'nCBL_and_CBL-S_states', 'Fig', '5A', 'Table_S5', 'changes', 'stability', 'effects', 'mutations', 'CBL_ubiquitination_activity', 'high_correlation', 'R', 'comparison', 'several_alternative_methods', 'effect', 'mutations', 'free_energy', 'they', 'correlation_coefficients', 'only_one_method', 'PopMusic', 'statistically_significant_correlation', '(Table_S5', 'relationship', 'densitometry', 'binding_affinity_changes', 'borderline', 'significance', 'linear_correlation_coefficient', 'two_highly_damaging_mutations', '(Fig', '5B', 'Table_S5', 'Figure_5_Figure_5_(A)_Comparison', 'experimental_densitometry_values', 'exponential_model', 'maximal', 'changes', 'stability', '(B)_Comparison', 'experimental_densitometry_values', 'linear_model', 'changes', 'binding_affinity', 'pCBL-E2-S_state', 'various_methods', 'phenotypic_effects', 'mutations', 'them', 'structural_features', 'We', 'four_state-of-the-art_independent_methods', 'impacts', 'mutations', 'CBL_function', 'PROVEAN', 'PolyPhen-2', 'MutationAssessor', 'InCa', 'methods', 'model', 'classifying_cancer', 'random_mutations', 'they', 'disease', 'neutral_variants', 'Table_S6', 'four_methods', 'very_limited_accuracy', 'CBL_cancer_mutations', 'function', 'Table', 'Table_S5', 'PROVEAN_over-predicted_damaging_effects', 'experimentally_tested_mutations', 'PROVEAN', 'only_method', 'significant_correlation', 'densitometry_data', 'PROVEAN’s_score', ',_Table_S5', 'cancer_related_proteins', 'Evolutionary_selection', 'structural,_foldable_and_functional_proteins', 'many_mutations', 'protein_sequences', 'other_hand', 'thermodynamic_stability', 'evolution', 'certain_arrangements', 'catalytic_and_binding_sites', 'tumorigenesis', 'protein_stability', 'binding', 'cases', 'cancer_mutations', 'consequence', 'it', 'decreased_fitness', 'protein_level', 'fitness_advantage', 'population', 'tumor_cells', 'extent', 'stability-activity_tradeoff', 'oncogenes', 'tumor_suppressors', 'example', 'CBL_protein', 'we', 'stability-activity_balance', 'loss', 'gain', 'activity', 'cancer-related_proteins', 'compromised_stability', 'binding', 'contrast', 'many_other_computational_studies', 'stability', 'activity', 'one_protein_conformation', 'we', 'analysis', 'four_different_stages', 'CBL_activation_cycle', 'predictions', 'changes', 'stability', 'binding', 'experimental_CBL-mediated_EGFR_ubiquitination_assays', 'We', 'strong_relationship', 'effects', 'mutations', 'CBL_stability', 'densitometry_data', 'activity', 'relatively_weaker_correlation', 'changes', 'densitometry', 'CBL-E2_binding_affinity', 'It', 'less_significant_impact', 'experimentally_tested_mutations', 'CBL-E2_binding', 'limited_coupling', 'CBL_stability', 'CBL-E2_binding_and_E3_activity', 'Drivers', 'passengers', 'study', 'about_two_thirds', 'experimentally_tested_mutations', 'E3_activity', 'one_third', 'them', 'limitations', 'models', 'we', 'state-of-_the-art_methods', 'functional_effects', 'mutations', 'methods', 'inactivating', 'neutral_mutations', 'computational_models', 'effects', 'stability', 'different_CBL_states', 'many_methods', 'driver', 'passenger_mutations', 'pool', 'cancer_mutations', 'they', 'task', 'cancer', 'neutral_mutations', 'large_majority', 'mutations', 'cancer_genomics_studies', 'collective_burden', 'passenger_mutations', 'course', 'tumorigenesis', 'we', 'distribution', 'single_cancer_missense_mutations', 'CBL_gene', 'average_effects', 'stability', 'binding', 'pool', 'random_mutations', 'mutations', 'true_passenger_mutations', 'oncogenic_mechanisms', 'protein_destabilization', 'story', 'the_opposite', 'recurrent_mutations', 'they', 'average_significantly_higher_destabilizing_effects', 'random_mutations', 'majority', 'them', 'drivers', 'interesting_group', 'mutations', 'one_cancer_sample', '10%', 'single_cancer_mutations', 'mutations', 'either_rare_driver', 'latent_driver_mutations', 'mutations', 'Table', 'CBL-E2', 'mechanisms', 'cancer', 'analysis', 'cancer_mutations', 'active_state', 'inactive_state', 'It', 'contrast', 'stability-activity_tradeoff', 'EGFR', 'other_cancer_related_proteins', 'cancer_mutations', 'autoinhibitory_interactions', 'kinase', 'mutations', 'experimentally_tested_high_inactivating_effects', 'impacts', 'CBL_stability', '(Table', 'fact', 'correlation', 'CBL_cancer_mutations', 'COSMIC', 'R', 'CBL_state', 'p-value', 'It', 'residues', 'stability', 'RING-TKBD_autoinhibitory_interactions', 'CBL', 'interface', 'CBL-E2_interface', 'E2', 'One', 'disruption', 'RING-TKBD_interactions', 'destabilization', 'CBL', 'E2', 'CBL_activation', 'slight_activation', 'two_mutants', 'CBL-E2_interface', 'we', 'positive_high_correlation', 'stability', 'activity_changes', 'mechanism', 'vast_majority', 'mutations', 'CBL-E3_activity', 'CBL', 'CBL-E2', 'phosphorylation', 'critical_tyrosine', 'results', 'idea', 'decrease', 'E3_activity', 'ability', 'receptor_tyrosine_kinases', 'CBL_stability_and/or_CBL-E2_binding', 'selective_advantage', 'tumor_cells', 'several_factors', 'mechanisms', 'action', 'CBL_cancer_mutations', 'CBL_mutations', 'dominant-negative_and_mutated_CBL', 'CBL_E3_activity', 'concentration', 'activity', 'wild-type_CBL', 'ratiometric_method', 'driver_genes', 'cancer', 'CBL', 'oncogene', 'it', 'several_mutation_hot_spots', 'other_hand', 'study', 'other_studies', 'cancer_driver_mutations', 'E3_activity', 'CBL', 'it', 'tumor_suppressor', 'latter_fact', 'development', 'CBL', 'therapies', 'delicate_balance', 'different_CBL-affected_pathways', 'indirect_drug_targeting', 'damaged_CBL_proteins', 'current_genetics-based_frameworks', 'cancer', 'genome-wide_sequence_data', 'processes', 'carcinogenesis', 'informed,_targeted_therapies', 'approach', 'different_proteins', 'interest', 'importance', 'physics', 'binding_and_protein_conformational_ensembles', 'mechanisms', 'cancer']\n"
     ]
    }
   ],
   "source": [
    "import textacy\n",
    "\n",
    "# training_records = textacy.io.read_json(\"datasets/four_test_data.json\", lines=True)\n",
    "# pattern = textacy.constants.POS_REGEX_PATTERNS[\"en\"][\"NP\"]\n",
    "# print(pattern)\n",
    "\n",
    "training_records = textacy.io.read_json(\"datasets/7_training_data.json\", lines=True)\n",
    "X_train_full_text = []\n",
    "X_train = []\n",
    "y_train = []\n",
    "\n",
    "for training_record in training_records:\n",
    "    #doc_train = textacy.make_spacy_doc((training_record[\"text\"], \n",
    "    #                                {\"gene\":training_record[\"gene\"], \n",
    "    #                                \"variation\": training_record[\"variation\"],\n",
    "    #                                \"class\": training_record[\"class\"],\n",
    "    #                                \"id\": training_record[\"id\"]}))\n",
    "    # print(\"preview: \", doc_train._.preview)\n",
    "    # print(\"meta: \", doc_train._.meta)\n",
    "    \n",
    "    X_train_full_text.append(training_record[\"text\"])\n",
    "    y_train.append(training_record[\"class\"])\n",
    "\n",
    "    # print(X_train)\n",
    "    # print(y_train)\n",
    "\n",
    "\n",
    "# en = textacy.load_spacy_lang(\"en_core_web_sm\", disable=(\"parser\",))\n",
    "for text in X_train_full_text:\n",
    "    doc = textacy.make_spacy_doc((str(text), {\"class\": \"\"}))\n",
    "    nps = textacy.extract.noun_chunks(doc,\n",
    "                                      drop_determiners = True,\n",
    "                                      min_freq = 1)\n",
    "    doc_nps = [str(np).replace(' ','_') for np in nps]\n",
    "    X_train.append(doc_nps)\n",
    "    print(\"===========================================================\")\n",
    "    print(doc_nps)\n",
    "    \n",
    "    # y_train.append = doc_train._.meta[\"class\"]\n",
    "    # print(list(textacy.extract.noun_chunks(doc_train)))\n",
    "    # print(list(textacy.extract.ngrams(doc_train, \n",
    "    #                                  3, \n",
    "    #                                  filter_stops=True, \n",
    "    #                                  filter_punct=True, \n",
    "    #                                  filter_nums=False)))\n",
    "    # print(doc_train)\n",
    "    \n",
    "    # list(textacy.extract.entities(doc_train, drop_determiners=True))\n",
    "    # list(textacy.extract.ngrams(doc_train, 2, min_freq=2))\n",
    "    # list(textacy.extract.matches(doc_train, pattern))"
   ]
  },
  {
   "cell_type": "code",
   "execution_count": null,
   "metadata": {},
   "outputs": [],
   "source": [
    "from sklearn.pipeline import Pipeline\n",
    "\n",
    "\n",
    "pipe = Pipeline([(\"transformer\", transforms()),\n",
    "                ('vectorizer', bow/tfidf_vector),\n",
    "                ('classifier', classifier)])\n",
    "\n",
    "pipe.fit(X_train,y_train)\n"
   ]
  },
  {
   "cell_type": "code",
   "execution_count": 117,
   "metadata": {},
   "outputs": [
    {
     "data": {
      "text/html": [
       "<div>\n",
       "<style scoped>\n",
       "    .dataframe tbody tr th:only-of-type {\n",
       "        vertical-align: middle;\n",
       "    }\n",
       "\n",
       "    .dataframe tbody tr th {\n",
       "        vertical-align: top;\n",
       "    }\n",
       "\n",
       "    .dataframe thead th {\n",
       "        text-align: right;\n",
       "    }\n",
       "</style>\n",
       "<table border=\"1\" class=\"dataframe\">\n",
       "  <thead>\n",
       "    <tr style=\"text-align: right;\">\n",
       "      <th></th>\n",
       "      <th>ID</th>\n",
       "      <th>Text</th>\n",
       "    </tr>\n",
       "  </thead>\n",
       "  <tbody>\n",
       "    <tr>\n",
       "      <th>0</th>\n",
       "      <td>0</td>\n",
       "      <td>Cyclin-dependent kinases (CDKs) regulate a var...</td>\n",
       "    </tr>\n",
       "    <tr>\n",
       "      <th>1</th>\n",
       "      <td>1</td>\n",
       "      <td>Abstract Background  Non-small cell lung canc...</td>\n",
       "    </tr>\n",
       "    <tr>\n",
       "      <th>2</th>\n",
       "      <td>2</td>\n",
       "      <td>Abstract Background  Non-small cell lung canc...</td>\n",
       "    </tr>\n",
       "    <tr>\n",
       "      <th>3</th>\n",
       "      <td>3</td>\n",
       "      <td>Recent evidence has demonstrated that acquired...</td>\n",
       "    </tr>\n",
       "    <tr>\n",
       "      <th>4</th>\n",
       "      <td>4</td>\n",
       "      <td>Oncogenic mutations in the monomeric Casitas B...</td>\n",
       "    </tr>\n",
       "  </tbody>\n",
       "</table>\n",
       "</div>"
      ],
      "text/plain": [
       "   ID                                               Text\n",
       "0   0  Cyclin-dependent kinases (CDKs) regulate a var...\n",
       "1   1   Abstract Background  Non-small cell lung canc...\n",
       "2   2   Abstract Background  Non-small cell lung canc...\n",
       "3   3  Recent evidence has demonstrated that acquired...\n",
       "4   4  Oncogenic mutations in the monomeric Casitas B..."
      ]
     },
     "execution_count": 117,
     "metadata": {},
     "output_type": "execute_result"
    }
   ],
   "source": [
    "%matplotlib inline\n",
    "import pandas as pd\n",
    "import numpy as np\n",
    "\n",
    "import os\n",
    "\n",
    "df_train_txt = pd.read_csv('./datasets/input/training_text', \n",
    "                           sep='\\|\\|', \n",
    "                           header=None, \n",
    "                           skiprows=1, \n",
    "                           names=[\"ID\",\"Text\"], \n",
    "                           engine='python')\n",
    "df_train_txt.head()"
   ]
  },
  {
   "cell_type": "code",
   "execution_count": 118,
   "metadata": {},
   "outputs": [
    {
     "data": {
      "text/html": [
       "<div>\n",
       "<style scoped>\n",
       "    .dataframe tbody tr th:only-of-type {\n",
       "        vertical-align: middle;\n",
       "    }\n",
       "\n",
       "    .dataframe tbody tr th {\n",
       "        vertical-align: top;\n",
       "    }\n",
       "\n",
       "    .dataframe thead th {\n",
       "        text-align: right;\n",
       "    }\n",
       "</style>\n",
       "<table border=\"1\" class=\"dataframe\">\n",
       "  <thead>\n",
       "    <tr style=\"text-align: right;\">\n",
       "      <th></th>\n",
       "      <th>ID</th>\n",
       "      <th>Gene</th>\n",
       "      <th>Variation</th>\n",
       "      <th>Class</th>\n",
       "    </tr>\n",
       "  </thead>\n",
       "  <tbody>\n",
       "    <tr>\n",
       "      <th>0</th>\n",
       "      <td>0</td>\n",
       "      <td>FAM58A</td>\n",
       "      <td>Truncating Mutations</td>\n",
       "      <td>1</td>\n",
       "    </tr>\n",
       "    <tr>\n",
       "      <th>1</th>\n",
       "      <td>1</td>\n",
       "      <td>CBL</td>\n",
       "      <td>W802*</td>\n",
       "      <td>2</td>\n",
       "    </tr>\n",
       "    <tr>\n",
       "      <th>2</th>\n",
       "      <td>2</td>\n",
       "      <td>CBL</td>\n",
       "      <td>Q249E</td>\n",
       "      <td>2</td>\n",
       "    </tr>\n",
       "    <tr>\n",
       "      <th>3</th>\n",
       "      <td>3</td>\n",
       "      <td>CBL</td>\n",
       "      <td>N454D</td>\n",
       "      <td>3</td>\n",
       "    </tr>\n",
       "    <tr>\n",
       "      <th>4</th>\n",
       "      <td>4</td>\n",
       "      <td>CBL</td>\n",
       "      <td>L399V</td>\n",
       "      <td>4</td>\n",
       "    </tr>\n",
       "  </tbody>\n",
       "</table>\n",
       "</div>"
      ],
      "text/plain": [
       "   ID    Gene             Variation  Class\n",
       "0   0  FAM58A  Truncating Mutations      1\n",
       "1   1     CBL                 W802*      2\n",
       "2   2     CBL                 Q249E      2\n",
       "3   3     CBL                 N454D      3\n",
       "4   4     CBL                 L399V      4"
      ]
     },
     "execution_count": 118,
     "metadata": {},
     "output_type": "execute_result"
    }
   ],
   "source": [
    "df_train_var = pd.read_csv('./datasets/input/training_variants')\n",
    "df_train_var.head()"
   ]
  },
  {
   "cell_type": "code",
   "execution_count": 119,
   "metadata": {},
   "outputs": [
    {
     "data": {
      "text/html": [
       "<div>\n",
       "<style scoped>\n",
       "    .dataframe tbody tr th:only-of-type {\n",
       "        vertical-align: middle;\n",
       "    }\n",
       "\n",
       "    .dataframe tbody tr th {\n",
       "        vertical-align: top;\n",
       "    }\n",
       "\n",
       "    .dataframe thead th {\n",
       "        text-align: right;\n",
       "    }\n",
       "</style>\n",
       "<table border=\"1\" class=\"dataframe\">\n",
       "  <thead>\n",
       "    <tr style=\"text-align: right;\">\n",
       "      <th></th>\n",
       "      <th>ID</th>\n",
       "      <th>Text</th>\n",
       "    </tr>\n",
       "  </thead>\n",
       "  <tbody>\n",
       "    <tr>\n",
       "      <th>0</th>\n",
       "      <td>0</td>\n",
       "      <td>2. This mutation resulted in a myeloproliferat...</td>\n",
       "    </tr>\n",
       "    <tr>\n",
       "      <th>1</th>\n",
       "      <td>1</td>\n",
       "      <td>Abstract The Large Tumor Suppressor 1 (LATS1)...</td>\n",
       "    </tr>\n",
       "    <tr>\n",
       "      <th>2</th>\n",
       "      <td>2</td>\n",
       "      <td>Vascular endothelial growth factor receptor (V...</td>\n",
       "    </tr>\n",
       "    <tr>\n",
       "      <th>3</th>\n",
       "      <td>3</td>\n",
       "      <td>Inflammatory myofibroblastic tumor (IMT) is a ...</td>\n",
       "    </tr>\n",
       "    <tr>\n",
       "      <th>4</th>\n",
       "      <td>4</td>\n",
       "      <td>Abstract Retinoblastoma is a pediatric retina...</td>\n",
       "    </tr>\n",
       "  </tbody>\n",
       "</table>\n",
       "</div>"
      ],
      "text/plain": [
       "   ID                                               Text\n",
       "0   0  2. This mutation resulted in a myeloproliferat...\n",
       "1   1   Abstract The Large Tumor Suppressor 1 (LATS1)...\n",
       "2   2  Vascular endothelial growth factor receptor (V...\n",
       "3   3  Inflammatory myofibroblastic tumor (IMT) is a ...\n",
       "4   4   Abstract Retinoblastoma is a pediatric retina..."
      ]
     },
     "execution_count": 119,
     "metadata": {},
     "output_type": "execute_result"
    }
   ],
   "source": [
    "df_test_txt = pd.read_csv('./datasets/input/test_text', \n",
    "                          sep='\\|\\|', \n",
    "                          header=None, \n",
    "                          skiprows=1, \n",
    "                          names=[\"ID\",\"Text\"], \n",
    "                          engine='python')\n",
    "df_test_txt.head()"
   ]
  },
  {
   "cell_type": "code",
   "execution_count": 120,
   "metadata": {},
   "outputs": [
    {
     "data": {
      "text/html": [
       "<div>\n",
       "<style scoped>\n",
       "    .dataframe tbody tr th:only-of-type {\n",
       "        vertical-align: middle;\n",
       "    }\n",
       "\n",
       "    .dataframe tbody tr th {\n",
       "        vertical-align: top;\n",
       "    }\n",
       "\n",
       "    .dataframe thead th {\n",
       "        text-align: right;\n",
       "    }\n",
       "</style>\n",
       "<table border=\"1\" class=\"dataframe\">\n",
       "  <thead>\n",
       "    <tr style=\"text-align: right;\">\n",
       "      <th></th>\n",
       "      <th>ID</th>\n",
       "      <th>Gene</th>\n",
       "      <th>Variation</th>\n",
       "    </tr>\n",
       "  </thead>\n",
       "  <tbody>\n",
       "    <tr>\n",
       "      <th>0</th>\n",
       "      <td>0</td>\n",
       "      <td>ACSL4</td>\n",
       "      <td>R570S</td>\n",
       "    </tr>\n",
       "    <tr>\n",
       "      <th>1</th>\n",
       "      <td>1</td>\n",
       "      <td>NAGLU</td>\n",
       "      <td>P521L</td>\n",
       "    </tr>\n",
       "    <tr>\n",
       "      <th>2</th>\n",
       "      <td>2</td>\n",
       "      <td>PAH</td>\n",
       "      <td>L333F</td>\n",
       "    </tr>\n",
       "    <tr>\n",
       "      <th>3</th>\n",
       "      <td>3</td>\n",
       "      <td>ING1</td>\n",
       "      <td>A148D</td>\n",
       "    </tr>\n",
       "    <tr>\n",
       "      <th>4</th>\n",
       "      <td>4</td>\n",
       "      <td>TMEM216</td>\n",
       "      <td>G77A</td>\n",
       "    </tr>\n",
       "  </tbody>\n",
       "</table>\n",
       "</div>"
      ],
      "text/plain": [
       "   ID     Gene Variation\n",
       "0   0    ACSL4     R570S\n",
       "1   1    NAGLU     P521L\n",
       "2   2      PAH     L333F\n",
       "3   3     ING1     A148D\n",
       "4   4  TMEM216      G77A"
      ]
     },
     "execution_count": 120,
     "metadata": {},
     "output_type": "execute_result"
    }
   ],
   "source": [
    "df_test_var = pd.read_csv('./datasets/input/test_variants')\n",
    "df_test_var.head()"
   ]
  },
  {
   "cell_type": "code",
   "execution_count": 121,
   "metadata": {},
   "outputs": [
    {
     "data": {
      "text/html": [
       "<div>\n",
       "<style scoped>\n",
       "    .dataframe tbody tr th:only-of-type {\n",
       "        vertical-align: middle;\n",
       "    }\n",
       "\n",
       "    .dataframe tbody tr th {\n",
       "        vertical-align: top;\n",
       "    }\n",
       "\n",
       "    .dataframe thead th {\n",
       "        text-align: right;\n",
       "    }\n",
       "</style>\n",
       "<table border=\"1\" class=\"dataframe\">\n",
       "  <thead>\n",
       "    <tr style=\"text-align: right;\">\n",
       "      <th></th>\n",
       "      <th>ID</th>\n",
       "      <th>Gene</th>\n",
       "      <th>Variation</th>\n",
       "      <th>Class</th>\n",
       "      <th>Text</th>\n",
       "    </tr>\n",
       "  </thead>\n",
       "  <tbody>\n",
       "    <tr>\n",
       "      <th>0</th>\n",
       "      <td>0</td>\n",
       "      <td>FAM58A</td>\n",
       "      <td>Truncating Mutations</td>\n",
       "      <td>1</td>\n",
       "      <td>Cyclin-dependent kinases (CDKs) regulate a var...</td>\n",
       "    </tr>\n",
       "    <tr>\n",
       "      <th>1</th>\n",
       "      <td>1</td>\n",
       "      <td>CBL</td>\n",
       "      <td>W802*</td>\n",
       "      <td>2</td>\n",
       "      <td>Abstract Background  Non-small cell lung canc...</td>\n",
       "    </tr>\n",
       "    <tr>\n",
       "      <th>2</th>\n",
       "      <td>2</td>\n",
       "      <td>CBL</td>\n",
       "      <td>Q249E</td>\n",
       "      <td>2</td>\n",
       "      <td>Abstract Background  Non-small cell lung canc...</td>\n",
       "    </tr>\n",
       "    <tr>\n",
       "      <th>3</th>\n",
       "      <td>3</td>\n",
       "      <td>CBL</td>\n",
       "      <td>N454D</td>\n",
       "      <td>3</td>\n",
       "      <td>Recent evidence has demonstrated that acquired...</td>\n",
       "    </tr>\n",
       "    <tr>\n",
       "      <th>4</th>\n",
       "      <td>4</td>\n",
       "      <td>CBL</td>\n",
       "      <td>L399V</td>\n",
       "      <td>4</td>\n",
       "      <td>Oncogenic mutations in the monomeric Casitas B...</td>\n",
       "    </tr>\n",
       "  </tbody>\n",
       "</table>\n",
       "</div>"
      ],
      "text/plain": [
       "   ID    Gene             Variation  Class  \\\n",
       "0   0  FAM58A  Truncating Mutations      1   \n",
       "1   1     CBL                 W802*      2   \n",
       "2   2     CBL                 Q249E      2   \n",
       "3   3     CBL                 N454D      3   \n",
       "4   4     CBL                 L399V      4   \n",
       "\n",
       "                                                Text  \n",
       "0  Cyclin-dependent kinases (CDKs) regulate a var...  \n",
       "1   Abstract Background  Non-small cell lung canc...  \n",
       "2   Abstract Background  Non-small cell lung canc...  \n",
       "3  Recent evidence has demonstrated that acquired...  \n",
       "4  Oncogenic mutations in the monomeric Casitas B...  "
      ]
     },
     "execution_count": 121,
     "metadata": {},
     "output_type": "execute_result"
    }
   ],
   "source": [
    "df_train = pd.merge(df_train_var, df_train_txt, how='left', on='ID')\n",
    "df_train.head()"
   ]
  },
  {
   "cell_type": "code",
   "execution_count": 122,
   "metadata": {},
   "outputs": [
    {
     "data": {
      "text/html": [
       "<div>\n",
       "<style scoped>\n",
       "    .dataframe tbody tr th:only-of-type {\n",
       "        vertical-align: middle;\n",
       "    }\n",
       "\n",
       "    .dataframe tbody tr th {\n",
       "        vertical-align: top;\n",
       "    }\n",
       "\n",
       "    .dataframe thead th {\n",
       "        text-align: right;\n",
       "    }\n",
       "</style>\n",
       "<table border=\"1\" class=\"dataframe\">\n",
       "  <thead>\n",
       "    <tr style=\"text-align: right;\">\n",
       "      <th></th>\n",
       "      <th>ID</th>\n",
       "      <th>Gene</th>\n",
       "      <th>Variation</th>\n",
       "      <th>Text</th>\n",
       "    </tr>\n",
       "  </thead>\n",
       "  <tbody>\n",
       "    <tr>\n",
       "      <th>0</th>\n",
       "      <td>0</td>\n",
       "      <td>ACSL4</td>\n",
       "      <td>R570S</td>\n",
       "      <td>2. This mutation resulted in a myeloproliferat...</td>\n",
       "    </tr>\n",
       "    <tr>\n",
       "      <th>1</th>\n",
       "      <td>1</td>\n",
       "      <td>NAGLU</td>\n",
       "      <td>P521L</td>\n",
       "      <td>Abstract The Large Tumor Suppressor 1 (LATS1)...</td>\n",
       "    </tr>\n",
       "    <tr>\n",
       "      <th>2</th>\n",
       "      <td>2</td>\n",
       "      <td>PAH</td>\n",
       "      <td>L333F</td>\n",
       "      <td>Vascular endothelial growth factor receptor (V...</td>\n",
       "    </tr>\n",
       "    <tr>\n",
       "      <th>3</th>\n",
       "      <td>3</td>\n",
       "      <td>ING1</td>\n",
       "      <td>A148D</td>\n",
       "      <td>Inflammatory myofibroblastic tumor (IMT) is a ...</td>\n",
       "    </tr>\n",
       "    <tr>\n",
       "      <th>4</th>\n",
       "      <td>4</td>\n",
       "      <td>TMEM216</td>\n",
       "      <td>G77A</td>\n",
       "      <td>Abstract Retinoblastoma is a pediatric retina...</td>\n",
       "    </tr>\n",
       "  </tbody>\n",
       "</table>\n",
       "</div>"
      ],
      "text/plain": [
       "   ID     Gene Variation                                               Text\n",
       "0   0    ACSL4     R570S  2. This mutation resulted in a myeloproliferat...\n",
       "1   1    NAGLU     P521L   Abstract The Large Tumor Suppressor 1 (LATS1)...\n",
       "2   2      PAH     L333F  Vascular endothelial growth factor receptor (V...\n",
       "3   3     ING1     A148D  Inflammatory myofibroblastic tumor (IMT) is a ...\n",
       "4   4  TMEM216      G77A   Abstract Retinoblastoma is a pediatric retina..."
      ]
     },
     "execution_count": 122,
     "metadata": {},
     "output_type": "execute_result"
    }
   ],
   "source": [
    "df_test = pd.merge(df_test_var, df_test_txt, how='left', on='ID')\n",
    "df_test.head()"
   ]
  },
  {
   "cell_type": "code",
   "execution_count": 123,
   "metadata": {},
   "outputs": [
    {
     "data": {
      "text/html": [
       "<div>\n",
       "<style scoped>\n",
       "    .dataframe tbody tr th:only-of-type {\n",
       "        vertical-align: middle;\n",
       "    }\n",
       "\n",
       "    .dataframe tbody tr th {\n",
       "        vertical-align: top;\n",
       "    }\n",
       "\n",
       "    .dataframe thead th {\n",
       "        text-align: right;\n",
       "    }\n",
       "</style>\n",
       "<table border=\"1\" class=\"dataframe\">\n",
       "  <thead>\n",
       "    <tr style=\"text-align: right;\">\n",
       "      <th></th>\n",
       "      <th>ID</th>\n",
       "      <th>Gene</th>\n",
       "      <th>Variation</th>\n",
       "      <th>Class</th>\n",
       "      <th>Text</th>\n",
       "    </tr>\n",
       "  </thead>\n",
       "  <tbody>\n",
       "    <tr>\n",
       "      <th>count</th>\n",
       "      <td>3321.000000</td>\n",
       "      <td>3321</td>\n",
       "      <td>3321</td>\n",
       "      <td>3321.000000</td>\n",
       "      <td>3316</td>\n",
       "    </tr>\n",
       "    <tr>\n",
       "      <th>unique</th>\n",
       "      <td>NaN</td>\n",
       "      <td>264</td>\n",
       "      <td>2996</td>\n",
       "      <td>NaN</td>\n",
       "      <td>1920</td>\n",
       "    </tr>\n",
       "    <tr>\n",
       "      <th>top</th>\n",
       "      <td>NaN</td>\n",
       "      <td>BRCA1</td>\n",
       "      <td>Truncating Mutations</td>\n",
       "      <td>NaN</td>\n",
       "      <td>The PTEN (phosphatase and tensin homolog) phos...</td>\n",
       "    </tr>\n",
       "    <tr>\n",
       "      <th>freq</th>\n",
       "      <td>NaN</td>\n",
       "      <td>264</td>\n",
       "      <td>93</td>\n",
       "      <td>NaN</td>\n",
       "      <td>53</td>\n",
       "    </tr>\n",
       "    <tr>\n",
       "      <th>mean</th>\n",
       "      <td>1660.000000</td>\n",
       "      <td>NaN</td>\n",
       "      <td>NaN</td>\n",
       "      <td>4.365854</td>\n",
       "      <td>NaN</td>\n",
       "    </tr>\n",
       "    <tr>\n",
       "      <th>std</th>\n",
       "      <td>958.834449</td>\n",
       "      <td>NaN</td>\n",
       "      <td>NaN</td>\n",
       "      <td>2.309781</td>\n",
       "      <td>NaN</td>\n",
       "    </tr>\n",
       "    <tr>\n",
       "      <th>min</th>\n",
       "      <td>0.000000</td>\n",
       "      <td>NaN</td>\n",
       "      <td>NaN</td>\n",
       "      <td>1.000000</td>\n",
       "      <td>NaN</td>\n",
       "    </tr>\n",
       "    <tr>\n",
       "      <th>25%</th>\n",
       "      <td>830.000000</td>\n",
       "      <td>NaN</td>\n",
       "      <td>NaN</td>\n",
       "      <td>2.000000</td>\n",
       "      <td>NaN</td>\n",
       "    </tr>\n",
       "    <tr>\n",
       "      <th>50%</th>\n",
       "      <td>1660.000000</td>\n",
       "      <td>NaN</td>\n",
       "      <td>NaN</td>\n",
       "      <td>4.000000</td>\n",
       "      <td>NaN</td>\n",
       "    </tr>\n",
       "    <tr>\n",
       "      <th>75%</th>\n",
       "      <td>2490.000000</td>\n",
       "      <td>NaN</td>\n",
       "      <td>NaN</td>\n",
       "      <td>7.000000</td>\n",
       "      <td>NaN</td>\n",
       "    </tr>\n",
       "    <tr>\n",
       "      <th>max</th>\n",
       "      <td>3320.000000</td>\n",
       "      <td>NaN</td>\n",
       "      <td>NaN</td>\n",
       "      <td>9.000000</td>\n",
       "      <td>NaN</td>\n",
       "    </tr>\n",
       "  </tbody>\n",
       "</table>\n",
       "</div>"
      ],
      "text/plain": [
       "                 ID   Gene             Variation        Class  \\\n",
       "count   3321.000000   3321                  3321  3321.000000   \n",
       "unique          NaN    264                  2996          NaN   \n",
       "top             NaN  BRCA1  Truncating Mutations          NaN   \n",
       "freq            NaN    264                    93          NaN   \n",
       "mean    1660.000000    NaN                   NaN     4.365854   \n",
       "std      958.834449    NaN                   NaN     2.309781   \n",
       "min        0.000000    NaN                   NaN     1.000000   \n",
       "25%      830.000000    NaN                   NaN     2.000000   \n",
       "50%     1660.000000    NaN                   NaN     4.000000   \n",
       "75%     2490.000000    NaN                   NaN     7.000000   \n",
       "max     3320.000000    NaN                   NaN     9.000000   \n",
       "\n",
       "                                                     Text  \n",
       "count                                                3316  \n",
       "unique                                               1920  \n",
       "top     The PTEN (phosphatase and tensin homolog) phos...  \n",
       "freq                                                   53  \n",
       "mean                                                  NaN  \n",
       "std                                                   NaN  \n",
       "min                                                   NaN  \n",
       "25%                                                   NaN  \n",
       "50%                                                   NaN  \n",
       "75%                                                   NaN  \n",
       "max                                                   NaN  "
      ]
     },
     "execution_count": 123,
     "metadata": {},
     "output_type": "execute_result"
    }
   ],
   "source": [
    "df_train.describe(include='all')"
   ]
  },
  {
   "cell_type": "code",
   "execution_count": 124,
   "metadata": {},
   "outputs": [
    {
     "data": {
      "text/html": [
       "<div>\n",
       "<style scoped>\n",
       "    .dataframe tbody tr th:only-of-type {\n",
       "        vertical-align: middle;\n",
       "    }\n",
       "\n",
       "    .dataframe tbody tr th {\n",
       "        vertical-align: top;\n",
       "    }\n",
       "\n",
       "    .dataframe thead th {\n",
       "        text-align: right;\n",
       "    }\n",
       "</style>\n",
       "<table border=\"1\" class=\"dataframe\">\n",
       "  <thead>\n",
       "    <tr style=\"text-align: right;\">\n",
       "      <th></th>\n",
       "      <th>ID</th>\n",
       "      <th>Gene</th>\n",
       "      <th>Variation</th>\n",
       "      <th>Text</th>\n",
       "    </tr>\n",
       "  </thead>\n",
       "  <tbody>\n",
       "    <tr>\n",
       "      <th>count</th>\n",
       "      <td>5668.000000</td>\n",
       "      <td>5668</td>\n",
       "      <td>5668</td>\n",
       "      <td>5667</td>\n",
       "    </tr>\n",
       "    <tr>\n",
       "      <th>unique</th>\n",
       "      <td>NaN</td>\n",
       "      <td>1397</td>\n",
       "      <td>5628</td>\n",
       "      <td>5610</td>\n",
       "    </tr>\n",
       "    <tr>\n",
       "      <th>top</th>\n",
       "      <td>NaN</td>\n",
       "      <td>F8</td>\n",
       "      <td>Truncating Mutations</td>\n",
       "      <td>Mutations in BRCA1 and BRCA2 account for the m...</td>\n",
       "    </tr>\n",
       "    <tr>\n",
       "      <th>freq</th>\n",
       "      <td>NaN</td>\n",
       "      <td>134</td>\n",
       "      <td>18</td>\n",
       "      <td>6</td>\n",
       "    </tr>\n",
       "    <tr>\n",
       "      <th>mean</th>\n",
       "      <td>2833.500000</td>\n",
       "      <td>NaN</td>\n",
       "      <td>NaN</td>\n",
       "      <td>NaN</td>\n",
       "    </tr>\n",
       "    <tr>\n",
       "      <th>std</th>\n",
       "      <td>1636.354994</td>\n",
       "      <td>NaN</td>\n",
       "      <td>NaN</td>\n",
       "      <td>NaN</td>\n",
       "    </tr>\n",
       "    <tr>\n",
       "      <th>min</th>\n",
       "      <td>0.000000</td>\n",
       "      <td>NaN</td>\n",
       "      <td>NaN</td>\n",
       "      <td>NaN</td>\n",
       "    </tr>\n",
       "    <tr>\n",
       "      <th>25%</th>\n",
       "      <td>1416.750000</td>\n",
       "      <td>NaN</td>\n",
       "      <td>NaN</td>\n",
       "      <td>NaN</td>\n",
       "    </tr>\n",
       "    <tr>\n",
       "      <th>50%</th>\n",
       "      <td>2833.500000</td>\n",
       "      <td>NaN</td>\n",
       "      <td>NaN</td>\n",
       "      <td>NaN</td>\n",
       "    </tr>\n",
       "    <tr>\n",
       "      <th>75%</th>\n",
       "      <td>4250.250000</td>\n",
       "      <td>NaN</td>\n",
       "      <td>NaN</td>\n",
       "      <td>NaN</td>\n",
       "    </tr>\n",
       "    <tr>\n",
       "      <th>max</th>\n",
       "      <td>5667.000000</td>\n",
       "      <td>NaN</td>\n",
       "      <td>NaN</td>\n",
       "      <td>NaN</td>\n",
       "    </tr>\n",
       "  </tbody>\n",
       "</table>\n",
       "</div>"
      ],
      "text/plain": [
       "                 ID  Gene             Variation  \\\n",
       "count   5668.000000  5668                  5668   \n",
       "unique          NaN  1397                  5628   \n",
       "top             NaN    F8  Truncating Mutations   \n",
       "freq            NaN   134                    18   \n",
       "mean    2833.500000   NaN                   NaN   \n",
       "std     1636.354994   NaN                   NaN   \n",
       "min        0.000000   NaN                   NaN   \n",
       "25%     1416.750000   NaN                   NaN   \n",
       "50%     2833.500000   NaN                   NaN   \n",
       "75%     4250.250000   NaN                   NaN   \n",
       "max     5667.000000   NaN                   NaN   \n",
       "\n",
       "                                                     Text  \n",
       "count                                                5667  \n",
       "unique                                               5610  \n",
       "top     Mutations in BRCA1 and BRCA2 account for the m...  \n",
       "freq                                                    6  \n",
       "mean                                                  NaN  \n",
       "std                                                   NaN  \n",
       "min                                                   NaN  \n",
       "25%                                                   NaN  \n",
       "50%                                                   NaN  \n",
       "75%                                                   NaN  \n",
       "max                                                   NaN  "
      ]
     },
     "execution_count": 124,
     "metadata": {},
     "output_type": "execute_result"
    }
   ],
   "source": [
    "df_test.describe(include='all')"
   ]
  },
  {
   "cell_type": "code",
   "execution_count": 125,
   "metadata": {},
   "outputs": [
    {
     "data": {
      "text/plain": [
       "<matplotlib.axes._subplots.AxesSubplot at 0x7f6e961c2550>"
      ]
     },
     "execution_count": 125,
     "metadata": {},
     "output_type": "execute_result"
    },
    {
     "data": {
      "image/png": "[encoded data removed]",
      "text/plain": [
       "<Figure size 432x288 with 1 Axes>"
      ]
     },
     "metadata": {
      "needs_background": "light"
     },
     "output_type": "display_data"
    }
   ],
   "source": [
    "df_train['Class'].value_counts().plot(kind=\"bar\", rot=0)"
   ]
  },
  {
   "cell_type": "code",
   "execution_count": 161,
   "metadata": {},
   "outputs": [
    {
     "data": {
      "text/plain": [
       "(996, 5)"
      ]
     },
     "execution_count": 161,
     "metadata": {},
     "output_type": "execute_result"
    }
   ],
   "source": [
    "# This cell reduces the training data for Kaggle limits. Remove this cell for real results.\n",
    "from sklearn.model_selection import train_test_split\n",
    "\n",
    "df_train, _ = train_test_split(df_train, test_size=0.7, random_state=8, stratify=df_train['Class'])\n",
    "df_train.shape"
   ]
  },
  {
   "cell_type": "code",
   "execution_count": 162,
   "metadata": {},
   "outputs": [],
   "source": [
    "from sklearn.model_selection import cross_val_predict\n",
    "from sklearn.model_selection import StratifiedKFold\n",
    "from sklearn.linear_model import LogisticRegression\n",
    "from sklearn.metrics import log_loss, accuracy_score\n",
    "import scikitplot as skplt\n",
    "\n",
    "def evaluate_features(X, y, clf=None):\n",
    "    \"\"\"General helper function for evaluating effectiveness of passed features in ML model\n",
    "    \n",
    "    Prints out Log loss, accuracy, and confusion matrix with 3-fold stratified cross-validation\n",
    "    \n",
    "    Args:\n",
    "        X (array-like): Features array. Shape (n_samples, n_features)\n",
    "        \n",
    "        y (array-like): Labels array. Shape (n_samples,)\n",
    "        \n",
    "        clf: Classifier to use. If None, default Log reg is use.\n",
    "    \"\"\"\n",
    "    if clf is None:\n",
    "        clf = LogisticRegression()\n",
    "    \n",
    "    probas = cross_val_predict(clf, X, y, cv=StratifiedKFold(random_state=8, n_splits=5), \n",
    "                              n_jobs=-1, method='predict_proba',\n",
    "                              verbose=2)\n",
    "    pred_indices = np.argmax(probas, axis=1)\n",
    "    classes = np.unique(y)\n",
    "    preds = classes[pred_indices]\n",
    "    print('Log loss: {}'.format(log_loss(y, probas)))\n",
    "    print('Accuracy: {}'.format(accuracy_score(y, preds)))\n",
    "    skplt.metrics.plot_confusion_matrix(y, preds)"
   ]
  },
  {
   "cell_type": "code",
   "execution_count": 163,
   "metadata": {},
   "outputs": [
    {
     "name": "stderr",
     "output_type": "stream",
     "text": [
      "[Parallel(n_jobs=-1)]: Using backend LokyBackend with 4 concurrent workers.\n",
      "[Parallel(n_jobs=-1)]: Done   5 out of   5 | elapsed:    0.0s finished\n"
     ]
    },
    {
     "name": "stdout",
     "output_type": "stream",
     "text": [
      "Log loss: 0.32944872366748057\n",
      "Accuracy: 0.96\n"
     ]
    },
    {
     "data": {
      "image/png": "[encoded data removed]",
      "text/plain": [
       "<Figure size 432x288 with 2 Axes>"
      ]
     },
     "metadata": {
      "needs_background": "light"
     },
     "output_type": "display_data"
    }
   ],
   "source": [
    "\n",
    "# Quick test of evaluate_features\n",
    "from sklearn.datasets import load_iris\n",
    "evaluate_features(*load_iris(True))"
   ]
  },
  {
   "cell_type": "code",
   "execution_count": 164,
   "metadata": {},
   "outputs": [
    {
     "name": "stderr",
     "output_type": "stream",
     "text": [
      "[nltk_data] Downloading package punkt to /home/crosas/nltk_data...\n",
      "[nltk_data]   Package punkt is already up-to-date!\n"
     ]
    }
   ],
   "source": [
    "from sklearn.feature_extraction.text import CountVectorizer\n",
    "from sklearn.feature_extraction.text import TfidfVectorizer\n",
    "import nltk\n",
    "nltk.download('punkt')\n",
    "\n",
    "count_vectorizer = CountVectorizer(\n",
    "    analyzer=\"word\", tokenizer=nltk.word_tokenize,\n",
    "    preprocessor=None, stop_words='english', max_features=None)    "
   ]
  },
  {
   "cell_type": "code",
   "execution_count": 165,
   "metadata": {},
   "outputs": [],
   "source": [
    "bag_of_words = count_vectorizer.fit_transform(df_train['Text'].values.astype('U'))"
   ]
  },
  {
   "cell_type": "code",
   "execution_count": 166,
   "metadata": {},
   "outputs": [
    {
     "data": {
      "text/plain": [
       "157726"
      ]
     },
     "execution_count": 166,
     "metadata": {},
     "output_type": "execute_result"
    }
   ],
   "source": [
    "len(count_vectorizer.get_feature_names())"
   ]
  },
  {
   "cell_type": "code",
   "execution_count": 167,
   "metadata": {},
   "outputs": [
    {
     "name": "stdout",
     "output_type": "stream",
     "text": [
      "['\\x013-galactosidase', '\\x0150', '\\x04g', '!', '#', '$', '%', '&', \"'\", \"''\", \"''not\", \"'*\", \"'-\", \"'-thiotriphos-\"]\n"
     ]
    }
   ],
   "source": [
    "print(count_vectorizer.get_feature_names()[1:15])"
   ]
  },
  {
   "cell_type": "code",
   "execution_count": 168,
   "metadata": {},
   "outputs": [],
   "source": [
    "from sklearn.decomposition import TruncatedSVD\n",
    "svd = TruncatedSVD(n_components=25, n_iter=25, random_state=12)\n",
    "truncated_bag_of_words = svd.fit_transform(bag_of_words)"
   ]
  },
  {
   "cell_type": "code",
   "execution_count": 169,
   "metadata": {},
   "outputs": [
    {
     "name": "stderr",
     "output_type": "stream",
     "text": [
      "[Parallel(n_jobs=-1)]: Using backend LokyBackend with 4 concurrent workers.\n",
      "[Parallel(n_jobs=-1)]: Done   5 out of   5 | elapsed:    0.9s finished\n"
     ]
    },
    {
     "name": "stdout",
     "output_type": "stream",
     "text": [
      "Log loss: 1.577866634858056\n",
      "Accuracy: 0.4939759036144578\n"
     ]
    },
    {
     "data": {
      "image/png": "[encoded data removed]",
      "text/plain": [
       "<Figure size 432x288 with 2 Axes>"
      ]
     },
     "metadata": {
      "needs_background": "light"
     },
     "output_type": "display_data"
    }
   ],
   "source": [
    "evaluate_features(truncated_bag_of_words, df_train['Class'].values.ravel())"
   ]
  },
  {
   "cell_type": "code",
   "execution_count": 173,
   "metadata": {},
   "outputs": [
    {
     "name": "stderr",
     "output_type": "stream",
     "text": [
      "[Parallel(n_jobs=-1)]: Using backend LokyBackend with 4 concurrent workers.\n",
      "[Parallel(n_jobs=-1)]: Done   5 out of   5 | elapsed:    5.1s finished\n"
     ]
    },
    {
     "name": "stdout",
     "output_type": "stream",
     "text": [
      "Log loss: 1.4370296691612607\n",
      "Accuracy: 0.5030120481927711\n"
     ]
    },
    {
     "data": {
      "image/png": "[encoded data removed]",
      "text/plain": [
       "<Figure size 432x288 with 2 Axes>"
      ]
     },
     "metadata": {
      "needs_background": "light"
     },
     "output_type": "display_data"
    }
   ],
   "source": [
    "from sklearn.ensemble import RandomForestClassifier\n",
    "\n",
    "evaluate_features(truncated_bag_of_words, df_train['Class'].values.ravel(), \n",
    "                  RandomForestClassifier(n_estimators=1000, max_depth=5, verbose=1))"
   ]
  },
  {
   "cell_type": "code",
   "execution_count": 176,
   "metadata": {},
   "outputs": [
    {
     "data": {
      "text/plain": [
       "157726"
      ]
     },
     "execution_count": 176,
     "metadata": {},
     "output_type": "execute_result"
    }
   ],
   "source": [
    "count_vectorizer = TfidfVectorizer(\n",
    "    analyzer=\"word\", tokenizer=nltk.word_tokenize,\n",
    "    preprocessor=None, stop_words='english', max_features=None)    \n",
    "\n",
    "tfidf = count_vectorizer.fit_transform(df_train['Text'].values.astype('U'))\n",
    "\n",
    "len(count_vectorizer.get_feature_names())"
   ]
  },
  {
   "cell_type": "code",
   "execution_count": 177,
   "metadata": {},
   "outputs": [],
   "source": [
    "svd = TruncatedSVD(n_components=25, n_iter=25, random_state=12)\n",
    "truncated_tfidf = svd.fit_transform(tfidf)"
   ]
  },
  {
   "cell_type": "code",
   "execution_count": 178,
   "metadata": {},
   "outputs": [
    {
     "name": "stderr",
     "output_type": "stream",
     "text": [
      "[Parallel(n_jobs=-1)]: Using backend LokyBackend with 4 concurrent workers.\n",
      "[Parallel(n_jobs=-1)]: Done   5 out of   5 | elapsed:    1.0s finished\n"
     ]
    },
    {
     "name": "stdout",
     "output_type": "stream",
     "text": [
      "Log loss: 1.489007642949351\n",
      "Accuracy: 0.46987951807228917\n"
     ]
    },
    {
     "data": {
      "image/png": "[encoded data removed]",
      "text/plain": [
       "<Figure size 432x288 with 2 Axes>"
      ]
     },
     "metadata": {
      "needs_background": "light"
     },
     "output_type": "display_data"
    }
   ],
   "source": [
    "evaluate_features(truncated_tfidf, df_train['Class'].values.ravel())"
   ]
  },
  {
   "cell_type": "code",
   "execution_count": 179,
   "metadata": {},
   "outputs": [
    {
     "name": "stderr",
     "output_type": "stream",
     "text": [
      "[Parallel(n_jobs=-1)]: Using backend LokyBackend with 4 concurrent workers.\n",
      "[Parallel(n_jobs=-1)]: Done   5 out of   5 | elapsed:    4.5s finished\n"
     ]
    },
    {
     "name": "stdout",
     "output_type": "stream",
     "text": [
      "Log loss: 1.3563375019869963\n",
      "Accuracy: 0.5020080321285141\n"
     ]
    },
    {
     "data": {
      "image/png": "[encoded data removed]",
      "text/plain": [
       "<Figure size 432x288 with 2 Axes>"
      ]
     },
     "metadata": {
      "needs_background": "light"
     },
     "output_type": "display_data"
    }
   ],
   "source": [
    "evaluate_features(truncated_tfidf, df_train['Class'].values.ravel(), \n",
    "                  RandomForestClassifier(n_estimators=1000, max_depth=5, verbose=1))"
   ]
  },
  {
   "cell_type": "code",
   "execution_count": 181,
   "metadata": {},
   "outputs": [
    {
     "name": "stderr",
     "output_type": "stream",
     "text": [
      "[Parallel(n_jobs=-1)]: Using backend LokyBackend with 4 concurrent workers.\n",
      "[Parallel(n_jobs=-1)]: Done   5 out of   5 | elapsed:  3.0min finished\n"
     ]
    },
    {
     "name": "stdout",
     "output_type": "stream",
     "text": [
      "Log loss: 1.1888649423256261\n",
      "Accuracy: 0.5612449799196787\n"
     ]
    },
    {
     "data": {
      "image/png": "[encoded data removed]",
      "text/plain": [
       "<Figure size 432x288 with 2 Axes>"
      ]
     },
     "metadata": {
      "needs_background": "light"
     },
     "output_type": "display_data"
    }
   ],
   "source": [
    "from sklearn.svm import SVC\n",
    "evaluate_features(tfidf, df_train['Class'].values.ravel(), \n",
    "                  SVC(kernel='linear', probability=True))"
   ]
  },
  {
   "cell_type": "code",
   "execution_count": 183,
   "metadata": {},
   "outputs": [],
   "source": [
    "import gensim\n",
    "\n",
    "class MySentences(object):\n",
    "    \"\"\"MySentences is a generator to produce a list of tokenized sentences \n",
    "    \n",
    "    Takes a list of numpy arrays containing documents.\n",
    "    \n",
    "    Args:\n",
    "        arrays: List of arrays, where each element in the array contains a document.\n",
    "    \"\"\"\n",
    "    def __init__(self, *arrays):\n",
    "        self.arrays = arrays\n",
    " \n",
    "    def __iter__(self):\n",
    "        for array in self.arrays:\n",
    "            for document in array:\n",
    "                for sent in nltk.sent_tokenize(document):\n",
    "                    yield nltk.word_tokenize(sent)\n",
    "\n",
    "def get_word2vec(sentences, location):\n",
    "    \"\"\"Returns trained word2vec\n",
    "    \n",
    "    Args:\n",
    "        sentences: iterator for sentences\n",
    "        \n",
    "        location (str): Path to save/load word2vec\n",
    "    \"\"\"\n",
    "    if os.path.exists(location):\n",
    "        print('Found {}'.format(location))\n",
    "        model = gensim.models.Word2Vec.load(location)\n",
    "        return model\n",
    "    \n",
    "    print('{} not found. training model'.format(location))\n",
    "    model = gensim.models.Word2Vec(sentences, size=100, window=5, min_count=5, workers=4)\n",
    "    print('Model done training. Saving to disk')\n",
    "    model.save(location)\n",
    "    return model"
   ]
  },
  {
   "cell_type": "code",
   "execution_count": 184,
   "metadata": {},
   "outputs": [
    {
     "name": "stdout",
     "output_type": "stream",
     "text": [
      "w2vmodel not found. training model\n",
      "Model done training. Saving to disk\n"
     ]
    },
    {
     "name": "stderr",
     "output_type": "stream",
     "text": [
      "/home/crosas/local/anaconda3/lib/python3.7/site-packages/smart_open/smart_open_lib.py:398: UserWarning: This function is deprecated, use smart_open.open instead. See the migration notes for details: https://github.com/RaRe-Technologies/smart_open/blob/master/README.rst#migrating-to-the-new-open-function\n",
      "  'See the migration notes for details: %s' % _MIGRATION_NOTES_URL\n"
     ]
    }
   ],
   "source": [
    "w2vec = get_word2vec(\n",
    "    MySentences(\n",
    "        df_train['Text'].values, \n",
    "        #df_test['Text'].values  Commented for Kaggle limits\n",
    "    ),\n",
    "    'w2vmodel'\n",
    ")"
   ]
  },
  {
   "cell_type": "code",
   "execution_count": 185,
   "metadata": {},
   "outputs": [],
   "source": [
    "class MyTokenizer:\n",
    "    def __init__(self):\n",
    "        pass\n",
    "    \n",
    "    def fit(self, X, y=None):\n",
    "        return self\n",
    "    \n",
    "    def transform(self, X):\n",
    "        transformed_X = []\n",
    "        for document in X:\n",
    "            tokenized_doc = []\n",
    "            for sent in nltk.sent_tokenize(document):\n",
    "                tokenized_doc += nltk.word_tokenize(sent)\n",
    "            transformed_X.append(np.array(tokenized_doc))\n",
    "        return np.array(transformed_X)\n",
    "    \n",
    "    def fit_transform(self, X, y=None):\n",
    "        return self.transform(X)\n",
    "\n",
    "class MeanEmbeddingVectorizer(object):\n",
    "    def __init__(self, word2vec):\n",
    "        self.word2vec = word2vec\n",
    "        # if a text is empty we should return a vector of zeros\n",
    "        # with the same dimensionality as all the other vectors\n",
    "        self.dim = len(word2vec.wv.syn0[0])\n",
    "\n",
    "    def fit(self, X, y=None):\n",
    "        return self\n",
    "\n",
    "    def transform(self, X):\n",
    "        X = MyTokenizer().fit_transform(X)\n",
    "        \n",
    "        return np.array([\n",
    "            np.mean([self.word2vec.wv[w] for w in words if w in self.word2vec.wv]\n",
    "                    or [np.zeros(self.dim)], axis=0)\n",
    "            for words in X\n",
    "        ])\n",
    "    \n",
    "    def fit_transform(self, X, y=None):\n",
    "        return self.transform(X)"
   ]
  },
  {
   "cell_type": "code",
   "execution_count": 186,
   "metadata": {},
   "outputs": [
    {
     "name": "stderr",
     "output_type": "stream",
     "text": [
      "/home/crosas/local/anaconda3/lib/python3.7/site-packages/ipykernel_launcher.py:25: DeprecationWarning: Call to deprecated `syn0` (Attribute will be removed in 4.0.0, use self.vectors instead).\n"
     ]
    }
   ],
   "source": [
    "mean_embedding_vectorizer = MeanEmbeddingVectorizer(w2vec)\n",
    "mean_embedded = mean_embedding_vectorizer.fit_transform(df_train['Text'])"
   ]
  },
  {
   "cell_type": "code",
   "execution_count": 187,
   "metadata": {},
   "outputs": [
    {
     "name": "stderr",
     "output_type": "stream",
     "text": [
      "[Parallel(n_jobs=-1)]: Using backend LokyBackend with 4 concurrent workers.\n",
      "[Parallel(n_jobs=-1)]: Done   5 out of   5 | elapsed:    1.4s finished\n"
     ]
    },
    {
     "name": "stdout",
     "output_type": "stream",
     "text": [
      "Log loss: 1.3084490789016354\n",
      "Accuracy: 0.535140562248996\n"
     ]
    },
    {
     "data": {
      "image/png": "[encoded data removed]",
      "text/plain": [
       "<Figure size 432x288 with 2 Axes>"
      ]
     },
     "metadata": {
      "needs_background": "light"
     },
     "output_type": "display_data"
    }
   ],
   "source": [
    "evaluate_features(mean_embedded, df_train['Class'].values.ravel())"
   ]
  },
  {
   "cell_type": "code",
   "execution_count": 188,
   "metadata": {},
   "outputs": [
    {
     "name": "stderr",
     "output_type": "stream",
     "text": [
      "[Parallel(n_jobs=-1)]: Using backend LokyBackend with 4 concurrent workers.\n",
      "[Parallel(n_jobs=-1)]: Done   5 out of   5 | elapsed:   11.3s finished\n"
     ]
    },
    {
     "name": "stdout",
     "output_type": "stream",
     "text": [
      "Log loss: 1.188072035308464\n",
      "Accuracy: 0.5863453815261044\n"
     ]
    },
    {
     "data": {
      "image/png": "[encoded data removed]",
      "text/plain": [
       "<Figure size 432x288 with 2 Axes>"
      ]
     },
     "metadata": {
      "needs_background": "light"
     },
     "output_type": "display_data"
    }
   ],
   "source": [
    "evaluate_features(mean_embedded, df_train['Class'].values.ravel(),\n",
    "                  RandomForestClassifier(n_estimators=1000, max_depth=15, verbose=1))"
   ]
  },
  {
   "cell_type": "code",
   "execution_count": 190,
   "metadata": {},
   "outputs": [
    {
     "name": "stderr",
     "output_type": "stream",
     "text": [
      "[Parallel(n_jobs=-1)]: Using backend LokyBackend with 4 concurrent workers.\n",
      "[Parallel(n_jobs=-1)]: Done   5 out of   5 | elapsed:   12.5s finished\n"
     ]
    },
    {
     "name": "stdout",
     "output_type": "stream",
     "text": [
      "Log loss: 1.2496863773623743\n",
      "Accuracy: 0.5662650602409639\n"
     ]
    },
    {
     "data": {
      "image/png": "[encoded data removed]",
      "text/plain": [
       "<Figure size 432x288 with 2 Axes>"
      ]
     },
     "metadata": {
      "needs_background": "light"
     },
     "output_type": "display_data"
    }
   ],
   "source": [
    "from xgboost import XGBClassifier\n",
    "\n",
    "evaluate_features(mean_embedded, \n",
    "                  df_train['Class'].values.ravel(),\n",
    "                  XGBClassifier(max_depth=4,\n",
    "                                objective='multi:softprob',\n",
    "                                learning_rate=0.03333,\n",
    "                                )\n",
    "                 )"
   ]
  },
  {
   "cell_type": "markdown",
   "metadata": {},
   "source": [
    "***Sentence Tokenization***"
   ]
  },
  {
   "cell_type": "code",
   "execution_count": 2,
   "metadata": {},
   "outputs": [
    {
     "name": "stdout",
     "output_type": "stream",
     "text": [
      "[\"When learning data science, you shouldn't get discouraged!\", \"\\nChallenges and setbacks aren't failures, they're just part of the journey.\", \"You've got this!\"]\n"
     ]
    }
   ],
   "source": [
    "nlp = English()\n",
    "\n",
    "sbd = nlp.create_pipe('sentencizer')\n",
    "\n",
    "nlp.add_pipe(sbd)\n",
    "\n",
    "text = \"\"\"When learning data science, you shouldn't get discouraged!\n",
    "Challenges and setbacks aren't failures, they're just part of the journey. You've got this!\"\"\"\n",
    "\n",
    "doc = nlp(text)\n",
    "\n",
    "sents_list = []\n",
    "for sent in doc.sents:\n",
    "    sents_list.append(sent.text)\n",
    "print(sents_list)"
   ]
  },
  {
   "cell_type": "markdown",
   "metadata": {},
   "source": [
    "***Cleaning Text Data: Removing Stopwords***"
   ]
  },
  {
   "cell_type": "code",
   "execution_count": 3,
   "metadata": {},
   "outputs": [
    {
     "name": "stdout",
     "output_type": "stream",
     "text": [
      "Number of stop words: 326\n",
      "First ten stop words: ['call', 'that', 'himself', 'anywhere', 'eleven', 'own', 'among', 'about', 'other', 'somewhere', 'six', '’re', '’s', 'through', 'formerly', 'into', 'move', 'made', 'us', 'done']\n"
     ]
    }
   ],
   "source": [
    "import spacy\n",
    "spacy_stopwords = spacy.lang.en.stop_words.STOP_WORDS\n",
    "\n",
    "print('Number of stop words: %d' % len(spacy_stopwords))\n",
    "\n",
    "print('First ten stop words: %s' % list(spacy_stopwords)[:20])"
   ]
  },
  {
   "cell_type": "code",
   "execution_count": 4,
   "metadata": {},
   "outputs": [
    {
     "name": "stdout",
     "output_type": "stream",
     "text": [
      "Filtered Sentence:  [learning, data, science, ,, discouraged, !, \n",
      ", Challenges, setbacks, failures, ,, journey, ., got, !]\n"
     ]
    }
   ],
   "source": [
    "from spacy.lang.en.stop_words import STOP_WORDS\n",
    "\n",
    "filtered_sent = []\n",
    "\n",
    "doc = nlp(text)\n",
    "\n",
    "for word in doc:\n",
    "    if word.is_stop == False:\n",
    "        filtered_sent.append(word)\n",
    "print(\"Filtered Sentence: \", filtered_sent)"
   ]
  },
  {
   "cell_type": "markdown",
   "metadata": {},
   "source": [
    "***Lexicon Normalization***\n",
    "- Lemmatization (stemming): reduces words into its roots"
   ]
  },
  {
   "cell_type": "code",
   "execution_count": 5,
   "metadata": {},
   "outputs": [
    {
     "name": "stdout",
     "output_type": "stream",
     "text": [
      "run run\n",
      "runs run\n",
      "running run\n",
      "runner runner\n"
     ]
    }
   ],
   "source": [
    "lem = nlp(\"run runs running runner\")\n",
    "\n",
    "for word in lem:\n",
    "    print(word.text, word.lemma_)"
   ]
  },
  {
   "cell_type": "markdown",
   "metadata": {},
   "source": [
    "***Part of Speech (POS) Tagging***"
   ]
  },
  {
   "cell_type": "code",
   "execution_count": 6,
   "metadata": {},
   "outputs": [
    {
     "name": "stdout",
     "output_type": "stream",
     "text": [
      "All DET\n",
      "is VERB\n",
      "well ADV\n",
      "that DET\n",
      "ends VERB\n",
      "well ADV\n",
      ". PUNCT\n"
     ]
    }
   ],
   "source": [
    "# model: contains dictionary and grammatical information\n",
    "import en_core_web_sm \n",
    "# if it fails from anaconda, you can installed directly:\n",
    "# python -m spacy download en_core_web_sm\n",
    "\n",
    "nlp = en_core_web_sm.load()\n",
    "\n",
    "docs = nlp(u\"All is well that ends well.\")\n",
    "\n",
    "for word in docs:\n",
    "    print(word.text, word.pos_)"
   ]
  },
  {
   "cell_type": "markdown",
   "metadata": {},
   "source": [
    "**Entity Detection**\n",
    "A.K.A Entity recognition"
   ]
  },
  {
   "cell_type": "code",
   "execution_count": 7,
   "metadata": {},
   "outputs": [
    {
     "data": {
      "text/html": [
       "<div class=\"entities\" style=\"line-height: 2.5; direction: ltr\">\n",
       "<mark class=\"entity\" style=\"background: #feca74; padding: 0.45em 0.6em; margin: 0 0.25em; line-height: 1; border-radius: 0.35em; box-decoration-break: clone; -webkit-box-decoration-break: clone\">\n",
       "    New York City\n",
       "    <span style=\"font-size: 0.8em; font-weight: bold; line-height: 1; border-radius: 0.35em; text-transform: uppercase; vertical-align: middle; margin-left: 0.5rem\">GPE</span>\n",
       "</mark>\n",
       " on \n",
       "<mark class=\"entity\" style=\"background: #bfe1d9; padding: 0.45em 0.6em; margin: 0 0.25em; line-height: 1; border-radius: 0.35em; box-decoration-break: clone; -webkit-box-decoration-break: clone\">\n",
       "    Tuesday\n",
       "    <span style=\"font-size: 0.8em; font-weight: bold; line-height: 1; border-radius: 0.35em; text-transform: uppercase; vertical-align: middle; margin-left: 0.5rem\">DATE</span>\n",
       "</mark>\n",
       " declared a public health</br>emergency and ordered mandatory measles vaccinations amid an </br>outbreak, becoming the latest national flash point over refusals to</br>inoculate against dangerous diseases.</br></br>\n",
       "<mark class=\"entity\" style=\"background: #e4e7d2; padding: 0.45em 0.6em; margin: 0 0.25em; line-height: 1; border-radius: 0.35em; box-decoration-break: clone; -webkit-box-decoration-break: clone\">\n",
       "    At least 285\n",
       "    <span style=\"font-size: 0.8em; font-weight: bold; line-height: 1; border-radius: 0.35em; text-transform: uppercase; vertical-align: middle; margin-left: 0.5rem\">CARDINAL</span>\n",
       "</mark>\n",
       " people have contracted measles in the city since </br>September, mostly in \n",
       "<mark class=\"entity\" style=\"background: #feca74; padding: 0.45em 0.6em; margin: 0 0.25em; line-height: 1; border-radius: 0.35em; box-decoration-break: clone; -webkit-box-decoration-break: clone\">\n",
       "    Brooklyn\n",
       "    <span style=\"font-size: 0.8em; font-weight: bold; line-height: 1; border-radius: 0.35em; text-transform: uppercase; vertical-align: middle; margin-left: 0.5rem\">GPE</span>\n",
       "</mark>\n",
       "’s \n",
       "<mark class=\"entity\" style=\"background: #feca74; padding: 0.45em 0.6em; margin: 0 0.25em; line-height: 1; border-radius: 0.35em; box-decoration-break: clone; -webkit-box-decoration-break: clone\">\n",
       "    Williamsburg\n",
       "    <span style=\"font-size: 0.8em; font-weight: bold; line-height: 1; border-radius: 0.35em; text-transform: uppercase; vertical-align: middle; margin-left: 0.5rem\">GPE</span>\n",
       "</mark>\n",
       " neighborhood. The</br>order covers \n",
       "<mark class=\"entity\" style=\"background: #e4e7d2; padding: 0.45em 0.6em; margin: 0 0.25em; line-height: 1; border-radius: 0.35em; box-decoration-break: clone; -webkit-box-decoration-break: clone\">\n",
       "    four\n",
       "    <span style=\"font-size: 0.8em; font-weight: bold; line-height: 1; border-radius: 0.35em; text-transform: uppercase; vertical-align: middle; margin-left: 0.5rem\">CARDINAL</span>\n",
       "</mark>\n",
       " Zip codes there, Mayor \n",
       "<mark class=\"entity\" style=\"background: #aa9cfc; padding: 0.45em 0.6em; margin: 0 0.25em; line-height: 1; border-radius: 0.35em; box-decoration-break: clone; -webkit-box-decoration-break: clone\">\n",
       "    Bill de Blasio\n",
       "    <span style=\"font-size: 0.8em; font-weight: bold; line-height: 1; border-radius: 0.35em; text-transform: uppercase; vertical-align: middle; margin-left: 0.5rem\">PERSON</span>\n",
       "</mark>\n",
       " (D) said</br>\n",
       "<mark class=\"entity\" style=\"background: #bfe1d9; padding: 0.45em 0.6em; margin: 0 0.25em; line-height: 1; border-radius: 0.35em; box-decoration-break: clone; -webkit-box-decoration-break: clone\">\n",
       "    Tuesday\n",
       "    <span style=\"font-size: 0.8em; font-weight: bold; line-height: 1; border-radius: 0.35em; text-transform: uppercase; vertical-align: middle; margin-left: 0.5rem\">DATE</span>\n",
       "</mark>\n",
       ".</br></br>The mandate orders all unvaccinated people in the area, including a</br>concentration of \n",
       "<mark class=\"entity\" style=\"background: #c887fb; padding: 0.45em 0.6em; margin: 0 0.25em; line-height: 1; border-radius: 0.35em; box-decoration-break: clone; -webkit-box-decoration-break: clone\">\n",
       "    Orthodox Jews\n",
       "    <span style=\"font-size: 0.8em; font-weight: bold; line-height: 1; border-radius: 0.35em; text-transform: uppercase; vertical-align: middle; margin-left: 0.5rem\">NORP</span>\n",
       "</mark>\n",
       ", to receive inoculations, including</br>for children as young as \n",
       "<mark class=\"entity\" style=\"background: #bfe1d9; padding: 0.45em 0.6em; margin: 0 0.25em; line-height: 1; border-radius: 0.35em; box-decoration-break: clone; -webkit-box-decoration-break: clone\">\n",
       "    6 months old\n",
       "    <span style=\"font-size: 0.8em; font-weight: bold; line-height: 1; border-radius: 0.35em; text-transform: uppercase; vertical-align: middle; margin-left: 0.5rem\">DATE</span>\n",
       "</mark>\n",
       ". Anyone who resists could be </br>fined \n",
       "<mark class=\"entity\" style=\"background: #e4e7d2; padding: 0.45em 0.6em; margin: 0 0.25em; line-height: 1; border-radius: 0.35em; box-decoration-break: clone; -webkit-box-decoration-break: clone\">\n",
       "    up to $1,000\n",
       "    <span style=\"font-size: 0.8em; font-weight: bold; line-height: 1; border-radius: 0.35em; text-transform: uppercase; vertical-align: middle; margin-left: 0.5rem\">MONEY</span>\n",
       "</mark>\n",
       ".</div>"
      ],
      "text/plain": [
       "<IPython.core.display.HTML object>"
      ]
     },
     "metadata": {},
     "output_type": "display_data"
    }
   ],
   "source": [
    "from spacy import displacy\n",
    "\n",
    "nytimes = nlp(u\"\"\"New York City on Tuesday declared a public health\n",
    "emergency and ordered mandatory measles vaccinations amid an \n",
    "outbreak, becoming the latest national flash point over refusals to\n",
    "inoculate against dangerous diseases.\n",
    "\n",
    "At least 285 people have contracted measles in the city since \n",
    "September, mostly in Brooklyn’s Williamsburg neighborhood. The\n",
    "order covers four Zip codes there, Mayor Bill de Blasio (D) said\n",
    "Tuesday.\n",
    "\n",
    "The mandate orders all unvaccinated people in the area, including a\n",
    "concentration of Orthodox Jews, to receive inoculations, including\n",
    "for children as young as 6 months old. Anyone who resists could be \n",
    "fined up to $1,000.\"\"\")\n",
    "\n",
    "entities = [(i, i.label_, i.label) for i in nytimes.ents]\n",
    "entities\n",
    "\n",
    "displacy.render(nytimes, style = \"ent\", jupyter = True)"
   ]
  },
  {
   "cell_type": "markdown",
   "metadata": {},
   "source": [
    "***Dependency Parsing***\n",
    "Meaning of a sentence by analyzing how is constructed"
   ]
  },
  {
   "cell_type": "code",
   "execution_count": 8,
   "metadata": {},
   "outputs": [
    {
     "name": "stdout",
     "output_type": "stream",
     "text": [
      "pursuit pursuit pobj In\n",
      "a wall wall pobj of\n",
      "President Trum Trum nsubj ran\n"
     ]
    },
    {
     "data": {
      "text/html": [
       "<svg xmlns=\"http://www.w3.org/2000/svg\" xmlns:xlink=\"http://www.w3.org/1999/xlink\" xml:lang=\"en\" id=\"031ad61943b34eb4b36055270c4ec219-0\" class=\"displacy\" width=\"1800\" height=\"399.5\" direction=\"ltr\" style=\"max-width: none; height: 399.5px; color: #000000; background: #ffffff; font-family: Arial; direction: ltr\">\n",
       "<text class=\"displacy-token\" fill=\"currentColor\" text-anchor=\"middle\" y=\"309.5\">\n",
       "    <tspan class=\"displacy-word\" fill=\"currentColor\" x=\"50\">In</tspan>\n",
       "    <tspan class=\"displacy-tag\" dy=\"2em\" fill=\"currentColor\" x=\"50\">ADP</tspan>\n",
       "</text>\n",
       "\n",
       "<text class=\"displacy-token\" fill=\"currentColor\" text-anchor=\"middle\" y=\"309.5\">\n",
       "    <tspan class=\"displacy-word\" fill=\"currentColor\" x=\"225\">pursuit</tspan>\n",
       "    <tspan class=\"displacy-tag\" dy=\"2em\" fill=\"currentColor\" x=\"225\">NOUN</tspan>\n",
       "</text>\n",
       "\n",
       "<text class=\"displacy-token\" fill=\"currentColor\" text-anchor=\"middle\" y=\"309.5\">\n",
       "    <tspan class=\"displacy-word\" fill=\"currentColor\" x=\"400\">of</tspan>\n",
       "    <tspan class=\"displacy-tag\" dy=\"2em\" fill=\"currentColor\" x=\"400\">ADP</tspan>\n",
       "</text>\n",
       "\n",
       "<text class=\"displacy-token\" fill=\"currentColor\" text-anchor=\"middle\" y=\"309.5\">\n",
       "    <tspan class=\"displacy-word\" fill=\"currentColor\" x=\"575\">a</tspan>\n",
       "    <tspan class=\"displacy-tag\" dy=\"2em\" fill=\"currentColor\" x=\"575\">DET</tspan>\n",
       "</text>\n",
       "\n",
       "<text class=\"displacy-token\" fill=\"currentColor\" text-anchor=\"middle\" y=\"309.5\">\n",
       "    <tspan class=\"displacy-word\" fill=\"currentColor\" x=\"750\">wall,</tspan>\n",
       "    <tspan class=\"displacy-tag\" dy=\"2em\" fill=\"currentColor\" x=\"750\">NOUN</tspan>\n",
       "</text>\n",
       "\n",
       "<text class=\"displacy-token\" fill=\"currentColor\" text-anchor=\"middle\" y=\"309.5\">\n",
       "    <tspan class=\"displacy-word\" fill=\"currentColor\" x=\"925\">President</tspan>\n",
       "    <tspan class=\"displacy-tag\" dy=\"2em\" fill=\"currentColor\" x=\"925\">PROPN</tspan>\n",
       "</text>\n",
       "\n",
       "<text class=\"displacy-token\" fill=\"currentColor\" text-anchor=\"middle\" y=\"309.5\">\n",
       "    <tspan class=\"displacy-word\" fill=\"currentColor\" x=\"1100\">Trum</tspan>\n",
       "    <tspan class=\"displacy-tag\" dy=\"2em\" fill=\"currentColor\" x=\"1100\">PROPN</tspan>\n",
       "</text>\n",
       "\n",
       "<text class=\"displacy-token\" fill=\"currentColor\" text-anchor=\"middle\" y=\"309.5\">\n",
       "    <tspan class=\"displacy-word\" fill=\"currentColor\" x=\"1275\">ran</tspan>\n",
       "    <tspan class=\"displacy-tag\" dy=\"2em\" fill=\"currentColor\" x=\"1275\">VERB</tspan>\n",
       "</text>\n",
       "\n",
       "<text class=\"displacy-token\" fill=\"currentColor\" text-anchor=\"middle\" y=\"309.5\">\n",
       "    <tspan class=\"displacy-word\" fill=\"currentColor\" x=\"1450\">into</tspan>\n",
       "    <tspan class=\"displacy-tag\" dy=\"2em\" fill=\"currentColor\" x=\"1450\">ADP</tspan>\n",
       "</text>\n",
       "\n",
       "<text class=\"displacy-token\" fill=\"currentColor\" text-anchor=\"middle\" y=\"309.5\">\n",
       "    <tspan class=\"displacy-word\" fill=\"currentColor\" x=\"1625\">one.</tspan>\n",
       "    <tspan class=\"displacy-tag\" dy=\"2em\" fill=\"currentColor\" x=\"1625\">NUM</tspan>\n",
       "</text>\n",
       "\n",
       "<g class=\"displacy-arrow\">\n",
       "    <path class=\"displacy-arc\" id=\"arrow-031ad61943b34eb4b36055270c4ec219-0-0\" stroke-width=\"2px\" d=\"M70,264.5 C70,2.0 1275.0,2.0 1275.0,264.5\" fill=\"none\" stroke=\"currentColor\"/>\n",
       "    <text dy=\"1.25em\" style=\"font-size: 0.8em; letter-spacing: 1px\">\n",
       "        <textPath xlink:href=\"#arrow-031ad61943b34eb4b36055270c4ec219-0-0\" class=\"displacy-label\" startOffset=\"50%\" side=\"left\" fill=\"currentColor\" text-anchor=\"middle\">prep</textPath>\n",
       "    </text>\n",
       "    <path class=\"displacy-arrowhead\" d=\"M70,266.5 L62,254.5 78,254.5\" fill=\"currentColor\"/>\n",
       "</g>\n",
       "\n",
       "<g class=\"displacy-arrow\">\n",
       "    <path class=\"displacy-arc\" id=\"arrow-031ad61943b34eb4b36055270c4ec219-0-1\" stroke-width=\"2px\" d=\"M70,264.5 C70,177.0 215.0,177.0 215.0,264.5\" fill=\"none\" stroke=\"currentColor\"/>\n",
       "    <text dy=\"1.25em\" style=\"font-size: 0.8em; letter-spacing: 1px\">\n",
       "        <textPath xlink:href=\"#arrow-031ad61943b34eb4b36055270c4ec219-0-1\" class=\"displacy-label\" startOffset=\"50%\" side=\"left\" fill=\"currentColor\" text-anchor=\"middle\">pobj</textPath>\n",
       "    </text>\n",
       "    <path class=\"displacy-arrowhead\" d=\"M215.0,266.5 L223.0,254.5 207.0,254.5\" fill=\"currentColor\"/>\n",
       "</g>\n",
       "\n",
       "<g class=\"displacy-arrow\">\n",
       "    <path class=\"displacy-arc\" id=\"arrow-031ad61943b34eb4b36055270c4ec219-0-2\" stroke-width=\"2px\" d=\"M245,264.5 C245,177.0 390.0,177.0 390.0,264.5\" fill=\"none\" stroke=\"currentColor\"/>\n",
       "    <text dy=\"1.25em\" style=\"font-size: 0.8em; letter-spacing: 1px\">\n",
       "        <textPath xlink:href=\"#arrow-031ad61943b34eb4b36055270c4ec219-0-2\" class=\"displacy-label\" startOffset=\"50%\" side=\"left\" fill=\"currentColor\" text-anchor=\"middle\">prep</textPath>\n",
       "    </text>\n",
       "    <path class=\"displacy-arrowhead\" d=\"M390.0,266.5 L398.0,254.5 382.0,254.5\" fill=\"currentColor\"/>\n",
       "</g>\n",
       "\n",
       "<g class=\"displacy-arrow\">\n",
       "    <path class=\"displacy-arc\" id=\"arrow-031ad61943b34eb4b36055270c4ec219-0-3\" stroke-width=\"2px\" d=\"M595,264.5 C595,177.0 740.0,177.0 740.0,264.5\" fill=\"none\" stroke=\"currentColor\"/>\n",
       "    <text dy=\"1.25em\" style=\"font-size: 0.8em; letter-spacing: 1px\">\n",
       "        <textPath xlink:href=\"#arrow-031ad61943b34eb4b36055270c4ec219-0-3\" class=\"displacy-label\" startOffset=\"50%\" side=\"left\" fill=\"currentColor\" text-anchor=\"middle\">det</textPath>\n",
       "    </text>\n",
       "    <path class=\"displacy-arrowhead\" d=\"M595,266.5 L587,254.5 603,254.5\" fill=\"currentColor\"/>\n",
       "</g>\n",
       "\n",
       "<g class=\"displacy-arrow\">\n",
       "    <path class=\"displacy-arc\" id=\"arrow-031ad61943b34eb4b36055270c4ec219-0-4\" stroke-width=\"2px\" d=\"M420,264.5 C420,89.5 745.0,89.5 745.0,264.5\" fill=\"none\" stroke=\"currentColor\"/>\n",
       "    <text dy=\"1.25em\" style=\"font-size: 0.8em; letter-spacing: 1px\">\n",
       "        <textPath xlink:href=\"#arrow-031ad61943b34eb4b36055270c4ec219-0-4\" class=\"displacy-label\" startOffset=\"50%\" side=\"left\" fill=\"currentColor\" text-anchor=\"middle\">pobj</textPath>\n",
       "    </text>\n",
       "    <path class=\"displacy-arrowhead\" d=\"M745.0,266.5 L753.0,254.5 737.0,254.5\" fill=\"currentColor\"/>\n",
       "</g>\n",
       "\n",
       "<g class=\"displacy-arrow\">\n",
       "    <path class=\"displacy-arc\" id=\"arrow-031ad61943b34eb4b36055270c4ec219-0-5\" stroke-width=\"2px\" d=\"M945,264.5 C945,177.0 1090.0,177.0 1090.0,264.5\" fill=\"none\" stroke=\"currentColor\"/>\n",
       "    <text dy=\"1.25em\" style=\"font-size: 0.8em; letter-spacing: 1px\">\n",
       "        <textPath xlink:href=\"#arrow-031ad61943b34eb4b36055270c4ec219-0-5\" class=\"displacy-label\" startOffset=\"50%\" side=\"left\" fill=\"currentColor\" text-anchor=\"middle\">compound</textPath>\n",
       "    </text>\n",
       "    <path class=\"displacy-arrowhead\" d=\"M945,266.5 L937,254.5 953,254.5\" fill=\"currentColor\"/>\n",
       "</g>\n",
       "\n",
       "<g class=\"displacy-arrow\">\n",
       "    <path class=\"displacy-arc\" id=\"arrow-031ad61943b34eb4b36055270c4ec219-0-6\" stroke-width=\"2px\" d=\"M1120,264.5 C1120,177.0 1265.0,177.0 1265.0,264.5\" fill=\"none\" stroke=\"currentColor\"/>\n",
       "    <text dy=\"1.25em\" style=\"font-size: 0.8em; letter-spacing: 1px\">\n",
       "        <textPath xlink:href=\"#arrow-031ad61943b34eb4b36055270c4ec219-0-6\" class=\"displacy-label\" startOffset=\"50%\" side=\"left\" fill=\"currentColor\" text-anchor=\"middle\">nsubj</textPath>\n",
       "    </text>\n",
       "    <path class=\"displacy-arrowhead\" d=\"M1120,266.5 L1112,254.5 1128,254.5\" fill=\"currentColor\"/>\n",
       "</g>\n",
       "\n",
       "<g class=\"displacy-arrow\">\n",
       "    <path class=\"displacy-arc\" id=\"arrow-031ad61943b34eb4b36055270c4ec219-0-7\" stroke-width=\"2px\" d=\"M1295,264.5 C1295,177.0 1440.0,177.0 1440.0,264.5\" fill=\"none\" stroke=\"currentColor\"/>\n",
       "    <text dy=\"1.25em\" style=\"font-size: 0.8em; letter-spacing: 1px\">\n",
       "        <textPath xlink:href=\"#arrow-031ad61943b34eb4b36055270c4ec219-0-7\" class=\"displacy-label\" startOffset=\"50%\" side=\"left\" fill=\"currentColor\" text-anchor=\"middle\">prep</textPath>\n",
       "    </text>\n",
       "    <path class=\"displacy-arrowhead\" d=\"M1440.0,266.5 L1448.0,254.5 1432.0,254.5\" fill=\"currentColor\"/>\n",
       "</g>\n",
       "\n",
       "<g class=\"displacy-arrow\">\n",
       "    <path class=\"displacy-arc\" id=\"arrow-031ad61943b34eb4b36055270c4ec219-0-8\" stroke-width=\"2px\" d=\"M1470,264.5 C1470,177.0 1615.0,177.0 1615.0,264.5\" fill=\"none\" stroke=\"currentColor\"/>\n",
       "    <text dy=\"1.25em\" style=\"font-size: 0.8em; letter-spacing: 1px\">\n",
       "        <textPath xlink:href=\"#arrow-031ad61943b34eb4b36055270c4ec219-0-8\" class=\"displacy-label\" startOffset=\"50%\" side=\"left\" fill=\"currentColor\" text-anchor=\"middle\">pobj</textPath>\n",
       "    </text>\n",
       "    <path class=\"displacy-arrowhead\" d=\"M1615.0,266.5 L1623.0,254.5 1607.0,254.5\" fill=\"currentColor\"/>\n",
       "</g>\n",
       "</svg>"
      ],
      "text/plain": [
       "<IPython.core.display.HTML object>"
      ]
     },
     "metadata": {},
     "output_type": "display_data"
    }
   ],
   "source": [
    "docp = nlp (\"In pursuit of a wall, President Trum ran into one.\")\n",
    "\n",
    "for chunk in docp.noun_chunks:\n",
    "    print(chunk.text, chunk.root.text, chunk.root.dep_, chunk.root.head.text)\n",
    "    \n",
    "displacy.render(docp, style=\"dep\", jupyter=True)"
   ]
  },
  {
   "cell_type": "markdown",
   "metadata": {},
   "source": [
    "***Word Vector Representation*** Represent words to capture intrinsic connections"
   ]
  },
  {
   "cell_type": "code",
   "execution_count": 9,
   "metadata": {},
   "outputs": [
    {
     "name": "stdout",
     "output_type": "stream",
     "text": [
      "(96,)\n",
      "[ 1.0466383  -1.5323697  -0.72177905 -2.4700649  -0.2715162   1.1589639\n",
      "  1.7113379  -0.31615403 -2.0978343   1.837553    1.4681302   2.728043\n",
      " -2.3457408  -5.17184    -4.6110015  -0.21236466 -0.3029521   4.220028\n",
      " -0.6813917   2.4016762  -1.9546705  -0.85086954  1.2456163   1.5107994\n",
      "  0.4684736   3.1612053   0.15542296  2.0598564   3.780035    4.6110964\n",
      "  0.6375268  -1.078107   -0.96647096 -1.3939928  -0.56914186  0.51434743\n",
      "  2.3150034  -0.93199825 -2.7970662  -0.8540115  -3.4250052   4.2857723\n",
      "  2.5058174  -2.2150877   0.7860181   3.496335   -0.62606215 -2.0213525\n",
      " -4.47421     1.6821622  -6.0789204   0.22800982 -0.36950028 -4.5340714\n",
      " -1.7978683  -2.080299    4.125556    3.1852438  -3.286446    1.0892276\n",
      "  1.017115    1.2736416  -0.10613725  3.5102775   1.1902348   0.05483437\n",
      " -0.06298041  0.8280688   0.05514218  0.94817173 -0.49377063  1.1512338\n",
      " -0.81374085 -1.6104267   1.8233354  -2.278403   -2.1321895   0.3029334\n",
      " -1.4510616  -1.0584296  -3.5698352  -0.13046083 -0.2668339   1.7826645\n",
      "  0.4639858  -0.8389523  -0.02689964  2.316218    5.8155413  -0.45935947\n",
      "  4.368636    1.6603007  -3.1823301  -1.4959551  -0.5229269   1.3637555 ]\n"
     ]
    }
   ],
   "source": [
    "import en_core_web_sm\n",
    "nlp = en_core_web_sm.load()\n",
    "mango = nlp(u'mango')\n",
    "print(mango.vector.shape)\n",
    "print(mango.vector)"
   ]
  },
  {
   "cell_type": "markdown",
   "metadata": {},
   "source": [
    "**Text Classification**\n",
    "\n",
    "1. Importing Libraries"
   ]
  },
  {
   "cell_type": "code",
   "execution_count": 10,
   "metadata": {},
   "outputs": [],
   "source": [
    "import pandas as pd\n",
    "from sklearn.feature_extraction.text import CountVectorizer, TfidfVectorizer\n",
    "from sklearn.base import TransformerMixin\n",
    "from sklearn.pipeline import Pipeline"
   ]
  },
  {
   "cell_type": "markdown",
   "metadata": {},
   "source": [
    "2. Loading Data (Amazon Alexa product reviews)"
   ]
  },
  {
   "cell_type": "code",
   "execution_count": 11,
   "metadata": {},
   "outputs": [],
   "source": [
    "df_amazon = pd.read_csv (\"datasets/amazon_alexa.tsv\", sep=\"\\t\")"
   ]
  },
  {
   "cell_type": "code",
   "execution_count": 12,
   "metadata": {},
   "outputs": [
    {
     "data": {
      "text/html": [
       "<div>\n",
       "<style scoped>\n",
       "    .dataframe tbody tr th:only-of-type {\n",
       "        vertical-align: middle;\n",
       "    }\n",
       "\n",
       "    .dataframe tbody tr th {\n",
       "        vertical-align: top;\n",
       "    }\n",
       "\n",
       "    .dataframe thead th {\n",
       "        text-align: right;\n",
       "    }\n",
       "</style>\n",
       "<table border=\"1\" class=\"dataframe\">\n",
       "  <thead>\n",
       "    <tr style=\"text-align: right;\">\n",
       "      <th></th>\n",
       "      <th>rating</th>\n",
       "      <th>date</th>\n",
       "      <th>variation</th>\n",
       "      <th>verified_reviews</th>\n",
       "      <th>feedback</th>\n",
       "    </tr>\n",
       "  </thead>\n",
       "  <tbody>\n",
       "    <tr>\n",
       "      <th>0</th>\n",
       "      <td>5</td>\n",
       "      <td>31-Jul-18</td>\n",
       "      <td>Charcoal Fabric</td>\n",
       "      <td>Love my Echo!</td>\n",
       "      <td>1</td>\n",
       "    </tr>\n",
       "    <tr>\n",
       "      <th>1</th>\n",
       "      <td>5</td>\n",
       "      <td>31-Jul-18</td>\n",
       "      <td>Charcoal Fabric</td>\n",
       "      <td>Loved it!</td>\n",
       "      <td>1</td>\n",
       "    </tr>\n",
       "    <tr>\n",
       "      <th>2</th>\n",
       "      <td>4</td>\n",
       "      <td>31-Jul-18</td>\n",
       "      <td>Walnut Finish</td>\n",
       "      <td>Sometimes while playing a game, you can answer...</td>\n",
       "      <td>1</td>\n",
       "    </tr>\n",
       "    <tr>\n",
       "      <th>3</th>\n",
       "      <td>5</td>\n",
       "      <td>31-Jul-18</td>\n",
       "      <td>Charcoal Fabric</td>\n",
       "      <td>I have had a lot of fun with this thing. My 4 ...</td>\n",
       "      <td>1</td>\n",
       "    </tr>\n",
       "    <tr>\n",
       "      <th>4</th>\n",
       "      <td>5</td>\n",
       "      <td>31-Jul-18</td>\n",
       "      <td>Charcoal Fabric</td>\n",
       "      <td>Music</td>\n",
       "      <td>1</td>\n",
       "    </tr>\n",
       "  </tbody>\n",
       "</table>\n",
       "</div>"
      ],
      "text/plain": [
       "   rating       date         variation  \\\n",
       "0       5  31-Jul-18  Charcoal Fabric    \n",
       "1       5  31-Jul-18  Charcoal Fabric    \n",
       "2       4  31-Jul-18    Walnut Finish    \n",
       "3       5  31-Jul-18  Charcoal Fabric    \n",
       "4       5  31-Jul-18  Charcoal Fabric    \n",
       "\n",
       "                                    verified_reviews  feedback  \n",
       "0                                      Love my Echo!         1  \n",
       "1                                          Loved it!         1  \n",
       "2  Sometimes while playing a game, you can answer...         1  \n",
       "3  I have had a lot of fun with this thing. My 4 ...         1  \n",
       "4                                              Music         1  "
      ]
     },
     "execution_count": 12,
     "metadata": {},
     "output_type": "execute_result"
    }
   ],
   "source": [
    "df_amazon.head()"
   ]
  },
  {
   "cell_type": "code",
   "execution_count": 13,
   "metadata": {},
   "outputs": [
    {
     "data": {
      "text/plain": [
       "(3150, 5)"
      ]
     },
     "execution_count": 13,
     "metadata": {},
     "output_type": "execute_result"
    }
   ],
   "source": [
    "df_amazon.shape"
   ]
  },
  {
   "cell_type": "code",
   "execution_count": 14,
   "metadata": {},
   "outputs": [
    {
     "name": "stdout",
     "output_type": "stream",
     "text": [
      "<class 'pandas.core.frame.DataFrame'>\n",
      "RangeIndex: 3150 entries, 0 to 3149\n",
      "Data columns (total 5 columns):\n",
      "rating              3150 non-null int64\n",
      "date                3150 non-null object\n",
      "variation           3150 non-null object\n",
      "verified_reviews    3150 non-null object\n",
      "feedback            3150 non-null int64\n",
      "dtypes: int64(2), object(3)\n",
      "memory usage: 123.1+ KB\n"
     ]
    }
   ],
   "source": [
    "df_amazon.info()"
   ]
  },
  {
   "cell_type": "code",
   "execution_count": 15,
   "metadata": {},
   "outputs": [
    {
     "data": {
      "text/plain": [
       "1    2893\n",
       "0     257\n",
       "Name: feedback, dtype: int64"
      ]
     },
     "execution_count": 15,
     "metadata": {},
     "output_type": "execute_result"
    }
   ],
   "source": [
    "df_amazon.feedback.value_counts()"
   ]
  },
  {
   "cell_type": "markdown",
   "metadata": {},
   "source": [
    "***Tokening the Data with spaCy***"
   ]
  },
  {
   "cell_type": "code",
   "execution_count": 16,
   "metadata": {},
   "outputs": [],
   "source": [
    "import string\n",
    "from spacy.lang.en.stop_words import STOP_WORDS\n",
    "from spacy.lang.en import English\n",
    "\n",
    "punctuations = string.punctuation\n",
    "\n",
    "nlp = spacy.load('en')\n",
    "stop_words = spacy.lang.en.stop_words.STOP_WORDS\n",
    "\n",
    "parser = English()\n",
    "\n",
    "def spacy_tokenizer(sentence):\n",
    "    mytokens = parser(sentence)\n",
    "    \n",
    "    mytokens = [ word.lemma_.lower().strip() if word.lemma_ != \"-PRON-\" else word.lower_ for word in mytokens ]\n",
    "    \n",
    "    mytokens = [ word for word in mytokens if word not in stop_words and word not in punctuations ]\n",
    "    \n",
    "    return mytokens\n"
   ]
  },
  {
   "cell_type": "markdown",
   "metadata": {},
   "source": [
    "***Defining a Custom Transformer***"
   ]
  },
  {
   "cell_type": "code",
   "execution_count": 17,
   "metadata": {},
   "outputs": [],
   "source": [
    "class predictors(TransformerMixin):\n",
    "    def transform(self, X, **transform_params):\n",
    "        return [clean_text(text) for text in X]\n",
    "    \n",
    "    def fit(self, X, y=None, **fit_params):\n",
    "        return self\n",
    "    \n",
    "    def get_params(self, deep=True):\n",
    "        return {}\n",
    "    \n",
    "def clean_text(text):\n",
    "    return text.strip().lower()"
   ]
  },
  {
   "cell_type": "markdown",
   "metadata": {},
   "source": [
    "***Vectorization Feature Engineering (TF-IDF)***\n",
    "\n",
    "scikit-learn CountVectorizer is useful for Bag of Words (BoW)\n",
    "\n",
    "Term Frequency - Inverse Document Frequency --- way of normalizing our BoW.\n",
    "How important is a particular term in the context of a given document, based on how many times the term appears and how many other documents that same term appears in. The higher the TF-IDF, the more important that term is to that document.\n",
    "\n",
    "Its mathematical equation is:\n",
    "idf(W) = log(#(documents)/#(documents containing word W))"
   ]
  },
  {
   "cell_type": "code",
   "execution_count": 18,
   "metadata": {},
   "outputs": [],
   "source": [
    "tfidf_vector = TfidfVectorizer(tokenizer = spacy_tokenizer)"
   ]
  },
  {
   "cell_type": "markdown",
   "metadata": {},
   "source": [
    "***Spliting data into Training and Test Sets***"
   ]
  },
  {
   "cell_type": "code",
   "execution_count": 19,
   "metadata": {},
   "outputs": [],
   "source": [
    "from sklearn.model_selection import train_test_split\n",
    "\n",
    "X = df_amazon['verified_reviews'] \n",
    "ylabels = df_amazon['feedback'] \n",
    "\n",
    "X_train, X_test, y_train, y_test = train_test_split(X, ylabels, test_size=0.3)"
   ]
  },
  {
   "cell_type": "markdown",
   "metadata": {},
   "source": [
    "***Creating a Pipeline and Generating the Model***\n",
    "\n",
    "- Cleaner: uses our predictors\n",
    "- Vectorizer: counvector object to create a TfIdf vector\n",
    "- Classifier: Logistic regression for sentiment analysis"
   ]
  },
  {
   "cell_type": "code",
   "execution_count": 20,
   "metadata": {},
   "outputs": [
    {
     "name": "stderr",
     "output_type": "stream",
     "text": [
      "/home/crosas/local/anaconda3/lib/python3.7/site-packages/sklearn/linear_model/logistic.py:433: FutureWarning: Default solver will be changed to 'lbfgs' in 0.22. Specify a solver to silence this warning.\n",
      "  FutureWarning)\n"
     ]
    },
    {
     "data": {
      "text/plain": [
       "Pipeline(memory=None,\n",
       "     steps=[('cleaner', <__main__.predictors object at 0x7f812c48c940>), ('vectorizer', TfidfVectorizer(analyzer='word', binary=False, decode_error='strict',\n",
       "        dtype=<class 'numpy.float64'>, encoding='utf-8', input='content',\n",
       "        lowercase=True, max_df=1.0, max_features=None, min_df=1,\n",
       "        ...penalty='l2', random_state=None, solver='warn',\n",
       "          tol=0.0001, verbose=0, warm_start=False))])"
      ]
     },
     "execution_count": 20,
     "metadata": {},
     "output_type": "execute_result"
    }
   ],
   "source": [
    "from sklearn.linear_model import LogisticRegression\n",
    "classifier = LogisticRegression()\n",
    "\n",
    "pipe = Pipeline([(\"cleaner\", predictors()),\n",
    "                ('vectorizer', tfidf_vector),\n",
    "                ('classifier', classifier)])\n",
    "\n",
    "pipe.fit(X_train, y_train)"
   ]
  },
  {
   "cell_type": "markdown",
   "metadata": {},
   "source": [
    "***Evaluating the Model***\n",
    "\n",
    "We'll put our test data through the pipeline to come up with predictions.\n",
    "Functions of the metrics of the sklearn:\n",
    "- Accuracy: refers to the percentage of the total predictions our model makes that are completely correct.\n",
    "- Precision: describes the ratio of true positives to true positives plus false positivies in our predictions.\n",
    "- Recall: describes the ratio of true positives to true postives plus false negatives in our predictions."
   ]
  },
  {
   "cell_type": "code",
   "execution_count": 21,
   "metadata": {},
   "outputs": [
    {
     "name": "stdout",
     "output_type": "stream",
     "text": [
      "Logistic Regression Accuracy:  0.9238095238095239\n",
      "Logistic Regression Precision:  0.923728813559322\n",
      "Logistic Regression Recall:  1.0\n"
     ]
    }
   ],
   "source": [
    "from sklearn import metrics\n",
    "\n",
    "predicted = pipe.predict(X_test)\n",
    "\n",
    "print(\"Logistic Regression Accuracy: \", metrics.accuracy_score(y_test, predicted))\n",
    "print(\"Logistic Regression Precision: \", metrics.precision_score(y_test, predicted))\n",
    "print(\"Logistic Regression Recall: \", metrics.recall_score(y_test, predicted))"
   ]
  },
  {
   "cell_type": "markdown",
   "metadata": {},
   "source": [
    "***Questions***:\n",
    "\n",
    "1. How this can be executed in HPC, e.g. training a new model for the corpus?\n",
    "2. Is there a maximum lenght for the spacy object nlp?\n",
    "3. Can we use the Noun Phrase to clean the text?"
   ]
  },
  {
   "cell_type": "code",
   "execution_count": null,
   "metadata": {},
   "outputs": [],
   "source": []
  }
 ],
 "metadata": {
  "kernelspec": {
   "display_name": "Python 3",
   "language": "python",
   "name": "python3"
  },
  "language_info": {
   "codemirror_mode": {
    "name": "ipython",
    "version": 3
   },
   "file_extension": ".py",
   "mimetype": "text/x-python",
   "name": "python",
   "nbconvert_exporter": "python",
   "pygments_lexer": "ipython3",
   "version": "3.7.3"
  }
 },
 "nbformat": 4,
 "nbformat_minor": 2
}
